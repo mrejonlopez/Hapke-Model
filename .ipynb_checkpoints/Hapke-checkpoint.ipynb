{
 "cells": [
  {
   "cell_type": "code",
   "execution_count": 1,
   "id": "70276b12",
   "metadata": {},
   "outputs": [],
   "source": [
    "import numpy as np\n",
    "import matplotlib.pyplot as plt\n"
   ]
  },
  {
   "cell_type": "code",
   "execution_count": 3,
   "id": "dce0f489",
   "metadata": {},
   "outputs": [],
   "source": [
    "# SINGLE SCATTERING ALBEDO FUNCTION\n",
    "\n",
    "def singleScatteringAlbedo(n, k, wavelength, D, internalScattering=False):\n",
    "    \n",
    "    \"\"\"\n",
    "    n & k: optical constants\n",
    "    wavelength: wavelength in microns\n",
    "    D: particle mean size\n",
    "    internalScattering: boolean\n",
    "    \n",
    "    \"\"\"\n",
    "    \n",
    "    Si = 1 - (4 / (n * (n + 1)**2))\n",
    "    Se = ((n - 1)**2 + k**2) / ((n + 1)**2 + k**2) + 0.05\n",
    "    \n",
    "    # absorption coefficient multiplied by a factor pi\n",
    "    alpha = (4 * np.pi * k) / (wavelength * 10**(-6))\n",
    "    \n",
    "    if internalScattering == False:\n",
    "        s = 0\n",
    "    elif internalScattering == True:\n",
    "        s = 10000  # cm^(-1)\n",
    "        s = 1 / ((1 / s) * 10**(-2))  # m^(-1)\n",
    "    \n",
    "    Dmodif = (2 / 3) * (n**2 - (1 / n) * (n**2 - 1)**(3 / 2)) * D\n",
    "    r_i = (1 - np.sqrt(alpha / (alpha + s))) / (1 + np.sqrt(alpha / (alpha + s)))\n",
    "    Theta = (r_i + np.exp(-np.sqrt(alpha * (alpha + s)) * Dmodif)) / (1 + r_i * np.exp(-np.sqrt(alpha * (alpha + s)) * Dmodif))\n",
    "    \n",
    "    # calculation of the single scattering albedo\n",
    "    w = Se + (1 - Se) * ((1 - Si) / (1 - Si * Theta)) * Theta\n",
    "    \n",
    "    return w"
   ]
  },
  {
   "cell_type": "code",
   "execution_count": null,
   "id": "5fda8d02",
   "metadata": {},
   "outputs": [],
   "source": [
    "def CBOE(B_C0, MeanFreePath, wavelength, g, K):\n",
    "    \n",
    "    \"\"\"\n",
    "    B_C0: amplitude coefficient of CBOE\n",
    "    g: phase angle in rad\n",
    "    wavelength: wavelength in microns\n",
    "    MeanFreePath: \n",
    "    K: boolean\n",
    "    \n",
    "    \"\"\"\n",
    "    \n",
    "    # Angular width of CBOE\n",
    "    h_C = (wavelength * 10**(-6)) / (4 * np.pi * transportMeanFreePath)\n",
    "    \n",
    "    # B_C = (1 + (1 - exp(-tan(g/2)/h_C))/(tan(g/2)/h_C))/(2*(1 + tan(g/2)/h_C)^2)\n",
    "    B_C = (1 + (1 - np.exp(-1.42 * K * np.tan(g/2) / h_C)) / (np.tan(g/2) / h_C)) / ((1 + np.tan(g/2) / h_C)**2) / (1 + 1.42 * K)\n",
    "       \n",
    "    B_CB = 1 + B_C0 * B_C\n",
    "    \n",
    "    return B_CB"
   ]
  },
  {
   "cell_type": "code",
   "execution_count": null,
   "id": "e3ceb7d8",
   "metadata": {},
   "outputs": [],
   "source": []
  }
 ],
 "metadata": {
  "kernelspec": {
   "display_name": "Python 3 (ipykernel)",
   "language": "python",
   "name": "python3"
  },
  "language_info": {
   "codemirror_mode": {
    "name": "ipython",
    "version": 3
   },
   "file_extension": ".py",
   "mimetype": "text/x-python",
   "name": "python",
   "nbconvert_exporter": "python",
   "pygments_lexer": "ipython3",
   "version": "3.11.3"
  }
 },
 "nbformat": 4,
 "nbformat_minor": 5
}
