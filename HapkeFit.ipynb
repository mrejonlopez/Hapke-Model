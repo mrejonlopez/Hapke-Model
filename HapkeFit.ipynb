{
 "cells": [
  {
   "cell_type": "code",
   "execution_count": null,
   "outputs": [],
   "source": [
    "import numpy as np\n",
    "import hapke\n",
    "import matplotlib\n",
    "matplotlib.use('Qt5Agg')\n",
    "import matplotlib.pyplot as plt\n",
    "from scipy import optimize\n",
    "from mpl_toolkits import mplot3d\n",
    "from scipy.interpolate import interp1d\n",
    "from pyvims import VIMS\n",
    "from pyvims.misc import MAPS\n",
    "import random\n",
    "from pyvims.misc import Map\n",
    "from mpl_toolkits.axes_grid1.inset_locator import inset_axes\n",
    "import matplotlib.patches as patches\n",
    "from matplotlib.patches import Polygon\n",
    "from pathlib import Path\n",
    "from pyvims.wget import wget\n",
    "plt.rcParams.update({'font.size': 12})"
   ],
   "metadata": {
    "collapsed": false
   }
  },
  {
   "cell_type": "markdown",
   "source": [
    "Load cube (using hapke.retrieve_cube) and optical constants (hapke.opticalconstants)"
   ],
   "metadata": {
    "collapsed": false
   }
  },
  {
   "cell_type": "code",
   "execution_count": null,
   "outputs": [],
   "source": [
    "cube_id = '1741554947_1'\n",
    "\n",
    "cube = hapke.retrieve_cube(cube_id)\n",
    "\n",
    "T = 120\n",
    "N = 10\n",
    "\n",
    "opt_c = hapke.opticalconstants(T,sensitivity = N)\n",
    "n_c = opt_c['n']\n",
    "k_c = opt_c['k']\n",
    "wav_c = opt_c['wav']\n",
    "\n",
    "opt_a = hapke.opticalconstants(T, sensitivity= N,crystallinity=False)\n",
    "n_a = opt_a['n']\n",
    "k_a = opt_a['k']\n",
    "wav_a = opt_a['wav']\n",
    "\n",
    "int_opt = hapke.inter_optical_constants(wav_c, wav_a, n_c, k_c)\n",
    "\n",
    "wav = np.array(int_opt['wav'])\n",
    "n_c = int_opt['n']\n",
    "k_c = int_opt['k']\n"
   ],
   "metadata": {
    "collapsed": false
   }
  },
  {
   "cell_type": "code",
   "execution_count": null,
   "outputs": [],
   "source": [
    "bg = MAPS[cube.target_name]\n",
    "fig, ax = bg.figure(figsize=(20, 10))\n",
    "\n",
    "ax.add_collection(cube.pixels(2.03, vmin=.05, vmax=.18))\n",
    "plt.show()"
   ],
   "metadata": {
    "collapsed": false
   }
  },
  {
   "cell_type": "code",
   "execution_count": null,
   "outputs": [],
   "source": [
    "pixel = cube.get_pixel(60,30)\n",
    "\n",
    "ax = hapke.plot_pixel_equi(2.03,cube,[(pixel.s,pixel.l)],background=False)\n",
    "\n",
    "plt.show()"
   ],
   "metadata": {
    "collapsed": false
   }
  },
  {
   "cell_type": "code",
   "execution_count": null,
   "outputs": [],
   "source": [
    "pixel1 = cube.get_pixel(60,30)\n",
    "e, i, phase = [np.deg2rad(pixel1.eme),np.deg2rad(pixel1.inc),np.deg2rad(pixel1.phase)]\n",
    "\n",
    "\n",
    "angles = [e,i,phase]\n",
    "IF1 = pixel1.spectrum\n",
    "wav1 = pixel1.wvlns\n",
    "ini_par = [0.5, 0.00007,0.1]\n",
    "\n",
    "body = cube.target_name\n",
    "\n",
    "optimized_parameters = optimize.least_squares(\n",
    "    hapke.cost_function_mixed_no_weight, ini_par, args=(wav, angles, IF1, wav1,n_c,k_c,n_a,k_a,3.2,body), bounds=([0.001,0.000001,0.001], [0.74,0.001,1], ), x_scale='jac',\n",
    ")\n",
    "\n",
    "optimized_values = optimized_parameters.x\n",
    "hapke.print_error_correlation(optimized_parameters)\n",
    "\n",
    "print('')\n",
    "print('Longitude: ' + str(pixel1.lon))\n",
    "print('Latitude: ' + str(pixel1.lat))\n",
    "print('Phase: ' + str(pixel1.phase))"
   ],
   "metadata": {
    "collapsed": false
   }
  },
  {
   "cell_type": "markdown",
   "source": [
    "This cell below created 20 randomly generated initial parameters and store the results of the fits on a dictionary fit_dict. The variable count adds one every time a set of generated initial parameters leads to the same solution than the previous one."
   ],
   "metadata": {
    "collapsed": false
   }
  },
  {
   "cell_type": "code",
   "execution_count": 20,
   "outputs": [
    {
     "name": "stdout",
     "output_type": "stream",
     "text": [
      "[1.00000000e-05 6.13086131e-05 5.73125082e-01]\n",
      "20\n"
     ]
    }
   ],
   "source": [
    "fit_dict = {}\n",
    "count = 0\n",
    "n_fits = 20\n",
    "\n",
    "for i in range(n_fits):\n",
    "    param = [random.random()*0.74,random.random()*0.001,random.random()]\n",
    "    optimized_parameters = optimize.least_squares(\n",
    "        hapke.cost_function_mixed_no_weight, param, args=(wav, angles, IF1, wav1,n_c,k_c,n_a,k_a,3.2,body), bounds=([0.00001,0.000001,0], [0.74,0.001,1], ),\n",
    "    )\n",
    "\n",
    "    fit_dict[i] = {'x': optimized_parameters.x, 'cost': optimized_parameters.cost}\n",
    "\n",
    "    if i == 0:\n",
    "\n",
    "        opt_param =  optimized_parameters.x\n",
    "        opt_cost = optimized_parameters.cost\n",
    "        count += 1\n",
    "        print(optimized_parameters.x)\n",
    "\n",
    "    elif i >= i:\n",
    "\n",
    "        rel_er1 = abs(opt_param[0] - optimized_parameters.x[0]) / opt_param[0]\n",
    "        rel_er2 = abs(opt_param[1] - optimized_parameters.x[1]) / opt_param[1]\n",
    "        rel_er3 =abs(opt_param[2] - optimized_parameters.x[2]) / opt_param[2]\n",
    "\n",
    "        if rel_er1 > 0.0001 or rel_er2 > 0.0001 or rel_er3 > 0.0001:\n",
    "            print('PARAMETERS CHANGED')\n",
    "            best_fit =  optimized_parameters\n",
    "            print(optimized_parameters.x)\n",
    "        else:\n",
    "            count += 1\n",
    "print(count)"
   ],
   "metadata": {
    "collapsed": false,
    "ExecuteTime": {
     "end_time": "2023-08-07T15:38:06.144099500Z",
     "start_time": "2023-08-07T15:37:29.189669400Z"
    }
   }
  },
  {
   "cell_type": "code",
   "execution_count": null,
   "outputs": [],
   "source": [
    "print(fit_dict)"
   ],
   "metadata": {
    "collapsed": false
   }
  },
  {
   "cell_type": "code",
   "execution_count": null,
   "outputs": [],
   "source": [
    "optimized_values = optimized_parameters.x\n",
    "\n",
    "old_hapke = hapke.hapke_model_mixed(ini_par,wav, angles, n_c,k_c,n_a,k_a,body)['IF']\n",
    "\n",
    "new_hapke = hapke.hapke_model_mixed(optimized_parameters.x,wav, angles, n_c,k_c,n_a,k_a,body)['IF']\n",
    "\n",
    "fig, ax = plt.subplots(figsize = (8,3))\n",
    "ax.plot(wav, old_hapke, label = 'Hapke Initial')\n",
    "ax.plot(wav, new_hapke, label = 'Hapke Optimized')\n",
    "ax.plot(wav1, IF1, label = 'Pixel')\n",
    "ax.set_xlabel('Wavelength [$\\mu$m]')\n",
    "ax.set_ylabel('I/F')\n",
    "ax.set_xlim(1.1,3.2)\n",
    "ax.set_title('')\n",
    "ax.legend()\n",
    "plt.show()"
   ],
   "metadata": {
    "collapsed": false
   }
  },
  {
   "cell_type": "code",
   "execution_count": null,
   "outputs": [],
   "source": [
    "plt.figure(figsize=(12, 8))\n",
    "\n",
    "plt.imshow(cube@2.03, extent=cube.extent, cmap='gray', vmin=0, vmax=.18)\n",
    "\n",
    "plt.colorbar(extend='max', label='I/F')\n",
    "\n",
    "plt.scatter(27, 30, s=150)\n",
    "\n",
    "plt.xlabel(cube.slabel)\n",
    "plt.ylabel(cube.llabel)\n",
    "\n",
    "plt.xticks(cube.sticks)\n",
    "plt.yticks(cube.lticks)\n",
    "plt.show()"
   ],
   "metadata": {
    "collapsed": false
   }
  },
  {
   "cell_type": "markdown",
   "source": [
    "These coming two cells plot the surface response: the residuals compared to the spectrum taken by VIMS. Note that wa1 and IF1 need to be defined beforehand and that the function hapke_mixed needs to be changes to be 2D in parameters"
   ],
   "metadata": {
    "collapsed": false
   }
  },
  {
   "cell_type": "code",
   "execution_count": null,
   "outputs": [],
   "source": [
    "# SURFACE RESPONSE OF ENCELADUS SPECTRA\n",
    "\n",
    "real_par = [0.51,0.00007]\n",
    "\n",
    "m_range = np.linspace(0.001,1,30)\n",
    "phi_range = np.linspace(0.001,0.74,30)\n",
    "\n",
    "residuals = np.zeros((len(phi_range),len(m_range)))\n",
    "\n",
    "\n",
    "interp_func_2 = interp1d(wav1, IF1, bounds_error=False)\n",
    "\n",
    "interpolated_lab = interp_func_2(wav)\n",
    "\n",
    "for i in range(len(phi_range)):\n",
    "    for j in range(len(m_range)):\n",
    "        param = [phi_range[i], m_range[j]]\n",
    "        dif = (interpolated_lab - hapke.hapke_model_mixed(param,wav,angles,n_c,k_c,n_a,k_a,body)['IF'])\n",
    "        dif = dif[~np.isnan(dif)]\n",
    "        residuals[i,j] = np.linalg.norm(dif)"
   ],
   "metadata": {
    "collapsed": false
   }
  },
  {
   "cell_type": "code",
   "execution_count": null,
   "outputs": [],
   "source": [
    "# 3D PLOT OF THE SURFACE RESPONSE\n",
    "\n",
    "phi_range, m_range = np.meshgrid(phi_range, m_range)\n",
    "# Define the data\n",
    "\n",
    "# Create a 3D plot\n",
    "fig = plt.figure(figsize = (4,4))\n",
    "ax = fig.add_subplot(111, projection='3d')\n",
    "ax.plot_surface(phi_range, m_range, residuals.T, cmap='viridis')\n",
    "ax.scatter(0.16933,0.502, c = 'green', label = 'Real solution' )\n",
    "ax.legend()\n",
    "ax.set_xlabel(r'$\\phi$ [-]')\n",
    "ax.set_ylabel(r'$m$ [-]')\n",
    "ax.set_zlabel('Residuals')\n",
    "# Show the plot\n",
    "plt.show()"
   ],
   "metadata": {
    "collapsed": false
   }
  }
 ],
 "metadata": {
  "kernelspec": {
   "display_name": "Python 3 (ipykernel)",
   "language": "python",
   "name": "python3"
  },
  "language_info": {
   "codemirror_mode": {
    "name": "ipython",
    "version": 3
   },
   "file_extension": ".py",
   "mimetype": "text/x-python",
   "name": "python",
   "nbconvert_exporter": "python",
   "pygments_lexer": "ipython3",
   "version": "3.11.3"
  }
 },
 "nbformat": 4,
 "nbformat_minor": 5
}
