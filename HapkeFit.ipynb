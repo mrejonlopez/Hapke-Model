{
 "cells": [
  {
   "cell_type": "code",
   "execution_count": null,
   "outputs": [],
   "source": [
    "import numpy as np\n",
    "import hapke\n",
    "import matplotlib\n",
    "matplotlib.use('Qt5Agg')\n",
    "import matplotlib.pyplot as plt\n",
    "from scipy import optimize\n",
    "from mpl_toolkits import mplot3d\n",
    "from scipy.interpolate import interp1d\n",
    "from pyvims import VIMS\n",
    "from pyvims.misc import MAPS\n",
    "import random\n",
    "from pyvims.misc import Map\n",
    "from mpl_toolkits.axes_grid1.inset_locator import inset_axes\n",
    "import matplotlib.patches as patches\n",
    "from matplotlib.patches import Polygon\n",
    "from pathlib import Path\n",
    "from pyvims.wget import wget\n",
    "plt.rcParams.update({'font.size': 12})"
   ],
   "metadata": {
    "collapsed": false
   }
  },
  {
   "cell_type": "markdown",
   "source": [
    "Load cube (using hapke.retrieve_cube) and optical constants (hapke.opticalconstants)"
   ],
   "metadata": {
    "collapsed": false
   }
  },
  {
   "cell_type": "code",
   "execution_count": null,
   "outputs": [],
   "source": [
    "file_path = 'C:/Users/USUARIO/Desktop/MSc Thesis/Phase A - Data Analysis/Data/Rhea/R2.txt'\n",
    "try:\n",
    "    with open(file_path, 'r') as file:\n",
    "        # Read the entire file content into a single string\n",
    "        file_contents = file.read()\n",
    "\n",
    "        # Split the string by spaces to create a list of values\n",
    "        ids = file_contents.split()\n",
    "\n",
    "except FileNotFoundError:\n",
    "    print(f\"The file '{file_path}' was not found.\")\n",
    "except Exception as e:\n",
    "    print(f\"An error occurred: {str(e)}\")\n",
    "cubes_R2 = {}\n",
    "for id in ids:\n",
    "    cubes_R2[id] = VIMS(id, root='C:/Users/USUARIO/Desktop/MSc Thesis/Phase A - Data Analysis/Data/Rhea/R4',download=False)\n",
    "print(cubes_R2)"
   ],
   "metadata": {
    "collapsed": false
   }
  },
  {
   "cell_type": "code",
   "execution_count": null,
   "outputs": [],
   "source": [
    "is_pixel = []\n",
    "pixel = []\n",
    "\n",
    "for key in cubes_R2.keys():\n",
    "\n",
    "    if cubes_R2[key].get_pixel(20,20) == None:\n",
    "        is_pixel.append(False)\n",
    "        pixel.append(None)\n",
    "    else:\n",
    "        is_pixel.append(True)\n",
    "        pixel.append(cubes_R2[key].get_pixel(20,20))\n"
   ],
   "metadata": {
    "collapsed": false
   }
  },
  {
   "cell_type": "code",
   "execution_count": null,
   "outputs": [],
   "source": [
    "for p in range(len(pixel)):\n",
    "    if is_pixel[p]:\n",
    "        ax = hapke.plot_pixel_equi(2.03,cubes_R2[ids[p]],[(pixel[p].s,pixel[p].l)],background=False)\n"
   ],
   "metadata": {
    "collapsed": false
   }
  },
  {
   "cell_type": "code",
   "execution_count": 47,
   "outputs": [
    {
     "name": "stdout",
     "output_type": "stream",
     "text": [
      "[1.50332919e+00 3.46502826e-06]\n",
      "Parameter 1: 1.5033291948639003 +/- 0.028678\n",
      "Parameter 2: 3.4650282559410565e-06 +/- 0.000005\n",
      "\n",
      "Cost = 36.031151220612415\n",
      "\n",
      "Correlation matrix:\n",
      "[[ 1.         -0.74622334]\n",
      " [-0.74622334  1.        ]]\n",
      "[7.08134520e-01 7.68180958e-05]\n",
      "Parameter 1: 0.7081345195943879 +/- 0.106548\n",
      "Parameter 2: 7.681809581952608e-05 +/- 0.000018\n",
      "\n",
      "Cost = 2.4324897526730402\n",
      "\n",
      "Correlation matrix:\n",
      "[[ 1.         -0.64542637]\n",
      " [-0.64542637  1.        ]]\n",
      "[6.95497763e-01 7.69126428e-05]\n",
      "Parameter 1: 0.6954977628097244 +/- 0.109388\n",
      "Parameter 2: 7.691264277472667e-05 +/- 0.000018\n",
      "\n",
      "Cost = 2.472429567927128\n",
      "\n",
      "Correlation matrix:\n",
      "[[ 1.        -0.6460203]\n",
      " [-0.6460203  1.       ]]\n",
      "[6.97241642e-01 7.75157416e-05]\n",
      "Parameter 1: 0.6972416419242473 +/- 0.113672\n",
      "Parameter 2: 7.751574155246294e-05 +/- 0.000019\n",
      "\n",
      "Cost = 2.564209435636377\n",
      "\n",
      "Correlation matrix:\n",
      "[[ 1.         -0.65041439]\n",
      " [-0.65041439  1.        ]]\n",
      "[9.73741410e-01 6.08123988e-05]\n",
      "Parameter 1: 0.9737414097107752 +/- 0.069325\n",
      "Parameter 2: 6.081239875185027e-05 +/- 0.000015\n",
      "\n",
      "Cost = 7.02373831944568\n",
      "\n",
      "Correlation matrix:\n",
      "[[ 1.         -0.58400775]\n",
      " [-0.58400775  1.        ]]\n",
      "[1.03272979e+00 5.70015970e-05]\n",
      "Parameter 1: 1.032729788136523 +/- 0.078080\n",
      "Parameter 2: 5.700159695988914e-05 +/- 0.000015\n",
      "\n",
      "Cost = 7.637940420577944\n",
      "\n",
      "Correlation matrix:\n",
      "[[ 1.         -0.57905967]\n",
      " [-0.57905967  1.        ]]\n",
      "[7.04633162e-01 8.48688042e-05]\n",
      "Parameter 1: 0.7046331616311563 +/- 0.122501\n",
      "Parameter 2: 8.486880418116854e-05 +/- 0.000020\n",
      "\n",
      "Cost = 2.446770460303861\n",
      "\n",
      "Correlation matrix:\n",
      "[[ 1.         -0.63299293]\n",
      " [-0.63299293  1.        ]]\n"
     ]
    },
    {
     "name": "stderr",
     "output_type": "stream",
     "text": [
      "C:\\Users\\USUARIO\\PycharmProjects\\pythonProject\\hapke.py:438: RuntimeWarning: invalid value encountered in log\n",
      "  multipleScattering = (1 - w * x * (r_0 + ((1 - 2 * r_0 * x) / 2) * np.log((1 + x) / x))) ** (-1)\n"
     ]
    },
    {
     "name": "stdout",
     "output_type": "stream",
     "text": [
      "[1.52866332e+00 3.32076108e-06]\n",
      "Parameter 1: 1.5286633191532566 +/- 0.012289\n",
      "Parameter 2: 3.3207610758028665e-06 +/- 0.000004\n",
      "\n",
      "Cost = 34.99370846725622\n",
      "\n",
      "Correlation matrix:\n",
      "[[ 1.         -0.68302847]\n",
      " [-0.68302847  1.        ]]\n",
      "[6.98563448e-01 8.54890818e-05]\n",
      "Parameter 1: 0.6985634484410228 +/- 0.123786\n",
      "Parameter 2: 8.54890818184264e-05 +/- 0.000020\n",
      "\n",
      "Cost = 2.477397574747878\n",
      "\n",
      "Correlation matrix:\n",
      "[[ 1.         -0.63487719]\n",
      " [-0.63487719  1.        ]]\n",
      "[1.50572791e+00 6.56261309e-06]\n",
      "Parameter 1: 1.505727912961114 +/- 0.018362\n",
      "Parameter 2: 6.562613092636686e-06 +/- 0.000005\n",
      "\n",
      "Cost = 31.507818645023352\n",
      "\n",
      "Correlation matrix:\n",
      "[[ 1.        -0.6865828]\n",
      " [-0.6865828  1.       ]]\n",
      "[6.98916086e-01 8.46747914e-05]\n",
      "Parameter 1: 0.6989160864926174 +/- 0.121857\n",
      "Parameter 2: 8.46747914394527e-05 +/- 0.000020\n",
      "\n",
      "Cost = 2.423628641040016\n",
      "\n",
      "Correlation matrix:\n",
      "[[ 1.         -0.63361827]\n",
      " [-0.63361827  1.        ]]\n",
      "[1.49776204e+00 8.13596924e-06]\n",
      "Parameter 1: 1.4977620445129143 +/- 0.019839\n",
      "Parameter 2: 8.135969235731216e-06 +/- 0.000006\n",
      "\n",
      "Cost = 30.167922861663325\n",
      "\n",
      "Correlation matrix:\n",
      "[[ 1.         -0.68205807]\n",
      " [-0.68205807  1.        ]]\n",
      "[6.97043820e-01 8.45678579e-05]\n",
      "Parameter 1: 0.6970438200664121 +/- 0.122286\n",
      "Parameter 2: 8.456785786324446e-05 +/- 0.000020\n",
      "\n",
      "Cost = 2.401503817129347\n",
      "\n",
      "Correlation matrix:\n",
      "[[ 1.         -0.63931411]\n",
      " [-0.63931411  1.        ]]\n",
      "[1.50030677e+00 8.39078830e-06]\n",
      "Parameter 1: 1.500306768348006 +/- 0.018813\n",
      "Parameter 2: 8.390788302096484e-06 +/- 0.000006\n",
      "\n",
      "Cost = 30.373015444491017\n",
      "\n",
      "Correlation matrix:\n",
      "[[ 1.         -0.67699435]\n",
      " [-0.67699435  1.        ]]\n",
      "[6.97964213e-01 8.56863635e-05]\n",
      "Parameter 1: 0.697964212883736 +/- 0.122553\n",
      "Parameter 2: 8.56863634885358e-05 +/- 0.000020\n",
      "\n",
      "Cost = 2.455678245673317\n",
      "\n",
      "Correlation matrix:\n",
      "[[ 1.         -0.64220165]\n",
      " [-0.64220165  1.        ]]\n",
      "[1.49659809e+00 8.88073023e-06]\n",
      "Parameter 1: 1.496598086565304 +/- 0.019639\n",
      "Parameter 2: 8.880730226419354e-06 +/- 0.000006\n",
      "\n",
      "Cost = 29.857066739754192\n",
      "\n",
      "Correlation matrix:\n",
      "[[ 1.         -0.67537599]\n",
      " [-0.67537599  1.        ]]\n",
      "[6.96432407e-01 8.64692156e-05]\n",
      "Parameter 1: 0.6964324070924749 +/- 0.122303\n",
      "Parameter 2: 8.6469215623051e-05 +/- 0.000020\n",
      "\n",
      "Cost = 2.493930757688181\n",
      "\n",
      "Correlation matrix:\n",
      "[[ 1.         -0.64180027]\n",
      " [-0.64180027  1.        ]]\n",
      "[1.49810003e+00 8.84022488e-06]\n",
      "Parameter 1: 1.4981000339307888 +/- 0.019179\n",
      "Parameter 2: 8.840224884475884e-06 +/- 0.000006\n",
      "\n",
      "Cost = 29.982711750333028\n",
      "\n",
      "Correlation matrix:\n",
      "[[ 1.         -0.67551028]\n",
      " [-0.67551028  1.        ]]\n",
      "[7.15969536e-01 8.53659685e-05]\n",
      "Parameter 1: 0.7159695361262639 +/- 0.140399\n",
      "Parameter 2: 8.536596845888861e-05 +/- 0.000021\n",
      "\n",
      "Cost = 2.469591788955754\n",
      "\n",
      "Correlation matrix:\n",
      "[[ 1.         -0.67710419]\n",
      " [-0.67710419  1.        ]]\n",
      "[6.92341805e-01 8.78688232e-05]\n",
      "Parameter 1: 0.692341804562341 +/- 0.125301\n",
      "Parameter 2: 8.786882324439889e-05 +/- 0.000021\n",
      "\n",
      "Cost = 2.577462942389814\n",
      "\n",
      "Correlation matrix:\n",
      "[[ 1.         -0.64473447]\n",
      " [-0.64473447  1.        ]]\n",
      "[6.93003176e-01 8.65429651e-05]\n",
      "Parameter 1: 0.6930031759122549 +/- 0.124182\n",
      "Parameter 2: 8.654296506815511e-05 +/- 0.000020\n",
      "\n",
      "Cost = 2.461078415909058\n",
      "\n",
      "Correlation matrix:\n",
      "[[ 1.         -0.64376467]\n",
      " [-0.64376467  1.        ]]\n"
     ]
    },
    {
     "ename": "KeyboardInterrupt",
     "evalue": "",
     "output_type": "error",
     "traceback": [
      "\u001B[1;31m---------------------------------------------------------------------------\u001B[0m",
      "\u001B[1;31mKeyboardInterrupt\u001B[0m                         Traceback (most recent call last)",
      "Cell \u001B[1;32mIn[47], line 43\u001B[0m\n\u001B[0;32m     38\u001B[0m         D_fit\u001B[38;5;241m.\u001B[39mappend(fits[ids[p]]\u001B[38;5;241m.\u001B[39mx[\u001B[38;5;241m1\u001B[39m])\n\u001B[0;32m     39\u001B[0m         theta_fit\u001B[38;5;241m.\u001B[39mappend(fits[ids[p]]\u001B[38;5;241m.\u001B[39mx[\u001B[38;5;241m0\u001B[39m])\n\u001B[1;32m---> 43\u001B[0m \u001B[43mplt\u001B[49m\u001B[38;5;241;43m.\u001B[39;49m\u001B[43mshow\u001B[49m\u001B[43m(\u001B[49m\u001B[43m)\u001B[49m\n",
      "File \u001B[1;32m~\\AppData\\Local\\Programs\\Python\\Python311\\Lib\\site-packages\\matplotlib\\pyplot.py:421\u001B[0m, in \u001B[0;36mshow\u001B[1;34m(*args, **kwargs)\u001B[0m\n\u001B[0;32m    377\u001B[0m \u001B[38;5;250m\u001B[39m\u001B[38;5;124;03m\"\"\"\u001B[39;00m\n\u001B[0;32m    378\u001B[0m \u001B[38;5;124;03mDisplay all open figures.\u001B[39;00m\n\u001B[0;32m    379\u001B[0m \n\u001B[1;32m   (...)\u001B[0m\n\u001B[0;32m    418\u001B[0m \u001B[38;5;124;03mexplicitly there.\u001B[39;00m\n\u001B[0;32m    419\u001B[0m \u001B[38;5;124;03m\"\"\"\u001B[39;00m\n\u001B[0;32m    420\u001B[0m _warn_if_gui_out_of_main_thread()\n\u001B[1;32m--> 421\u001B[0m \u001B[38;5;28;01mreturn\u001B[39;00m \u001B[43m_get_backend_mod\u001B[49m\u001B[43m(\u001B[49m\u001B[43m)\u001B[49m\u001B[38;5;241;43m.\u001B[39;49m\u001B[43mshow\u001B[49m\u001B[43m(\u001B[49m\u001B[38;5;241;43m*\u001B[39;49m\u001B[43margs\u001B[49m\u001B[43m,\u001B[49m\u001B[43m \u001B[49m\u001B[38;5;241;43m*\u001B[39;49m\u001B[38;5;241;43m*\u001B[39;49m\u001B[43mkwargs\u001B[49m\u001B[43m)\u001B[49m\n",
      "File \u001B[1;32m~\\AppData\\Local\\Programs\\Python\\Python311\\Lib\\site-packages\\matplotlib\\backend_bases.py:3554\u001B[0m, in \u001B[0;36m_Backend.show\u001B[1;34m(cls, block)\u001B[0m\n\u001B[0;32m   3552\u001B[0m     block \u001B[38;5;241m=\u001B[39m \u001B[38;5;129;01mnot\u001B[39;00m ipython_pylab \u001B[38;5;129;01mand\u001B[39;00m \u001B[38;5;129;01mnot\u001B[39;00m is_interactive()\n\u001B[0;32m   3553\u001B[0m \u001B[38;5;28;01mif\u001B[39;00m block:\n\u001B[1;32m-> 3554\u001B[0m     \u001B[38;5;28;43mcls\u001B[39;49m\u001B[38;5;241;43m.\u001B[39;49m\u001B[43mmainloop\u001B[49m\u001B[43m(\u001B[49m\u001B[43m)\u001B[49m\n",
      "File \u001B[1;32m~\\AppData\\Local\\Programs\\Python\\Python311\\Lib\\site-packages\\matplotlib\\backends\\backend_qt.py:1021\u001B[0m, in \u001B[0;36m_BackendQT.mainloop\u001B[1;34m()\u001B[0m\n\u001B[0;32m   1018\u001B[0m \u001B[38;5;129m@staticmethod\u001B[39m\n\u001B[0;32m   1019\u001B[0m \u001B[38;5;28;01mdef\u001B[39;00m \u001B[38;5;21mmainloop\u001B[39m():\n\u001B[0;32m   1020\u001B[0m     qapp \u001B[38;5;241m=\u001B[39m QtWidgets\u001B[38;5;241m.\u001B[39mQApplication\u001B[38;5;241m.\u001B[39minstance()\n\u001B[1;32m-> 1021\u001B[0m \u001B[43m    \u001B[49m\u001B[38;5;28;43;01mwith\u001B[39;49;00m\u001B[43m \u001B[49m\u001B[43m_maybe_allow_interrupt\u001B[49m\u001B[43m(\u001B[49m\u001B[43mqapp\u001B[49m\u001B[43m)\u001B[49m\u001B[43m:\u001B[49m\n\u001B[0;32m   1022\u001B[0m \u001B[43m        \u001B[49m\u001B[43mqt_compat\u001B[49m\u001B[38;5;241;43m.\u001B[39;49m\u001B[43m_exec\u001B[49m\u001B[43m(\u001B[49m\u001B[43mqapp\u001B[49m\u001B[43m)\u001B[49m\n",
      "File \u001B[1;32m~\\AppData\\Local\\Programs\\Python\\Python311\\Lib\\contextlib.py:144\u001B[0m, in \u001B[0;36m_GeneratorContextManager.__exit__\u001B[1;34m(self, typ, value, traceback)\u001B[0m\n\u001B[0;32m    142\u001B[0m \u001B[38;5;28;01mif\u001B[39;00m typ \u001B[38;5;129;01mis\u001B[39;00m \u001B[38;5;28;01mNone\u001B[39;00m:\n\u001B[0;32m    143\u001B[0m     \u001B[38;5;28;01mtry\u001B[39;00m:\n\u001B[1;32m--> 144\u001B[0m         \u001B[38;5;28mnext\u001B[39m(\u001B[38;5;28mself\u001B[39m\u001B[38;5;241m.\u001B[39mgen)\n\u001B[0;32m    145\u001B[0m     \u001B[38;5;28;01mexcept\u001B[39;00m \u001B[38;5;167;01mStopIteration\u001B[39;00m:\n\u001B[0;32m    146\u001B[0m         \u001B[38;5;28;01mreturn\u001B[39;00m \u001B[38;5;28;01mFalse\u001B[39;00m\n",
      "File \u001B[1;32m~\\AppData\\Local\\Programs\\Python\\Python311\\Lib\\site-packages\\matplotlib\\backends\\qt_compat.py:269\u001B[0m, in \u001B[0;36m_maybe_allow_interrupt\u001B[1;34m(qapp)\u001B[0m\n\u001B[0;32m    267\u001B[0m signal\u001B[38;5;241m.\u001B[39msignal(signal\u001B[38;5;241m.\u001B[39mSIGINT, old_sigint_handler)\n\u001B[0;32m    268\u001B[0m \u001B[38;5;28;01mif\u001B[39;00m handler_args \u001B[38;5;129;01mis\u001B[39;00m \u001B[38;5;129;01mnot\u001B[39;00m \u001B[38;5;28;01mNone\u001B[39;00m:\n\u001B[1;32m--> 269\u001B[0m     \u001B[43mold_sigint_handler\u001B[49m\u001B[43m(\u001B[49m\u001B[38;5;241;43m*\u001B[39;49m\u001B[43mhandler_args\u001B[49m\u001B[43m)\u001B[49m\n",
      "\u001B[1;31mKeyboardInterrupt\u001B[0m: "
     ]
    }
   ],
   "source": [
    "IF = {}\n",
    "wav1 = {}\n",
    "angles = {}\n",
    "\n",
    "fits = {}\n",
    "angles = {}\n",
    "\n",
    "D_fit = []\n",
    "error_D = []\n",
    "theta_fit = []\n",
    "legend = []\n",
    "\n",
    "fig, ax = plt.subplots()\n",
    "ax.set_xlabel(r'Wavelength [$\\mu$m]')\n",
    "ax.set_ylabel('I/F')\n",
    "ax.set_title('')\n",
    "ax.set_xlim(1.1,3.3)\n",
    "ax.grid()\n",
    "\n",
    "ini_par = [0.7,0.00001]\n",
    "\n",
    "for p in range(len(pixel)):\n",
    "    if is_pixel[p]:\n",
    "        IF[ids[p]] = pixel[p].spectrum\n",
    "        wav1[ids[p]] = pixel[p].wvlns\n",
    "\n",
    "        angles[ids[p]] = [np.deg2rad(pixel[p].eme),np.deg2rad(pixel[p].inc),np.deg2rad(pixel[p].phase)]\n",
    "\n",
    "        fits[ids[p]] = optimized_parameters = optimize.least_squares(hapke.cost_function_mixed, ini_par, args=(wav, angles[ids[p]], IF[ids[p]], wav1[ids[p]],n_c,k_c,n_a,k_a,0,2.8)\n",
    "                                                                     )\n",
    "        print(fits[ids[p]].x)\n",
    "\n",
    "        ax.plot(wav1[ids[p]],IF[ids[p]])\n",
    "\n",
    "        error_D.append(hapke.print_error_correlation(fits[ids[p]])[1])\n",
    "\n",
    "        legend.append(ids[p])\n",
    "        D_fit.append(fits[ids[p]].x[1])\n",
    "        theta_fit.append(fits[ids[p]].x[0])\n",
    "\n",
    "\n",
    "\n",
    "plt.show()\n"
   ],
   "metadata": {
    "collapsed": false,
    "ExecuteTime": {
     "end_time": "2023-09-28T09:34:46.657743500Z",
     "start_time": "2023-09-28T09:33:39.627251300Z"
    }
   }
  },
  {
   "cell_type": "code",
   "execution_count": 49,
   "outputs": [
    {
     "name": "stderr",
     "output_type": "stream",
     "text": [
      "No artists with labels found to put in legend.  Note that artists whose label start with an underscore are ignored when legend() is called with no argument.\n"
     ]
    },
    {
     "ename": "KeyboardInterrupt",
     "evalue": "",
     "output_type": "error",
     "traceback": [
      "\u001B[1;31m---------------------------------------------------------------------------\u001B[0m",
      "\u001B[1;31mKeyboardInterrupt\u001B[0m                         Traceback (most recent call last)",
      "Cell \u001B[1;32mIn[49], line 10\u001B[0m\n\u001B[0;32m      7\u001B[0m ax\u001B[38;5;241m.\u001B[39mgrid()\n\u001B[0;32m      8\u001B[0m plt\u001B[38;5;241m.\u001B[39mlegend()\n\u001B[1;32m---> 10\u001B[0m \u001B[43mplt\u001B[49m\u001B[38;5;241;43m.\u001B[39;49m\u001B[43mshow\u001B[49m\u001B[43m(\u001B[49m\u001B[43m)\u001B[49m\n",
      "File \u001B[1;32m~\\AppData\\Local\\Programs\\Python\\Python311\\Lib\\site-packages\\matplotlib\\pyplot.py:421\u001B[0m, in \u001B[0;36mshow\u001B[1;34m(*args, **kwargs)\u001B[0m\n\u001B[0;32m    377\u001B[0m \u001B[38;5;250m\u001B[39m\u001B[38;5;124;03m\"\"\"\u001B[39;00m\n\u001B[0;32m    378\u001B[0m \u001B[38;5;124;03mDisplay all open figures.\u001B[39;00m\n\u001B[0;32m    379\u001B[0m \n\u001B[1;32m   (...)\u001B[0m\n\u001B[0;32m    418\u001B[0m \u001B[38;5;124;03mexplicitly there.\u001B[39;00m\n\u001B[0;32m    419\u001B[0m \u001B[38;5;124;03m\"\"\"\u001B[39;00m\n\u001B[0;32m    420\u001B[0m _warn_if_gui_out_of_main_thread()\n\u001B[1;32m--> 421\u001B[0m \u001B[38;5;28;01mreturn\u001B[39;00m \u001B[43m_get_backend_mod\u001B[49m\u001B[43m(\u001B[49m\u001B[43m)\u001B[49m\u001B[38;5;241;43m.\u001B[39;49m\u001B[43mshow\u001B[49m\u001B[43m(\u001B[49m\u001B[38;5;241;43m*\u001B[39;49m\u001B[43margs\u001B[49m\u001B[43m,\u001B[49m\u001B[43m \u001B[49m\u001B[38;5;241;43m*\u001B[39;49m\u001B[38;5;241;43m*\u001B[39;49m\u001B[43mkwargs\u001B[49m\u001B[43m)\u001B[49m\n",
      "File \u001B[1;32m~\\AppData\\Local\\Programs\\Python\\Python311\\Lib\\site-packages\\matplotlib\\backend_bases.py:3554\u001B[0m, in \u001B[0;36m_Backend.show\u001B[1;34m(cls, block)\u001B[0m\n\u001B[0;32m   3552\u001B[0m     block \u001B[38;5;241m=\u001B[39m \u001B[38;5;129;01mnot\u001B[39;00m ipython_pylab \u001B[38;5;129;01mand\u001B[39;00m \u001B[38;5;129;01mnot\u001B[39;00m is_interactive()\n\u001B[0;32m   3553\u001B[0m \u001B[38;5;28;01mif\u001B[39;00m block:\n\u001B[1;32m-> 3554\u001B[0m     \u001B[38;5;28;43mcls\u001B[39;49m\u001B[38;5;241;43m.\u001B[39;49m\u001B[43mmainloop\u001B[49m\u001B[43m(\u001B[49m\u001B[43m)\u001B[49m\n",
      "File \u001B[1;32m~\\AppData\\Local\\Programs\\Python\\Python311\\Lib\\site-packages\\matplotlib\\backends\\backend_qt.py:1021\u001B[0m, in \u001B[0;36m_BackendQT.mainloop\u001B[1;34m()\u001B[0m\n\u001B[0;32m   1018\u001B[0m \u001B[38;5;129m@staticmethod\u001B[39m\n\u001B[0;32m   1019\u001B[0m \u001B[38;5;28;01mdef\u001B[39;00m \u001B[38;5;21mmainloop\u001B[39m():\n\u001B[0;32m   1020\u001B[0m     qapp \u001B[38;5;241m=\u001B[39m QtWidgets\u001B[38;5;241m.\u001B[39mQApplication\u001B[38;5;241m.\u001B[39minstance()\n\u001B[1;32m-> 1021\u001B[0m \u001B[43m    \u001B[49m\u001B[38;5;28;43;01mwith\u001B[39;49;00m\u001B[43m \u001B[49m\u001B[43m_maybe_allow_interrupt\u001B[49m\u001B[43m(\u001B[49m\u001B[43mqapp\u001B[49m\u001B[43m)\u001B[49m\u001B[43m:\u001B[49m\n\u001B[0;32m   1022\u001B[0m \u001B[43m        \u001B[49m\u001B[43mqt_compat\u001B[49m\u001B[38;5;241;43m.\u001B[39;49m\u001B[43m_exec\u001B[49m\u001B[43m(\u001B[49m\u001B[43mqapp\u001B[49m\u001B[43m)\u001B[49m\n",
      "File \u001B[1;32m~\\AppData\\Local\\Programs\\Python\\Python311\\Lib\\contextlib.py:144\u001B[0m, in \u001B[0;36m_GeneratorContextManager.__exit__\u001B[1;34m(self, typ, value, traceback)\u001B[0m\n\u001B[0;32m    142\u001B[0m \u001B[38;5;28;01mif\u001B[39;00m typ \u001B[38;5;129;01mis\u001B[39;00m \u001B[38;5;28;01mNone\u001B[39;00m:\n\u001B[0;32m    143\u001B[0m     \u001B[38;5;28;01mtry\u001B[39;00m:\n\u001B[1;32m--> 144\u001B[0m         \u001B[38;5;28mnext\u001B[39m(\u001B[38;5;28mself\u001B[39m\u001B[38;5;241m.\u001B[39mgen)\n\u001B[0;32m    145\u001B[0m     \u001B[38;5;28;01mexcept\u001B[39;00m \u001B[38;5;167;01mStopIteration\u001B[39;00m:\n\u001B[0;32m    146\u001B[0m         \u001B[38;5;28;01mreturn\u001B[39;00m \u001B[38;5;28;01mFalse\u001B[39;00m\n",
      "File \u001B[1;32m~\\AppData\\Local\\Programs\\Python\\Python311\\Lib\\site-packages\\matplotlib\\backends\\qt_compat.py:269\u001B[0m, in \u001B[0;36m_maybe_allow_interrupt\u001B[1;34m(qapp)\u001B[0m\n\u001B[0;32m    267\u001B[0m signal\u001B[38;5;241m.\u001B[39msignal(signal\u001B[38;5;241m.\u001B[39mSIGINT, old_sigint_handler)\n\u001B[0;32m    268\u001B[0m \u001B[38;5;28;01mif\u001B[39;00m handler_args \u001B[38;5;129;01mis\u001B[39;00m \u001B[38;5;129;01mnot\u001B[39;00m \u001B[38;5;28;01mNone\u001B[39;00m:\n\u001B[1;32m--> 269\u001B[0m     \u001B[43mold_sigint_handler\u001B[49m\u001B[43m(\u001B[49m\u001B[38;5;241;43m*\u001B[39;49m\u001B[43mhandler_args\u001B[49m\u001B[43m)\u001B[49m\n",
      "\u001B[1;31mKeyboardInterrupt\u001B[0m: "
     ]
    }
   ],
   "source": [
    "fig, (ax) = plt.subplots()\n",
    "\n",
    "ax.errorbar(legend, np.array(D_fit)*1000000,yerr=np.array(error_D)*1000000, fmt='-o')\n",
    "ax.set_ylabel(r'D')\n",
    "\n",
    "ax.set_xlabel(r'Experiment')\n",
    "ax.grid()\n",
    "plt.legend()\n",
    "\n",
    "plt.show()"
   ],
   "metadata": {
    "collapsed": false,
    "ExecuteTime": {
     "end_time": "2023-09-28T09:35:44.357383800Z",
     "start_time": "2023-09-28T09:35:22.769961800Z"
    }
   }
  },
  {
   "cell_type": "code",
   "execution_count": null,
   "outputs": [],
   "source": [
    "#cube_id = '1741560738_11'\n",
    "#cube_id_2 = '1646250341_1'\n",
    "\n",
    "#cube = hapke.retrieve_cube(cube_id)\n",
    "#cube2 = hapke.retrieve_cube(cube_id_2)\n",
    "\n",
    "T = 120\n",
    "N = 20\n",
    "\n",
    "opt_c = hapke.opticalconstants(T,sensitivity = N)\n",
    "n_c = opt_c['n']\n",
    "k_c = opt_c['k']\n",
    "wav_c = opt_c['wav']\n",
    "\n",
    "opt_a = hapke.opticalconstants(T, sensitivity= N,crystallinity=False)\n",
    "n_a = opt_a['n']\n",
    "k_a = opt_a['k']\n",
    "wav_a = opt_a['wav']\n",
    "\n",
    "int_opt = hapke.inter_optical_constants(wav_c, wav_a, n_c, k_c)\n",
    "\n",
    "wav = np.array(int_opt['wav'])\n",
    "n_c = int_opt['n']\n",
    "k_c = int_opt['k']\n"
   ],
   "metadata": {
    "collapsed": false
   }
  },
  {
   "cell_type": "code",
   "execution_count": null,
   "outputs": [],
   "source": [
    "bg = MAPS[cube.target_name]\n",
    "fig, ax = bg.figure(figsize=(20, 10))\n",
    "\n",
    "ax.add_collection(cube.pixels(2.03, vmin=.05, vmax=.18))\n",
    "plt.show()"
   ],
   "metadata": {
    "collapsed": false
   }
  },
  {
   "cell_type": "code",
   "execution_count": null,
   "outputs": [],
   "source": [
    "pixel = cube.get_pixel(25,8)\n",
    "\n",
    "ax = hapke.plot_pixel_equi(2.03,cube,[(pixel.s,pixel.l)],background=True)\n",
    "\n",
    "plt.show()"
   ],
   "metadata": {
    "collapsed": false
   }
  },
  {
   "cell_type": "code",
   "execution_count": null,
   "outputs": [],
   "source": [
    "pixel1 = cube@(13, 50)\n",
    "\n",
    "e, i, phase = [np.deg2rad(pixel1.eme),np.deg2rad(pixel1.inc),np.deg2rad(pixel1.phase)]\n",
    "\n",
    "\n",
    "angles = [e,i,phase]\n",
    "IF1 = pixel1.spectrum\n",
    "wav1 = pixel1.wvlns\n",
    "ini_par = [0.1,0.00001]\n",
    "\n",
    "body = 0\n",
    "\n",
    "optimized_parameters = optimize.least_squares(\n",
    "    hapke.cost_function_mixed, ini_par, args=(wav, angles, IF1, wav1,n_c,k_c,n_a,k_a,0,2.8)\n",
    ")\n",
    "\n",
    "optimized_values = optimized_parameters.x\n",
    "hapke.print_error_correlation(optimized_parameters)\n",
    "\n",
    "print('')\n",
    "\n",
    "ini_mass = 0.1\n",
    "\n",
    "cryst_fit = optimize.least_squares(\n",
    "        hapke.cost_function_mixed_mass_fraction, ini_mass, args=(wav, angles, IF1, wav1,n_c,k_c,n_a,k_a,optimized_values,1.45,1.8,1.8), bounds=([0],[1]),\n",
    ")\n",
    "\n",
    "hapke.print_error_correlation(cryst_fit)\n",
    "\n",
    "print('1.2-1.65 RATIO: ' + str(hapke.crystallinity_coecient(IF1,wav1)))\n",
    "\n",
    "print('')\n",
    "print('Longitude: ' + str(pixel1.lon))\n",
    "print('Latitude: ' + str(pixel1.lat))\n",
    "print('Phase: ' + str(pixel1.phase))"
   ],
   "metadata": {
    "collapsed": false
   }
  },
  {
   "cell_type": "code",
   "execution_count": null,
   "outputs": [],
   "source": [
    "print(hapke.cryst_area(IF1,wav1)['area'])\n",
    "print(hapke.cryst_area(hapke.hapke_model_mixed(optimized_values, wav, angles, n_c, k_c, n_a, k_a)['IF'],wav)['area'])\n",
    "print(hapke.cryst_area(IF1,wav1)['area']/hapke.cryst_area(hapke.hapke_model_mixed(optimized_values, wav, angles, n_c, k_c, n_a, k_a)['IF'],wav)['area'])"
   ],
   "metadata": {
    "collapsed": false
   }
  },
  {
   "cell_type": "code",
   "execution_count": null,
   "outputs": [],
   "source": [
    "fig, ax = plt.subplots()\n",
    "ax.plot(wav1, IF1)\n",
    "ax.plot(wav, hapke.hapke_model_mixed(optimized_values, wav, angles, n_c, k_c, n_a, k_a)['IF'], ls = ':')\n",
    "ax.plot(wav, hapke.hapke_model_mixed_mass_fraction(cryst_fit.x, wav, angles, n_c, k_c, n_a, k_a,optimized_values)['IF'], ls = '-.')\n",
    "ax.set_xlabel(r'Wavelength [$\\mu$m]')\n",
    "ax.set_ylabel('I/F')\n",
    "ax.set_title('')\n",
    "ax.set_xlim(1.1,3.3)\n",
    "ax.grid()\n",
    "plt.legend(loc='center left', bbox_to_anchor=(1, 0.5))\n",
    "#ax.legend()\n",
    "plt.show()"
   ],
   "metadata": {
    "collapsed": false
   }
  },
  {
   "cell_type": "code",
   "execution_count": null,
   "outputs": [],
   "source": [
    "pixel1 = cube@(30,15)\n",
    "\n",
    "e, i, phase = [np.deg2rad(pixel1.eme),np.deg2rad(pixel1.inc),np.deg2rad(pixel1.phase)]\n",
    "\n",
    "\n",
    "angles = [e,i,phase]\n",
    "IF1 = pixel1.spectrum\n",
    "wav1 = pixel1.wvlns\n",
    "ini_par = [0.1,np.deg2rad(20),0.1,0.00005,0.5]\n",
    "\n",
    "body = cube.target_name\n",
    "\n",
    "optimized_parameters = optimize.least_squares(\n",
    "    hapke.cost_function_mixed_no_weight, ini_par, args=(wav, angles, IF1, wav1,n_c,k_c,n_a,k_a,1.5,1.85,body), bounds=([0.001,0,0,0,0], [1,np.deg2rad(44.9),0.74,0.001,1], ), x_scale='jac',\n",
    ")\n",
    "\n",
    "optimized_values = optimized_parameters.x\n",
    "hapke.print_error_correlation(optimized_parameters)\n",
    "\n",
    "print('')\n",
    "print('Longitude: ' + str(pixel1.lon))\n",
    "print('Latitude: ' + str(pixel1.lat))\n",
    "print('Phase: ' + str(pixel1.phase))"
   ],
   "metadata": {
    "collapsed": false
   }
  },
  {
   "cell_type": "markdown",
   "source": [
    "This cell below created 20 randomly generated initial parameters and store the results of the fits on a dictionary fit_dict. The variable count adds one every time a set of generated initial parameters leads to the same solution than the previous one."
   ],
   "metadata": {
    "collapsed": false
   }
  },
  {
   "cell_type": "code",
   "execution_count": null,
   "outputs": [],
   "source": [
    "fit_dict = {}\n",
    "count = 0\n",
    "n_fits = 20\n",
    "\n",
    "for i in range(n_fits):\n",
    "    param = [random.random()*0.74,random.random()*0.001,random.random()]\n",
    "    optimized_parameters = optimize.least_squares(\n",
    "        hapke.cost_function_mixed_no_weight, param, args=(wav, angles, IF1, wav1,n_c,k_c,n_a,k_a,0,2.8,body), bounds=([0.00001,0.000001,0], [0.74,0.001,1], ),\n",
    "    )\n",
    "\n",
    "    fit_dict[i] = {'x': optimized_parameters.x, 'cost': optimized_parameters.cost}\n",
    "\n",
    "    if i == 0:\n",
    "\n",
    "        opt_param =  optimized_parameters.x\n",
    "        opt_cost = optimized_parameters.cost\n",
    "        count += 1\n",
    "        print(optimized_parameters.x)\n",
    "        print('COST = ' + str(optimized_parameters.cost))\n",
    "\n",
    "    elif i >= i:\n",
    "\n",
    "        rel_er1 = abs(opt_param[0] - optimized_parameters.x[0]) / opt_param[0]\n",
    "        rel_er2 = abs(opt_param[1] - optimized_parameters.x[1]) / opt_param[1]\n",
    "        rel_er3 =abs(opt_param[2] - optimized_parameters.x[2]) / opt_param[2]\n",
    "\n",
    "        if rel_er1 > 0.0001 or rel_er2 > 0.0001 or rel_er3 > 0.0001:\n",
    "            print('PARAMETERS CHANGED')\n",
    "            best_fit =  optimized_parameters\n",
    "            print(optimized_parameters.x)\n",
    "            print('COST = ' + str(optimized_parameters.cost))\n",
    "        else:\n",
    "            count += 1\n",
    "print(count)"
   ],
   "metadata": {
    "collapsed": false
   }
  },
  {
   "cell_type": "code",
   "execution_count": null,
   "outputs": [],
   "source": [
    "fit_dict = {}\n",
    "count = 0\n",
    "n_fits = 20\n",
    "\n",
    "for i in range(n_fits):\n",
    "    param = [random.random(),random.random()*np.deg2rad(44.5),random.random()*0.74,random.random()*0.001,random.random()]\n",
    "    optimized_parameters = optimize.least_squares(\n",
    "        hapke.cost_function_mixed_no_weight, param, args=(wav, angles, IF1, wav1,n_c,k_c,n_a,k_a,0,2.8,body), bounds=([0.001,0,0,0,0], [1,np.deg2rad(44.9),0.74,0.001,1], ),\n",
    "    )\n",
    "\n",
    "    fit_dict[i] = {'x': optimized_parameters.x, 'cost': optimized_parameters.cost}\n",
    "\n",
    "    if i == 0:\n",
    "\n",
    "        opt_param =  optimized_parameters.x\n",
    "        opt_cost = optimized_parameters.cost\n",
    "        count += 1\n",
    "        print(optimized_parameters.x)\n",
    "        print('COST = ' + str(optimized_parameters.cost))\n",
    "\n",
    "    elif i >= i:\n",
    "\n",
    "        rel_er1 = abs(opt_param[0] - optimized_parameters.x[0]) / opt_param[0]\n",
    "        rel_er2 = abs(opt_param[1] - optimized_parameters.x[1]) / opt_param[1]\n",
    "        rel_er3 =abs(opt_param[2] - optimized_parameters.x[2]) / opt_param[2]\n",
    "        rel_er4 = abs(opt_param[3] - optimized_parameters.x[3]) / opt_param[3]\n",
    "        rel_er5 =abs(opt_param[4] - optimized_parameters.x[4]) / opt_param[4]\n",
    "\n",
    "        if rel_er1 > 0.0001 or rel_er2 > 0.0001 or rel_er3 > 0.0001 or rel_er4 > 0.0001 or rel_er5 > 0.0001:\n",
    "            print('PARAMETERS CHANGED')\n",
    "            best_fit =  optimized_parameters\n",
    "            print(optimized_parameters.x)\n",
    "            print('COST = ' + str(optimized_parameters.cost))\n",
    "        else:\n",
    "            count += 1\n",
    "print(count)"
   ],
   "metadata": {
    "collapsed": false
   }
  },
  {
   "cell_type": "code",
   "execution_count": null,
   "outputs": [],
   "source": [
    "print(fit_dict)"
   ],
   "metadata": {
    "collapsed": false
   }
  },
  {
   "cell_type": "code",
   "execution_count": null,
   "outputs": [],
   "source": [
    "optimized_values = optimized_parameters.x\n",
    "\n",
    "old_hapke = hapke.hapke_model_mixed(ini_par,wav, angles, n_c,k_c,n_a,k_a,body)['IF']\n",
    "\n",
    "new_hapke = hapke.hapke_model_mixed(optimized_values,wav, angles, n_c,k_c,n_a,k_a,body)['IF']\n",
    "\n",
    "fig, ax = plt.subplots(figsize = (8,3))\n",
    "ax.plot(wav, old_hapke, label = 'Hapke Initial')\n",
    "ax.plot(wav, new_hapke, label = 'Hapke Optimized')\n",
    "ax.plot(wav1, IF1, label = 'Pixel')\n",
    "ax.set_xlabel('Wavelength [$\\mu$m]')\n",
    "ax.set_ylabel('I/F')\n",
    "ax.set_xlim(1.1,3.2)\n",
    "ax.set_title('')\n",
    "ax.legend()\n",
    "plt.show()"
   ],
   "metadata": {
    "collapsed": false
   }
  },
  {
   "cell_type": "code",
   "execution_count": null,
   "outputs": [],
   "source": [
    "plt.figure(figsize=(12, 8))\n",
    "\n",
    "plt.imshow(cube@2.03, extent=cube.extent, cmap='gray', vmin=0, vmax=.18)\n",
    "\n",
    "plt.colorbar(extend='max', label='I/F')\n",
    "\n",
    "plt.scatter(13, 50, s=150)\n",
    "\n",
    "plt.xlabel(cube.slabel)\n",
    "plt.ylabel(cube.llabel)\n",
    "\n",
    "plt.xticks(cube.sticks)\n",
    "plt.yticks(cube.lticks)\n",
    "plt.show()"
   ],
   "metadata": {
    "collapsed": false
   }
  },
  {
   "cell_type": "markdown",
   "source": [
    "These coming two cells plot the surface response: the residuals compared to the spectrum taken by VIMS. Note that wa1 and IF1 need to be defined beforehand and that the function hapke_mixed needs to be changes to be 2D in parameters"
   ],
   "metadata": {
    "collapsed": false
   }
  },
  {
   "cell_type": "code",
   "execution_count": null,
   "outputs": [],
   "source": [
    "# SURFACE RESPONSE OF ENCELADUS SPECTRA\n",
    "\n",
    "real_par = [0.51,0.00007]\n",
    "\n",
    "m_range = np.linspace(0.001,1,30)\n",
    "phi_range = np.linspace(0.001,0.74,30)\n",
    "\n",
    "residuals = np.zeros((len(phi_range),len(m_range)))\n",
    "\n",
    "\n",
    "interp_func_2 = interp1d(wav1, IF1, bounds_error=False)\n",
    "\n",
    "interpolated_lab = interp_func_2(wav)\n",
    "\n",
    "for i in range(len(phi_range)):\n",
    "    for j in range(len(m_range)):\n",
    "        param = [phi_range[i], m_range[j]]\n",
    "        dif = (interpolated_lab - hapke.hapke_model_mixed(param,wav,angles,n_c,k_c,n_a,k_a,body)['IF'])\n",
    "        dif = dif[~np.isnan(dif)]\n",
    "        residuals[i,j] = np.linalg.norm(dif)"
   ],
   "metadata": {
    "collapsed": false
   }
  },
  {
   "cell_type": "code",
   "execution_count": null,
   "outputs": [],
   "source": [
    "# 3D PLOT OF THE SURFACE RESPONSE\n",
    "\n",
    "phi_range, m_range = np.meshgrid(phi_range, m_range)\n",
    "# Define the data\n",
    "\n",
    "# Create a 3D plot\n",
    "fig = plt.figure(figsize = (4,4))\n",
    "ax = fig.add_subplot(111, projection='3d')\n",
    "ax.plot_surface(phi_range, m_range, residuals.T, cmap='viridis')\n",
    "ax.scatter(0.16933,0.502, c = 'green', label = 'Real solution' )\n",
    "ax.legend()\n",
    "ax.set_xlabel(r'$\\phi$ [-]')\n",
    "ax.set_ylabel(r'$m$ [-]')\n",
    "ax.set_zlabel('Residuals')\n",
    "# Show the plot\n",
    "plt.show()"
   ],
   "metadata": {
    "collapsed": false
   }
  }
 ],
 "metadata": {
  "kernelspec": {
   "display_name": "Python 3 (ipykernel)",
   "language": "python",
   "name": "python3"
  },
  "language_info": {
   "codemirror_mode": {
    "name": "ipython",
    "version": 3
   },
   "file_extension": ".py",
   "mimetype": "text/x-python",
   "name": "python",
   "nbconvert_exporter": "python",
   "pygments_lexer": "ipython3",
   "version": "3.11.3"
  }
 },
 "nbformat": 4,
 "nbformat_minor": 5
}
