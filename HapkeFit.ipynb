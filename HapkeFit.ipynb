{
 "cells": [
  {
   "cell_type": "code",
   "execution_count": 1,
   "outputs": [],
   "source": [
    "import numpy as np\n",
    "import hapke\n",
    "import matplotlib\n",
    "matplotlib.use('Qt5Agg')\n",
    "import matplotlib.pyplot as plt\n",
    "from scipy import optimize\n",
    "from matplotlib.collections import PatchCollection\n",
    "from mpl_toolkits import mplot3d\n",
    "from scipy.interpolate import interp1d\n",
    "from pyvims import VIMS\n",
    "from pyvims.misc import MAPS\n",
    "import random\n",
    "from pyvims.misc import Map\n",
    "from mpl_toolkits.axes_grid1.inset_locator import inset_axes\n",
    "import matplotlib.patches as patches\n",
    "from matplotlib.patches import Polygon\n",
    "from pathlib import Path\n",
    "from pyvims.wget import wget\n",
    "plt.rcParams.update({'font.size': 12})\n",
    "\n",
    "def first_degree(w, a, b):\n",
    "    return a + b * w\n",
    "\n",
    "def second_degree(w, a1, b1, c1):\n",
    "    return a1 + b1 * w + c1 * w ** 2"
   ],
   "metadata": {
    "collapsed": false,
    "ExecuteTime": {
     "end_time": "2023-10-03T15:44:33.501997Z",
     "start_time": "2023-10-03T15:44:30.094299500Z"
    }
   }
  },
  {
   "cell_type": "markdown",
   "source": [
    "Load cube (using hapke.retrieve_cube) and optical constants (hapke.opticalconstants)"
   ],
   "metadata": {
    "collapsed": false
   }
  },
  {
   "cell_type": "code",
   "execution_count": 2,
   "outputs": [],
   "source": [
    "T = 120\n",
    "N = 20\n",
    "\n",
    "opt_c = hapke.opticalconstants(T,sensitivity = N)\n",
    "n_c = opt_c['n']\n",
    "k_c = opt_c['k']\n",
    "wav_c = opt_c['wav']\n",
    "\n",
    "opt_a = hapke.opticalconstants(T, sensitivity= N,crystallinity=False)\n",
    "n_a = opt_a['n']\n",
    "k_a = opt_a['k']\n",
    "wav_a = opt_a['wav']\n",
    "\n",
    "int_opt = hapke.inter_optical_constants(wav_c, wav_a, n_c, k_c)\n",
    "\n",
    "wav = np.array(int_opt['wav'])\n",
    "n_c = int_opt['n']\n",
    "k_c = int_opt['k']\n"
   ],
   "metadata": {
    "collapsed": false,
    "ExecuteTime": {
     "end_time": "2023-10-03T15:44:33.527211900Z",
     "start_time": "2023-10-03T15:44:33.501997Z"
    }
   }
  },
  {
   "cell_type": "code",
   "execution_count": 3,
   "outputs": [],
   "source": [
    "file_path = 'C:/Users/USUARIO/Desktop/MSc Thesis/Phase A - Data Analysis/Data/Rhea/R4.txt'\n",
    "root = 'C:/Users/USUARIO/Desktop/MSc Thesis/Phase A - Data Analysis/Data/Rhea/R4'\n",
    "\n",
    "cube_R4 = hapke.read_cube(file_path,root)\n",
    "R4_keys = [key for key in cube_R4]"
   ],
   "metadata": {
    "collapsed": false,
    "ExecuteTime": {
     "end_time": "2023-10-03T15:44:33.568956700Z",
     "start_time": "2023-10-03T15:44:33.527211900Z"
    }
   }
  },
  {
   "cell_type": "code",
   "execution_count": 4,
   "outputs": [],
   "source": [
    "file_path = 'C:/Users/USUARIO/Desktop/MSc Thesis/Phase A - Data Analysis/Data/Rhea/R1.txt'\n",
    "root = 'C:/Users/USUARIO/Desktop/MSc Thesis/Phase A - Data Analysis/Data/Rhea/R1'\n",
    "\n",
    "cube_R1 = hapke.read_cube(file_path,root)\n",
    "R1_keys = [key for key in cube_R1]"
   ],
   "metadata": {
    "collapsed": false,
    "ExecuteTime": {
     "end_time": "2023-10-03T15:44:33.568956700Z",
     "start_time": "2023-10-03T15:44:33.547204500Z"
    }
   }
  },
  {
   "cell_type": "code",
   "execution_count": 5,
   "outputs": [
    {
     "name": "stdout",
     "output_type": "stream",
     "text": [
      "[False, False, False, False, False, False, False, False, False, False, False, False, False, False, False, False, False, False, False, False, False, False, False, False, False, False, False, False, False, False, False, False, False, False, False, False, False, False, False, False, False, False, False, False, False, False, False, False, False, False, False, False, False, False, False, False, False, False, False, False, False, True, False, True, True, True, True, False, True, False, True, False, True, True, True, False, True, True, True, True, False, True, True, False, False, True, False, False, False, True, False, False, False, True, False, False, False, False, False, False, False, False, False, False, False, False, False, False, False, False, False, False, False, False, False, False, False, False, False, False, False, False, False, False, False, False, False, False, False]\n",
      "[False, False, False, False, False, False, False, False, False, False, False, False, False, False, False, False, False, False, False, False, False, False, False, False, False, False, False, False, False, False, False, False, False, False, False, False, False, False, False, False, False, False, False, False, False, False, False, False, False, False, False]\n"
     ]
    }
   ],
   "source": [
    "is_pixel_4 = []\n",
    "pixel_4 = []\n",
    "\n",
    "lat = 0\n",
    "lon = 90\n",
    "\n",
    "radius = cube_R1[R1_keys[0]].target_radius\n",
    "\n",
    "for key in R4_keys:\n",
    "\n",
    "    pix = cube_R4[key].get_pixel(lon,lat)\n",
    "\n",
    "    if pix is not None and hapke.is_micron_dip(pix) and not pix.limb and np.array(pix.spectrum).max() > 0.05 and pix.area < (radius/5) ** 2:\n",
    "        is_pixel_4.append(True)\n",
    "        pixel_4.append(pix)\n",
    "    else:\n",
    "        is_pixel_4.append(False)\n",
    "        pixel_4.append(None)\n",
    "\n",
    "is_pixel_1 = []\n",
    "pixel_1 = []\n",
    "\n",
    "for key in R1_keys:\n",
    "\n",
    "    pix = cube_R1[key].get_pixel(lon,lat)\n",
    "\n",
    "    if pix is not None and hapke.is_micron_dip(pix) and not pix.limb and np.array(pix.spectrum).max() > 0.05 and pix.area < (radius/5) ** 2:\n",
    "        is_pixel_1.append(True)\n",
    "        pixel_1.append(pix)\n",
    "    else:\n",
    "        is_pixel_1.append(False)\n",
    "        pixel_1.append(None)\n",
    "\n",
    "print(is_pixel_1)\n",
    "print(is_pixel_4)"
   ],
   "metadata": {
    "collapsed": false,
    "ExecuteTime": {
     "end_time": "2023-10-03T15:47:08.580674200Z",
     "start_time": "2023-10-03T15:44:33.569954100Z"
    }
   }
  },
  {
   "cell_type": "code",
   "execution_count": null,
   "outputs": [],
   "source": [
    "bg = MAPS['RHEA']\n",
    "fig, ax = bg.figure(figsize=(20, 10))\n",
    "\n",
    "patches_1 = []\n",
    "patches_4 = []\n",
    "for p in range(len(pixel_4)):\n",
    "    if is_pixel_4[p]:\n",
    "        #print(pixel_4[p].corners.lonlat)\n",
    "        hapke.generate_patches(patches_4,pixel_4[p])\n",
    "\n",
    "for p in range(len(pixel_1)):\n",
    "    if is_pixel_1[p]:\n",
    "        #print(pixel_4[p].corners.lonlat)\n",
    "        hapke.generate_patches(patches_1,pixel_1[p])\n",
    "\n",
    "p_1 = PatchCollection(patches_1, alpha=0.4, edgecolor='yellow', linewidth=2)\n",
    "p_4 = PatchCollection(patches_4, alpha=0.4, edgecolor='red', linewidth=2)\n",
    "\n",
    "ax.add_collection(p_1)\n",
    "ax.add_collection(p_4)"
   ],
   "metadata": {
    "collapsed": false,
    "ExecuteTime": {
     "start_time": "2023-10-03T15:40:25.156789100Z"
    }
   }
  },
  {
   "cell_type": "code",
   "execution_count": 14,
   "outputs": [
    {
     "ename": "KeyboardInterrupt",
     "evalue": "",
     "output_type": "error",
     "traceback": [
      "\u001B[1;31m---------------------------------------------------------------------------\u001B[0m",
      "\u001B[1;31mKeyboardInterrupt\u001B[0m                         Traceback (most recent call last)",
      "Cell \u001B[1;32mIn[14], line 1\u001B[0m\n\u001B[1;32m----> 1\u001B[0m \u001B[43mplt\u001B[49m\u001B[38;5;241;43m.\u001B[39;49m\u001B[43mshow\u001B[49m\u001B[43m(\u001B[49m\u001B[43m)\u001B[49m\n",
      "File \u001B[1;32m~\\AppData\\Local\\Programs\\Python\\Python311\\Lib\\site-packages\\matplotlib\\pyplot.py:421\u001B[0m, in \u001B[0;36mshow\u001B[1;34m(*args, **kwargs)\u001B[0m\n\u001B[0;32m    377\u001B[0m \u001B[38;5;250m\u001B[39m\u001B[38;5;124;03m\"\"\"\u001B[39;00m\n\u001B[0;32m    378\u001B[0m \u001B[38;5;124;03mDisplay all open figures.\u001B[39;00m\n\u001B[0;32m    379\u001B[0m \n\u001B[1;32m   (...)\u001B[0m\n\u001B[0;32m    418\u001B[0m \u001B[38;5;124;03mexplicitly there.\u001B[39;00m\n\u001B[0;32m    419\u001B[0m \u001B[38;5;124;03m\"\"\"\u001B[39;00m\n\u001B[0;32m    420\u001B[0m _warn_if_gui_out_of_main_thread()\n\u001B[1;32m--> 421\u001B[0m \u001B[38;5;28;01mreturn\u001B[39;00m \u001B[43m_get_backend_mod\u001B[49m\u001B[43m(\u001B[49m\u001B[43m)\u001B[49m\u001B[38;5;241;43m.\u001B[39;49m\u001B[43mshow\u001B[49m\u001B[43m(\u001B[49m\u001B[38;5;241;43m*\u001B[39;49m\u001B[43margs\u001B[49m\u001B[43m,\u001B[49m\u001B[43m \u001B[49m\u001B[38;5;241;43m*\u001B[39;49m\u001B[38;5;241;43m*\u001B[39;49m\u001B[43mkwargs\u001B[49m\u001B[43m)\u001B[49m\n",
      "File \u001B[1;32m~\\AppData\\Local\\Programs\\Python\\Python311\\Lib\\site-packages\\matplotlib\\backend_bases.py:3554\u001B[0m, in \u001B[0;36m_Backend.show\u001B[1;34m(cls, block)\u001B[0m\n\u001B[0;32m   3552\u001B[0m     block \u001B[38;5;241m=\u001B[39m \u001B[38;5;129;01mnot\u001B[39;00m ipython_pylab \u001B[38;5;129;01mand\u001B[39;00m \u001B[38;5;129;01mnot\u001B[39;00m is_interactive()\n\u001B[0;32m   3553\u001B[0m \u001B[38;5;28;01mif\u001B[39;00m block:\n\u001B[1;32m-> 3554\u001B[0m     \u001B[38;5;28;43mcls\u001B[39;49m\u001B[38;5;241;43m.\u001B[39;49m\u001B[43mmainloop\u001B[49m\u001B[43m(\u001B[49m\u001B[43m)\u001B[49m\n",
      "File \u001B[1;32m~\\AppData\\Local\\Programs\\Python\\Python311\\Lib\\site-packages\\matplotlib\\backends\\backend_qt.py:1021\u001B[0m, in \u001B[0;36m_BackendQT.mainloop\u001B[1;34m()\u001B[0m\n\u001B[0;32m   1018\u001B[0m \u001B[38;5;129m@staticmethod\u001B[39m\n\u001B[0;32m   1019\u001B[0m \u001B[38;5;28;01mdef\u001B[39;00m \u001B[38;5;21mmainloop\u001B[39m():\n\u001B[0;32m   1020\u001B[0m     qapp \u001B[38;5;241m=\u001B[39m QtWidgets\u001B[38;5;241m.\u001B[39mQApplication\u001B[38;5;241m.\u001B[39minstance()\n\u001B[1;32m-> 1021\u001B[0m \u001B[43m    \u001B[49m\u001B[38;5;28;43;01mwith\u001B[39;49;00m\u001B[43m \u001B[49m\u001B[43m_maybe_allow_interrupt\u001B[49m\u001B[43m(\u001B[49m\u001B[43mqapp\u001B[49m\u001B[43m)\u001B[49m\u001B[43m:\u001B[49m\n\u001B[0;32m   1022\u001B[0m \u001B[43m        \u001B[49m\u001B[43mqt_compat\u001B[49m\u001B[38;5;241;43m.\u001B[39;49m\u001B[43m_exec\u001B[49m\u001B[43m(\u001B[49m\u001B[43mqapp\u001B[49m\u001B[43m)\u001B[49m\n",
      "File \u001B[1;32m~\\AppData\\Local\\Programs\\Python\\Python311\\Lib\\contextlib.py:144\u001B[0m, in \u001B[0;36m_GeneratorContextManager.__exit__\u001B[1;34m(self, typ, value, traceback)\u001B[0m\n\u001B[0;32m    142\u001B[0m \u001B[38;5;28;01mif\u001B[39;00m typ \u001B[38;5;129;01mis\u001B[39;00m \u001B[38;5;28;01mNone\u001B[39;00m:\n\u001B[0;32m    143\u001B[0m     \u001B[38;5;28;01mtry\u001B[39;00m:\n\u001B[1;32m--> 144\u001B[0m         \u001B[38;5;28mnext\u001B[39m(\u001B[38;5;28mself\u001B[39m\u001B[38;5;241m.\u001B[39mgen)\n\u001B[0;32m    145\u001B[0m     \u001B[38;5;28;01mexcept\u001B[39;00m \u001B[38;5;167;01mStopIteration\u001B[39;00m:\n\u001B[0;32m    146\u001B[0m         \u001B[38;5;28;01mreturn\u001B[39;00m \u001B[38;5;28;01mFalse\u001B[39;00m\n",
      "File \u001B[1;32m~\\AppData\\Local\\Programs\\Python\\Python311\\Lib\\site-packages\\matplotlib\\backends\\qt_compat.py:269\u001B[0m, in \u001B[0;36m_maybe_allow_interrupt\u001B[1;34m(qapp)\u001B[0m\n\u001B[0;32m    267\u001B[0m signal\u001B[38;5;241m.\u001B[39msignal(signal\u001B[38;5;241m.\u001B[39mSIGINT, old_sigint_handler)\n\u001B[0;32m    268\u001B[0m \u001B[38;5;28;01mif\u001B[39;00m handler_args \u001B[38;5;129;01mis\u001B[39;00m \u001B[38;5;129;01mnot\u001B[39;00m \u001B[38;5;28;01mNone\u001B[39;00m:\n\u001B[1;32m--> 269\u001B[0m     \u001B[43mold_sigint_handler\u001B[49m\u001B[43m(\u001B[49m\u001B[38;5;241;43m*\u001B[39;49m\u001B[43mhandler_args\u001B[49m\u001B[43m)\u001B[49m\n",
      "\u001B[1;31mKeyboardInterrupt\u001B[0m: "
     ]
    }
   ],
   "source": [
    "plt.show()"
   ],
   "metadata": {
    "collapsed": false,
    "ExecuteTime": {
     "end_time": "2023-10-03T14:43:12.310874700Z",
     "start_time": "2023-10-03T14:34:03.354778400Z"
    }
   }
  },
  {
   "cell_type": "code",
   "execution_count": 18,
   "outputs": [
    {
     "name": "stderr",
     "output_type": "stream",
     "text": [
      "No artists with labels found to put in legend.  Note that artists whose label start with an underscore are ignored when legend() is called with no argument.\n"
     ]
    },
    {
     "ename": "KeyboardInterrupt",
     "evalue": "",
     "output_type": "error",
     "traceback": [
      "\u001B[1;31m---------------------------------------------------------------------------\u001B[0m",
      "\u001B[1;31mKeyboardInterrupt\u001B[0m                         Traceback (most recent call last)",
      "Cell \u001B[1;32mIn[18], line 26\u001B[0m\n\u001B[0;32m     24\u001B[0m         ax\u001B[38;5;241m.\u001B[39mplot(pixel_4[p]\u001B[38;5;241m.\u001B[39mwvlns,pixel_4[p]\u001B[38;5;241m.\u001B[39mspectrum,label \u001B[38;5;241m=\u001B[39m R4_keys[p], ls \u001B[38;5;241m=\u001B[39m \u001B[38;5;124m'\u001B[39m\u001B[38;5;124m:\u001B[39m\u001B[38;5;124m'\u001B[39m)\n\u001B[0;32m     25\u001B[0m plt\u001B[38;5;241m.\u001B[39mlegend()\n\u001B[1;32m---> 26\u001B[0m \u001B[43mplt\u001B[49m\u001B[38;5;241;43m.\u001B[39;49m\u001B[43mshow\u001B[49m\u001B[43m(\u001B[49m\u001B[43m)\u001B[49m\n",
      "File \u001B[1;32m~\\AppData\\Local\\Programs\\Python\\Python311\\Lib\\site-packages\\matplotlib\\pyplot.py:421\u001B[0m, in \u001B[0;36mshow\u001B[1;34m(*args, **kwargs)\u001B[0m\n\u001B[0;32m    377\u001B[0m \u001B[38;5;250m\u001B[39m\u001B[38;5;124;03m\"\"\"\u001B[39;00m\n\u001B[0;32m    378\u001B[0m \u001B[38;5;124;03mDisplay all open figures.\u001B[39;00m\n\u001B[0;32m    379\u001B[0m \n\u001B[1;32m   (...)\u001B[0m\n\u001B[0;32m    418\u001B[0m \u001B[38;5;124;03mexplicitly there.\u001B[39;00m\n\u001B[0;32m    419\u001B[0m \u001B[38;5;124;03m\"\"\"\u001B[39;00m\n\u001B[0;32m    420\u001B[0m _warn_if_gui_out_of_main_thread()\n\u001B[1;32m--> 421\u001B[0m \u001B[38;5;28;01mreturn\u001B[39;00m \u001B[43m_get_backend_mod\u001B[49m\u001B[43m(\u001B[49m\u001B[43m)\u001B[49m\u001B[38;5;241;43m.\u001B[39;49m\u001B[43mshow\u001B[49m\u001B[43m(\u001B[49m\u001B[38;5;241;43m*\u001B[39;49m\u001B[43margs\u001B[49m\u001B[43m,\u001B[49m\u001B[43m \u001B[49m\u001B[38;5;241;43m*\u001B[39;49m\u001B[38;5;241;43m*\u001B[39;49m\u001B[43mkwargs\u001B[49m\u001B[43m)\u001B[49m\n",
      "File \u001B[1;32m~\\AppData\\Local\\Programs\\Python\\Python311\\Lib\\site-packages\\matplotlib\\backend_bases.py:3554\u001B[0m, in \u001B[0;36m_Backend.show\u001B[1;34m(cls, block)\u001B[0m\n\u001B[0;32m   3552\u001B[0m     block \u001B[38;5;241m=\u001B[39m \u001B[38;5;129;01mnot\u001B[39;00m ipython_pylab \u001B[38;5;129;01mand\u001B[39;00m \u001B[38;5;129;01mnot\u001B[39;00m is_interactive()\n\u001B[0;32m   3553\u001B[0m \u001B[38;5;28;01mif\u001B[39;00m block:\n\u001B[1;32m-> 3554\u001B[0m     \u001B[38;5;28;43mcls\u001B[39;49m\u001B[38;5;241;43m.\u001B[39;49m\u001B[43mmainloop\u001B[49m\u001B[43m(\u001B[49m\u001B[43m)\u001B[49m\n",
      "File \u001B[1;32m~\\AppData\\Local\\Programs\\Python\\Python311\\Lib\\site-packages\\matplotlib\\backends\\backend_qt.py:1021\u001B[0m, in \u001B[0;36m_BackendQT.mainloop\u001B[1;34m()\u001B[0m\n\u001B[0;32m   1018\u001B[0m \u001B[38;5;129m@staticmethod\u001B[39m\n\u001B[0;32m   1019\u001B[0m \u001B[38;5;28;01mdef\u001B[39;00m \u001B[38;5;21mmainloop\u001B[39m():\n\u001B[0;32m   1020\u001B[0m     qapp \u001B[38;5;241m=\u001B[39m QtWidgets\u001B[38;5;241m.\u001B[39mQApplication\u001B[38;5;241m.\u001B[39minstance()\n\u001B[1;32m-> 1021\u001B[0m \u001B[43m    \u001B[49m\u001B[38;5;28;43;01mwith\u001B[39;49;00m\u001B[43m \u001B[49m\u001B[43m_maybe_allow_interrupt\u001B[49m\u001B[43m(\u001B[49m\u001B[43mqapp\u001B[49m\u001B[43m)\u001B[49m\u001B[43m:\u001B[49m\n\u001B[0;32m   1022\u001B[0m \u001B[43m        \u001B[49m\u001B[43mqt_compat\u001B[49m\u001B[38;5;241;43m.\u001B[39;49m\u001B[43m_exec\u001B[49m\u001B[43m(\u001B[49m\u001B[43mqapp\u001B[49m\u001B[43m)\u001B[49m\n",
      "File \u001B[1;32m~\\AppData\\Local\\Programs\\Python\\Python311\\Lib\\contextlib.py:144\u001B[0m, in \u001B[0;36m_GeneratorContextManager.__exit__\u001B[1;34m(self, typ, value, traceback)\u001B[0m\n\u001B[0;32m    142\u001B[0m \u001B[38;5;28;01mif\u001B[39;00m typ \u001B[38;5;129;01mis\u001B[39;00m \u001B[38;5;28;01mNone\u001B[39;00m:\n\u001B[0;32m    143\u001B[0m     \u001B[38;5;28;01mtry\u001B[39;00m:\n\u001B[1;32m--> 144\u001B[0m         \u001B[38;5;28mnext\u001B[39m(\u001B[38;5;28mself\u001B[39m\u001B[38;5;241m.\u001B[39mgen)\n\u001B[0;32m    145\u001B[0m     \u001B[38;5;28;01mexcept\u001B[39;00m \u001B[38;5;167;01mStopIteration\u001B[39;00m:\n\u001B[0;32m    146\u001B[0m         \u001B[38;5;28;01mreturn\u001B[39;00m \u001B[38;5;28;01mFalse\u001B[39;00m\n",
      "File \u001B[1;32m~\\AppData\\Local\\Programs\\Python\\Python311\\Lib\\site-packages\\matplotlib\\backends\\qt_compat.py:269\u001B[0m, in \u001B[0;36m_maybe_allow_interrupt\u001B[1;34m(qapp)\u001B[0m\n\u001B[0;32m    267\u001B[0m signal\u001B[38;5;241m.\u001B[39msignal(signal\u001B[38;5;241m.\u001B[39mSIGINT, old_sigint_handler)\n\u001B[0;32m    268\u001B[0m \u001B[38;5;28;01mif\u001B[39;00m handler_args \u001B[38;5;129;01mis\u001B[39;00m \u001B[38;5;129;01mnot\u001B[39;00m \u001B[38;5;28;01mNone\u001B[39;00m:\n\u001B[1;32m--> 269\u001B[0m     \u001B[43mold_sigint_handler\u001B[49m\u001B[43m(\u001B[49m\u001B[38;5;241;43m*\u001B[39;49m\u001B[43mhandler_args\u001B[49m\u001B[43m)\u001B[49m\n",
      "\u001B[1;31mKeyboardInterrupt\u001B[0m: "
     ]
    }
   ],
   "source": [
    "IF_1 = {}\n",
    "IF_4 = {}\n",
    "wav1 = {}\n",
    "wav4 = {}\n",
    "\n",
    "fig, ax = plt.subplots()\n",
    "ax.set_xlabel(r'Wavelength [$\\mu$m]')\n",
    "ax.set_ylabel('I/F')\n",
    "ax.set_title('')\n",
    "ax.set_xlim(1.90,2.15)\n",
    "ax.grid()\n",
    "ax.axvline(x=2.0, color='red', linestyle='--')\n",
    "ax.axvline(x=2.05, color='red', linestyle='--')\n",
    "\n",
    "\n",
    "for p in range(len(pixel_1)):\n",
    "    if is_pixel_1[p]:\n",
    "\n",
    "        ax.plot(pixel_1[p].wvlns,pixel_1[p].spectrum)\n",
    "\n",
    "for p in range(len(pixel_4)):\n",
    "    if is_pixel_4[p]:\n",
    "\n",
    "        ax.plot(pixel_4[p].wvlns,pixel_4[p].spectrum,label = R4_keys[p], ls = ':')\n",
    "plt.legend()\n",
    "plt.show()"
   ],
   "metadata": {
    "collapsed": false,
    "ExecuteTime": {
     "end_time": "2023-10-03T14:45:33.892434600Z",
     "start_time": "2023-10-03T14:44:53.510905700Z"
    }
   }
  },
  {
   "cell_type": "code",
   "execution_count": 6,
   "outputs": [
    {
     "name": "stdout",
     "output_type": "stream",
     "text": [
      "61/129\n",
      "59.43921537561224\n",
      "63/129\n"
     ]
    },
    {
     "name": "stderr",
     "output_type": "stream",
     "text": [
      "C:\\Users\\USUARIO\\AppData\\Local\\Programs\\Python\\Python311\\Lib\\site-packages\\scipy\\optimize\\_minpack_py.py:906: OptimizeWarning: Covariance of the parameters could not be estimated\n",
      "  warnings.warn('Covariance of the parameters could not be estimated',\n"
     ]
    },
    {
     "name": "stdout",
     "output_type": "stream",
     "text": [
      "60.592166189236224\n",
      "64/129\n",
      "58.73487180744921\n",
      "65/129\n",
      "79.35764518713925\n",
      "66/129\n",
      "76.95319948671333\n",
      "68/129\n",
      "71.41989496746606\n",
      "70/129\n",
      "68.42090166410081\n",
      "72/129\n",
      "79.19803695560898\n",
      "73/129\n",
      "78.01581359301619\n",
      "74/129\n",
      "76.93183745975536\n",
      "76/129\n",
      "69.4175160039405\n",
      "77/129\n",
      "67.7221864361156\n",
      "78/129\n",
      "83.43061914727444\n",
      "79/129\n",
      "81.68999913555523\n",
      "81/129\n",
      "71.73296351931468\n",
      "82/129\n",
      "69.41675943131418\n",
      "85/129\n",
      "79.56666868624843\n",
      "89/129\n",
      "79.12087591191776\n",
      "93/129\n",
      "83.39957818429428\n"
     ]
    }
   ],
   "source": [
    "IF = {}\n",
    "wav1 = {}\n",
    "angles = {}\n",
    "\n",
    "fits = {}\n",
    "model_IF = {}\n",
    "\n",
    "D_fit = []\n",
    "error_D = []\n",
    "theta_fit = []\n",
    "error_theta = []\n",
    "legend = []\n",
    "\n",
    "cryst_coe = []\n",
    "cryst_area = []\n",
    "cryst_area_norm = []\n",
    "cryst_area_1 = []\n",
    "cryst_area_norm_1 = []\n",
    "cryst_2_loc = []\n",
    "\n",
    "ini_par = [0.7,0.00001]\n",
    "\n",
    "for p in range(len(is_pixel_4)):\n",
    "    if is_pixel_4[p]:\n",
    "\n",
    "        print(str(p) + '/' + str(len(is_pixel_4)))\n",
    "        IF[R4_keys[p]] = pixel_4[p].spectrum\n",
    "        wav1[R4_keys[p]] = pixel_4[p].wvlns\n",
    "\n",
    "        angles[R4_keys[p]] = [np.deg2rad(pixel_4[p].eme),np.deg2rad(pixel_4[p].inc),np.deg2rad(pixel_4[p].phase)]\n",
    "        print(pixel_4[p].inc)\n",
    "\n",
    "        fits[R4_keys[p]] = optimize.least_squares(hapke.cost_function_mixed, ini_par, args=(wav, angles[R4_keys[p]], IF[R4_keys[p]], wav1[R4_keys[p]],n_c,k_c,n_a,k_a,0,2.8)\n",
    "        )\n",
    "\n",
    "        model_IF[R4_keys[p]] = hapke.hapke_model_mixed(fits[R4_keys[p]].x,wav,angles[R4_keys[p]],n_c,k_c,n_a,k_a)['IF']\n",
    "\n",
    "        error_D.append(hapke.print_error_correlation(fits[R4_keys[p]])[1])\n",
    "        error_theta.append(hapke.print_error_correlation(fits[R4_keys[p]])[0])\n",
    "\n",
    "        legend.append(R4_keys[p])\n",
    "        D_fit.append(fits[R4_keys[p]].x[1])\n",
    "        theta_fit.append(fits[R4_keys[p]].x[0])\n",
    "\n",
    "        cryst_area.append(hapke.cryst_area(IF[R4_keys[p]],wav1[R4_keys[p]])['area'])\n",
    "\n",
    "        cryst_area_norm.append(hapke.cryst_area(IF[R4_keys[p]],wav1[R4_keys[p]])['area'] /hapke.cryst_area(model_IF[R4_keys[p]],wav)['area'])\n",
    "\n",
    "        cryst_area_1.append(hapke.cryst_area_one_peak(IF[R4_keys[p]],wav1[R4_keys[p]])['area'])\n",
    "\n",
    "        cryst_area_norm_1.append(hapke.cryst_area_one_peak(IF[R4_keys[p]],wav1[R4_keys[p]])['area'] /hapke.cryst_area_one_peak(model_IF[R4_keys[p]],wav)['area'])\n",
    "\n",
    "        cryst_coe.append(hapke.crystallinity_coecient(IF[R4_keys[p]],wav1[R4_keys[p]]))\n",
    "\n",
    "        cryst_2_loc.append(hapke.cryst_area(IF[R4_keys[p]],wav1[R4_keys[p]])['loc_2'])\n",
    "\n",
    "for p in range(len(is_pixel_1)):\n",
    "    if is_pixel_1[p]:\n",
    "\n",
    "        print(str(p) + '/' + str(len(is_pixel_1)))\n",
    "        IF[R1_keys[p]] = pixel_1[p].spectrum\n",
    "        wav1[R1_keys[p]] = pixel_1[p].wvlns\n",
    "\n",
    "        angles[R1_keys[p]] = [np.deg2rad(pixel_1[p].eme),np.deg2rad(pixel_1[p].inc),np.deg2rad(pixel_1[p].phase)]\n",
    "\n",
    "        fits[R1_keys[p]] = optimize.least_squares(hapke.cost_function_mixed, ini_par, args=(wav, angles[R1_keys[p]], IF[R1_keys[p]], wav1[R1_keys[p]],n_c,k_c,n_a,k_a,0,2.8)\n",
    "        )\n",
    "        print(pixel_1[p].inc)\n",
    "\n",
    "        model_IF[R1_keys[p]] = hapke.hapke_model_mixed(fits[R1_keys[p]].x,wav,angles[R1_keys[p]],n_c,k_c,n_a,k_a)['IF']\n",
    "\n",
    "        error_D.append(hapke.print_error_correlation(fits[R1_keys[p]])[1])\n",
    "        error_theta.append(hapke.print_error_correlation(fits[R1_keys[p]])[0])\n",
    "\n",
    "        legend.append(R1_keys[p])\n",
    "        D_fit.append(fits[R1_keys[p]].x[1])\n",
    "        theta_fit.append(fits[R1_keys[p]].x[0])\n",
    "\n",
    "        cryst_area.append(hapke.cryst_area(IF[R1_keys[p]],wav1[R1_keys[p]])['area'])\n",
    "\n",
    "        cryst_area_norm.append(hapke.cryst_area(IF[R1_keys[p]],wav1[R1_keys[p]])['area'] /hapke.cryst_area(model_IF[R1_keys[p]],wav)['area'])\n",
    "\n",
    "        cryst_area_1.append(hapke.cryst_area_one_peak(IF[R1_keys[p]],wav1[R1_keys[p]])['area'])\n",
    "\n",
    "        cryst_area_norm_1.append(hapke.cryst_area_one_peak(IF[R1_keys[p]],wav1[R1_keys[p]])['area'] /hapke.cryst_area_one_peak(model_IF[R1_keys[p]],wav)['area'])\n",
    "\n",
    "        cryst_coe.append(hapke.crystallinity_coecient(IF[R1_keys[p]],wav1[R1_keys[p]]))\n",
    "\n",
    "        cryst_2_loc.append(hapke.cryst_area(IF[R1_keys[p]],wav1[R1_keys[p]])['loc_2'])\n",
    "\n"
   ],
   "metadata": {
    "collapsed": false,
    "ExecuteTime": {
     "end_time": "2023-10-03T15:47:36.495580100Z",
     "start_time": "2023-10-03T15:47:08.597630700Z"
    }
   }
  },
  {
   "cell_type": "code",
   "execution_count": 9,
   "outputs": [
    {
     "name": "stdout",
     "output_type": "stream",
     "text": [
      "D = 108.3613 +-  8.8423\n",
      "theta = 1.0892 +- 0.0301\n",
      "Loc 2m = 38.5860\n",
      "Area 1 peak = 0.0381\n",
      "Area 1 peak (norm) = 13.5341\n",
      "Area 2 peak = 0.0606\n",
      "Area 2 peak (norm) = 12.3573\n"
     ]
    }
   ],
   "source": [
    "D = hapke.array_mean(D_fit, error_D)\n",
    "print(f'D = {D[0]*1000000:.4f} +- {D[1]*1000000:.4f}')\n",
    "\n",
    "theta = hapke.array_mean(theta_fit, error_theta)\n",
    "print(f'theta = {theta[0]:.4f} +- {theta[1]:.4f}')\n",
    "\n",
    "loc_2m = hapke.array_mean(cryst_2_loc)\n",
    "print(f'Loc 2m = {loc_2m[0]:.4f}')\n",
    "\n",
    "area_1_peak = hapke.array_mean(cryst_area_1)\n",
    "print(f'Area 1 peak = {area_1_peak[0]:.4f}')\n",
    "area_1_peak_norm = hapke.array_mean(cryst_area_norm_1)\n",
    "print(f'Area 1 peak (norm) = {area_1_peak_norm[0]:.4f}')\n",
    "\n",
    "area_2_peak = hapke.array_mean(cryst_area)\n",
    "print(f'Area 2 peak = {area_2_peak[0]:.4f}')\n",
    "area_2_peak_norm = hapke.array_mean(cryst_area_norm)\n",
    "print(f'Area 2 peak (norm) = {area_2_peak_norm[0]:.4f}')"
   ],
   "metadata": {
    "collapsed": false,
    "ExecuteTime": {
     "end_time": "2023-10-03T15:49:59.064526600Z",
     "start_time": "2023-10-03T15:49:59.043710500Z"
    }
   }
  },
  {
   "cell_type": "code",
   "execution_count": 15,
   "outputs": [
    {
     "ename": "KeyboardInterrupt",
     "evalue": "",
     "output_type": "error",
     "traceback": [
      "\u001B[1;31m---------------------------------------------------------------------------\u001B[0m",
      "\u001B[1;31mKeyboardInterrupt\u001B[0m                         Traceback (most recent call last)",
      "Cell \u001B[1;32mIn[15], line 30\u001B[0m\n\u001B[0;32m     27\u001B[0m     ax\u001B[38;5;241m.\u001B[39mplot(w,second_degree(w,cryst_2_loc[i][\u001B[38;5;124m'\u001B[39m\u001B[38;5;124mfit2\u001B[39m\u001B[38;5;124m'\u001B[39m][\u001B[38;5;241m0\u001B[39m],cryst_2_loc[i][\u001B[38;5;124m'\u001B[39m\u001B[38;5;124mfit2\u001B[39m\u001B[38;5;124m'\u001B[39m][\u001B[38;5;241m1\u001B[39m],cryst_2_loc[i][\u001B[38;5;124m'\u001B[39m\u001B[38;5;124mfit2\u001B[39m\u001B[38;5;124m'\u001B[39m][\u001B[38;5;241m2\u001B[39m]), ls \u001B[38;5;241m=\u001B[39m \u001B[38;5;124m'\u001B[39m\u001B[38;5;124m:\u001B[39m\u001B[38;5;124m'\u001B[39m)\n\u001B[0;32m     29\u001B[0m plt\u001B[38;5;241m.\u001B[39mlegend()\n\u001B[1;32m---> 30\u001B[0m \u001B[43mplt\u001B[49m\u001B[38;5;241;43m.\u001B[39;49m\u001B[43mshow\u001B[49m\u001B[43m(\u001B[49m\u001B[43m)\u001B[49m\n",
      "File \u001B[1;32m~\\AppData\\Local\\Programs\\Python\\Python311\\Lib\\site-packages\\matplotlib\\pyplot.py:421\u001B[0m, in \u001B[0;36mshow\u001B[1;34m(*args, **kwargs)\u001B[0m\n\u001B[0;32m    377\u001B[0m \u001B[38;5;250m\u001B[39m\u001B[38;5;124;03m\"\"\"\u001B[39;00m\n\u001B[0;32m    378\u001B[0m \u001B[38;5;124;03mDisplay all open figures.\u001B[39;00m\n\u001B[0;32m    379\u001B[0m \n\u001B[1;32m   (...)\u001B[0m\n\u001B[0;32m    418\u001B[0m \u001B[38;5;124;03mexplicitly there.\u001B[39;00m\n\u001B[0;32m    419\u001B[0m \u001B[38;5;124;03m\"\"\"\u001B[39;00m\n\u001B[0;32m    420\u001B[0m _warn_if_gui_out_of_main_thread()\n\u001B[1;32m--> 421\u001B[0m \u001B[38;5;28;01mreturn\u001B[39;00m \u001B[43m_get_backend_mod\u001B[49m\u001B[43m(\u001B[49m\u001B[43m)\u001B[49m\u001B[38;5;241;43m.\u001B[39;49m\u001B[43mshow\u001B[49m\u001B[43m(\u001B[49m\u001B[38;5;241;43m*\u001B[39;49m\u001B[43margs\u001B[49m\u001B[43m,\u001B[49m\u001B[43m \u001B[49m\u001B[38;5;241;43m*\u001B[39;49m\u001B[38;5;241;43m*\u001B[39;49m\u001B[43mkwargs\u001B[49m\u001B[43m)\u001B[49m\n",
      "File \u001B[1;32m~\\AppData\\Local\\Programs\\Python\\Python311\\Lib\\site-packages\\matplotlib\\backend_bases.py:3554\u001B[0m, in \u001B[0;36m_Backend.show\u001B[1;34m(cls, block)\u001B[0m\n\u001B[0;32m   3552\u001B[0m     block \u001B[38;5;241m=\u001B[39m \u001B[38;5;129;01mnot\u001B[39;00m ipython_pylab \u001B[38;5;129;01mand\u001B[39;00m \u001B[38;5;129;01mnot\u001B[39;00m is_interactive()\n\u001B[0;32m   3553\u001B[0m \u001B[38;5;28;01mif\u001B[39;00m block:\n\u001B[1;32m-> 3554\u001B[0m     \u001B[38;5;28;43mcls\u001B[39;49m\u001B[38;5;241;43m.\u001B[39;49m\u001B[43mmainloop\u001B[49m\u001B[43m(\u001B[49m\u001B[43m)\u001B[49m\n",
      "File \u001B[1;32m~\\AppData\\Local\\Programs\\Python\\Python311\\Lib\\site-packages\\matplotlib\\backends\\backend_qt.py:1021\u001B[0m, in \u001B[0;36m_BackendQT.mainloop\u001B[1;34m()\u001B[0m\n\u001B[0;32m   1018\u001B[0m \u001B[38;5;129m@staticmethod\u001B[39m\n\u001B[0;32m   1019\u001B[0m \u001B[38;5;28;01mdef\u001B[39;00m \u001B[38;5;21mmainloop\u001B[39m():\n\u001B[0;32m   1020\u001B[0m     qapp \u001B[38;5;241m=\u001B[39m QtWidgets\u001B[38;5;241m.\u001B[39mQApplication\u001B[38;5;241m.\u001B[39minstance()\n\u001B[1;32m-> 1021\u001B[0m \u001B[43m    \u001B[49m\u001B[38;5;28;43;01mwith\u001B[39;49;00m\u001B[43m \u001B[49m\u001B[43m_maybe_allow_interrupt\u001B[49m\u001B[43m(\u001B[49m\u001B[43mqapp\u001B[49m\u001B[43m)\u001B[49m\u001B[43m:\u001B[49m\n\u001B[0;32m   1022\u001B[0m \u001B[43m        \u001B[49m\u001B[43mqt_compat\u001B[49m\u001B[38;5;241;43m.\u001B[39;49m\u001B[43m_exec\u001B[49m\u001B[43m(\u001B[49m\u001B[43mqapp\u001B[49m\u001B[43m)\u001B[49m\n",
      "File \u001B[1;32m~\\AppData\\Local\\Programs\\Python\\Python311\\Lib\\contextlib.py:144\u001B[0m, in \u001B[0;36m_GeneratorContextManager.__exit__\u001B[1;34m(self, typ, value, traceback)\u001B[0m\n\u001B[0;32m    142\u001B[0m \u001B[38;5;28;01mif\u001B[39;00m typ \u001B[38;5;129;01mis\u001B[39;00m \u001B[38;5;28;01mNone\u001B[39;00m:\n\u001B[0;32m    143\u001B[0m     \u001B[38;5;28;01mtry\u001B[39;00m:\n\u001B[1;32m--> 144\u001B[0m         \u001B[38;5;28mnext\u001B[39m(\u001B[38;5;28mself\u001B[39m\u001B[38;5;241m.\u001B[39mgen)\n\u001B[0;32m    145\u001B[0m     \u001B[38;5;28;01mexcept\u001B[39;00m \u001B[38;5;167;01mStopIteration\u001B[39;00m:\n\u001B[0;32m    146\u001B[0m         \u001B[38;5;28;01mreturn\u001B[39;00m \u001B[38;5;28;01mFalse\u001B[39;00m\n",
      "File \u001B[1;32m~\\AppData\\Local\\Programs\\Python\\Python311\\Lib\\site-packages\\matplotlib\\backends\\qt_compat.py:269\u001B[0m, in \u001B[0;36m_maybe_allow_interrupt\u001B[1;34m(qapp)\u001B[0m\n\u001B[0;32m    267\u001B[0m signal\u001B[38;5;241m.\u001B[39msignal(signal\u001B[38;5;241m.\u001B[39mSIGINT, old_sigint_handler)\n\u001B[0;32m    268\u001B[0m \u001B[38;5;28;01mif\u001B[39;00m handler_args \u001B[38;5;129;01mis\u001B[39;00m \u001B[38;5;129;01mnot\u001B[39;00m \u001B[38;5;28;01mNone\u001B[39;00m:\n\u001B[1;32m--> 269\u001B[0m     \u001B[43mold_sigint_handler\u001B[49m\u001B[43m(\u001B[49m\u001B[38;5;241;43m*\u001B[39;49m\u001B[43mhandler_args\u001B[49m\u001B[43m)\u001B[49m\n",
      "\u001B[1;31mKeyboardInterrupt\u001B[0m: "
     ]
    }
   ],
   "source": [
    "IF_1 = {}\n",
    "IF_4 = {}\n",
    "wav1 = {}\n",
    "wav4 = {}\n",
    "\n",
    "fig, ax = plt.subplots()\n",
    "ax.set_xlabel(r'Wavelength [$\\mu$m]')\n",
    "ax.set_ylabel('I/F')\n",
    "ax.set_title('')\n",
    "ax.set_xlim(1.90,2.15)\n",
    "ax.grid()\n",
    "ax.axvline(x=2.0, color='red', linestyle='--')\n",
    "ax.axvline(x=2.05, color='red', linestyle='--')\n",
    "\n",
    "\n",
    "for p in range(len(pixel_1)):\n",
    "    if is_pixel_1[p]:\n",
    "\n",
    "        ax.plot(pixel_1[p].wvlns,pixel_1[p].spectrum)\n",
    "\n",
    "for p in range(len(pixel_4)):\n",
    "    if is_pixel_4[p]:\n",
    "\n",
    "        ax.plot(pixel_4[p].wvlns,pixel_4[p].spectrum,label = R4_keys[p])\n",
    "w = np.linspace(1.9,2.15,20)\n",
    "for i in range(len(cryst_2_loc)):\n",
    "    ax.plot(w,second_degree(w,cryst_2_loc[i]['fit2'][0],cryst_2_loc[i]['fit2'][1],cryst_2_loc[i]['fit2'][2]), ls = ':')\n",
    "\n",
    "plt.legend()\n",
    "plt.show()"
   ],
   "metadata": {
    "collapsed": false,
    "ExecuteTime": {
     "end_time": "2023-10-03T12:10:35.594409Z",
     "start_time": "2023-10-03T12:08:01.876776800Z"
    }
   }
  },
  {
   "cell_type": "code",
   "execution_count": 21,
   "outputs": [
    {
     "name": "stderr",
     "output_type": "stream",
     "text": [
      "No artists with labels found to put in legend.  Note that artists whose label start with an underscore are ignored when legend() is called with no argument.\n"
     ]
    },
    {
     "ename": "KeyboardInterrupt",
     "evalue": "",
     "output_type": "error",
     "traceback": [
      "\u001B[1;31m---------------------------------------------------------------------------\u001B[0m",
      "\u001B[1;31mKeyboardInterrupt\u001B[0m                         Traceback (most recent call last)",
      "Cell \u001B[1;32mIn[21], line 13\u001B[0m\n\u001B[0;32m     10\u001B[0m ax2\u001B[38;5;241m.\u001B[39mgrid()\n\u001B[0;32m     11\u001B[0m plt\u001B[38;5;241m.\u001B[39mlegend()\n\u001B[1;32m---> 13\u001B[0m \u001B[43mplt\u001B[49m\u001B[38;5;241;43m.\u001B[39;49m\u001B[43mshow\u001B[49m\u001B[43m(\u001B[49m\u001B[43m)\u001B[49m\n",
      "File \u001B[1;32m~\\AppData\\Local\\Programs\\Python\\Python311\\Lib\\site-packages\\matplotlib\\pyplot.py:421\u001B[0m, in \u001B[0;36mshow\u001B[1;34m(*args, **kwargs)\u001B[0m\n\u001B[0;32m    377\u001B[0m \u001B[38;5;250m\u001B[39m\u001B[38;5;124;03m\"\"\"\u001B[39;00m\n\u001B[0;32m    378\u001B[0m \u001B[38;5;124;03mDisplay all open figures.\u001B[39;00m\n\u001B[0;32m    379\u001B[0m \n\u001B[1;32m   (...)\u001B[0m\n\u001B[0;32m    418\u001B[0m \u001B[38;5;124;03mexplicitly there.\u001B[39;00m\n\u001B[0;32m    419\u001B[0m \u001B[38;5;124;03m\"\"\"\u001B[39;00m\n\u001B[0;32m    420\u001B[0m _warn_if_gui_out_of_main_thread()\n\u001B[1;32m--> 421\u001B[0m \u001B[38;5;28;01mreturn\u001B[39;00m \u001B[43m_get_backend_mod\u001B[49m\u001B[43m(\u001B[49m\u001B[43m)\u001B[49m\u001B[38;5;241;43m.\u001B[39;49m\u001B[43mshow\u001B[49m\u001B[43m(\u001B[49m\u001B[38;5;241;43m*\u001B[39;49m\u001B[43margs\u001B[49m\u001B[43m,\u001B[49m\u001B[43m \u001B[49m\u001B[38;5;241;43m*\u001B[39;49m\u001B[38;5;241;43m*\u001B[39;49m\u001B[43mkwargs\u001B[49m\u001B[43m)\u001B[49m\n",
      "File \u001B[1;32m~\\AppData\\Local\\Programs\\Python\\Python311\\Lib\\site-packages\\matplotlib\\backend_bases.py:3554\u001B[0m, in \u001B[0;36m_Backend.show\u001B[1;34m(cls, block)\u001B[0m\n\u001B[0;32m   3552\u001B[0m     block \u001B[38;5;241m=\u001B[39m \u001B[38;5;129;01mnot\u001B[39;00m ipython_pylab \u001B[38;5;129;01mand\u001B[39;00m \u001B[38;5;129;01mnot\u001B[39;00m is_interactive()\n\u001B[0;32m   3553\u001B[0m \u001B[38;5;28;01mif\u001B[39;00m block:\n\u001B[1;32m-> 3554\u001B[0m     \u001B[38;5;28;43mcls\u001B[39;49m\u001B[38;5;241;43m.\u001B[39;49m\u001B[43mmainloop\u001B[49m\u001B[43m(\u001B[49m\u001B[43m)\u001B[49m\n",
      "File \u001B[1;32m~\\AppData\\Local\\Programs\\Python\\Python311\\Lib\\site-packages\\matplotlib\\backends\\backend_qt.py:1021\u001B[0m, in \u001B[0;36m_BackendQT.mainloop\u001B[1;34m()\u001B[0m\n\u001B[0;32m   1018\u001B[0m \u001B[38;5;129m@staticmethod\u001B[39m\n\u001B[0;32m   1019\u001B[0m \u001B[38;5;28;01mdef\u001B[39;00m \u001B[38;5;21mmainloop\u001B[39m():\n\u001B[0;32m   1020\u001B[0m     qapp \u001B[38;5;241m=\u001B[39m QtWidgets\u001B[38;5;241m.\u001B[39mQApplication\u001B[38;5;241m.\u001B[39minstance()\n\u001B[1;32m-> 1021\u001B[0m \u001B[43m    \u001B[49m\u001B[38;5;28;43;01mwith\u001B[39;49;00m\u001B[43m \u001B[49m\u001B[43m_maybe_allow_interrupt\u001B[49m\u001B[43m(\u001B[49m\u001B[43mqapp\u001B[49m\u001B[43m)\u001B[49m\u001B[43m:\u001B[49m\n\u001B[0;32m   1022\u001B[0m \u001B[43m        \u001B[49m\u001B[43mqt_compat\u001B[49m\u001B[38;5;241;43m.\u001B[39;49m\u001B[43m_exec\u001B[49m\u001B[43m(\u001B[49m\u001B[43mqapp\u001B[49m\u001B[43m)\u001B[49m\n",
      "File \u001B[1;32m~\\AppData\\Local\\Programs\\Python\\Python311\\Lib\\contextlib.py:144\u001B[0m, in \u001B[0;36m_GeneratorContextManager.__exit__\u001B[1;34m(self, typ, value, traceback)\u001B[0m\n\u001B[0;32m    142\u001B[0m \u001B[38;5;28;01mif\u001B[39;00m typ \u001B[38;5;129;01mis\u001B[39;00m \u001B[38;5;28;01mNone\u001B[39;00m:\n\u001B[0;32m    143\u001B[0m     \u001B[38;5;28;01mtry\u001B[39;00m:\n\u001B[1;32m--> 144\u001B[0m         \u001B[38;5;28mnext\u001B[39m(\u001B[38;5;28mself\u001B[39m\u001B[38;5;241m.\u001B[39mgen)\n\u001B[0;32m    145\u001B[0m     \u001B[38;5;28;01mexcept\u001B[39;00m \u001B[38;5;167;01mStopIteration\u001B[39;00m:\n\u001B[0;32m    146\u001B[0m         \u001B[38;5;28;01mreturn\u001B[39;00m \u001B[38;5;28;01mFalse\u001B[39;00m\n",
      "File \u001B[1;32m~\\AppData\\Local\\Programs\\Python\\Python311\\Lib\\site-packages\\matplotlib\\backends\\qt_compat.py:269\u001B[0m, in \u001B[0;36m_maybe_allow_interrupt\u001B[1;34m(qapp)\u001B[0m\n\u001B[0;32m    267\u001B[0m signal\u001B[38;5;241m.\u001B[39msignal(signal\u001B[38;5;241m.\u001B[39mSIGINT, old_sigint_handler)\n\u001B[0;32m    268\u001B[0m \u001B[38;5;28;01mif\u001B[39;00m handler_args \u001B[38;5;129;01mis\u001B[39;00m \u001B[38;5;129;01mnot\u001B[39;00m \u001B[38;5;28;01mNone\u001B[39;00m:\n\u001B[1;32m--> 269\u001B[0m     \u001B[43mold_sigint_handler\u001B[49m\u001B[43m(\u001B[49m\u001B[38;5;241;43m*\u001B[39;49m\u001B[43mhandler_args\u001B[49m\u001B[43m)\u001B[49m\n",
      "\u001B[1;31mKeyboardInterrupt\u001B[0m: "
     ]
    }
   ],
   "source": [
    "fig, (ax1,ax2) = plt.subplots(2,1)\n",
    "\n",
    "ax1.errorbar(legend, np.array(D_fit)*1000000,yerr=np.array(error_D)*1000000, fmt='-o')\n",
    "ax1.set_ylabel(r'D')\n",
    "\n",
    "ax2.errorbar(legend, np.array(theta_fit),yerr=np.array(error_theta), fmt='-o')\n",
    "ax2.set_ylabel(r'$\\bar{\\theta}$')\n",
    "ax2.set_xlabel(r'Experiment')\n",
    "ax1.grid()\n",
    "ax2.grid()\n",
    "plt.legend()\n",
    "\n",
    "plt.show()"
   ],
   "metadata": {
    "collapsed": false,
    "ExecuteTime": {
     "end_time": "2023-10-03T14:47:58.578085200Z",
     "start_time": "2023-10-03T14:47:33.505167100Z"
    }
   }
  },
  {
   "cell_type": "code",
   "execution_count": null,
   "outputs": [],
   "source": [
    "print(legend)"
   ],
   "metadata": {
    "collapsed": false
   }
  },
  {
   "cell_type": "code",
   "execution_count": 10,
   "outputs": [
    {
     "ename": "KeyboardInterrupt",
     "evalue": "",
     "output_type": "error",
     "traceback": [
      "\u001B[1;31m---------------------------------------------------------------------------\u001B[0m",
      "\u001B[1;31mKeyboardInterrupt\u001B[0m                         Traceback (most recent call last)",
      "Cell \u001B[1;32mIn[10], line 16\u001B[0m\n\u001B[0;32m     13\u001B[0m ax2\u001B[38;5;241m.\u001B[39mgrid()\n\u001B[0;32m     14\u001B[0m ax3\u001B[38;5;241m.\u001B[39mgrid()\n\u001B[1;32m---> 16\u001B[0m \u001B[43mplt\u001B[49m\u001B[38;5;241;43m.\u001B[39;49m\u001B[43mshow\u001B[49m\u001B[43m(\u001B[49m\u001B[43m)\u001B[49m\n",
      "File \u001B[1;32m~\\AppData\\Local\\Programs\\Python\\Python311\\Lib\\site-packages\\matplotlib\\pyplot.py:421\u001B[0m, in \u001B[0;36mshow\u001B[1;34m(*args, **kwargs)\u001B[0m\n\u001B[0;32m    377\u001B[0m \u001B[38;5;250m\u001B[39m\u001B[38;5;124;03m\"\"\"\u001B[39;00m\n\u001B[0;32m    378\u001B[0m \u001B[38;5;124;03mDisplay all open figures.\u001B[39;00m\n\u001B[0;32m    379\u001B[0m \n\u001B[1;32m   (...)\u001B[0m\n\u001B[0;32m    418\u001B[0m \u001B[38;5;124;03mexplicitly there.\u001B[39;00m\n\u001B[0;32m    419\u001B[0m \u001B[38;5;124;03m\"\"\"\u001B[39;00m\n\u001B[0;32m    420\u001B[0m _warn_if_gui_out_of_main_thread()\n\u001B[1;32m--> 421\u001B[0m \u001B[38;5;28;01mreturn\u001B[39;00m \u001B[43m_get_backend_mod\u001B[49m\u001B[43m(\u001B[49m\u001B[43m)\u001B[49m\u001B[38;5;241;43m.\u001B[39;49m\u001B[43mshow\u001B[49m\u001B[43m(\u001B[49m\u001B[38;5;241;43m*\u001B[39;49m\u001B[43margs\u001B[49m\u001B[43m,\u001B[49m\u001B[43m \u001B[49m\u001B[38;5;241;43m*\u001B[39;49m\u001B[38;5;241;43m*\u001B[39;49m\u001B[43mkwargs\u001B[49m\u001B[43m)\u001B[49m\n",
      "File \u001B[1;32m~\\AppData\\Local\\Programs\\Python\\Python311\\Lib\\site-packages\\matplotlib\\backend_bases.py:3554\u001B[0m, in \u001B[0;36m_Backend.show\u001B[1;34m(cls, block)\u001B[0m\n\u001B[0;32m   3552\u001B[0m     block \u001B[38;5;241m=\u001B[39m \u001B[38;5;129;01mnot\u001B[39;00m ipython_pylab \u001B[38;5;129;01mand\u001B[39;00m \u001B[38;5;129;01mnot\u001B[39;00m is_interactive()\n\u001B[0;32m   3553\u001B[0m \u001B[38;5;28;01mif\u001B[39;00m block:\n\u001B[1;32m-> 3554\u001B[0m     \u001B[38;5;28;43mcls\u001B[39;49m\u001B[38;5;241;43m.\u001B[39;49m\u001B[43mmainloop\u001B[49m\u001B[43m(\u001B[49m\u001B[43m)\u001B[49m\n",
      "File \u001B[1;32m~\\AppData\\Local\\Programs\\Python\\Python311\\Lib\\site-packages\\matplotlib\\backends\\backend_qt.py:1021\u001B[0m, in \u001B[0;36m_BackendQT.mainloop\u001B[1;34m()\u001B[0m\n\u001B[0;32m   1018\u001B[0m \u001B[38;5;129m@staticmethod\u001B[39m\n\u001B[0;32m   1019\u001B[0m \u001B[38;5;28;01mdef\u001B[39;00m \u001B[38;5;21mmainloop\u001B[39m():\n\u001B[0;32m   1020\u001B[0m     qapp \u001B[38;5;241m=\u001B[39m QtWidgets\u001B[38;5;241m.\u001B[39mQApplication\u001B[38;5;241m.\u001B[39minstance()\n\u001B[1;32m-> 1021\u001B[0m \u001B[43m    \u001B[49m\u001B[38;5;28;43;01mwith\u001B[39;49;00m\u001B[43m \u001B[49m\u001B[43m_maybe_allow_interrupt\u001B[49m\u001B[43m(\u001B[49m\u001B[43mqapp\u001B[49m\u001B[43m)\u001B[49m\u001B[43m:\u001B[49m\n\u001B[0;32m   1022\u001B[0m \u001B[43m        \u001B[49m\u001B[43mqt_compat\u001B[49m\u001B[38;5;241;43m.\u001B[39;49m\u001B[43m_exec\u001B[49m\u001B[43m(\u001B[49m\u001B[43mqapp\u001B[49m\u001B[43m)\u001B[49m\n",
      "File \u001B[1;32m~\\AppData\\Local\\Programs\\Python\\Python311\\Lib\\contextlib.py:144\u001B[0m, in \u001B[0;36m_GeneratorContextManager.__exit__\u001B[1;34m(self, typ, value, traceback)\u001B[0m\n\u001B[0;32m    142\u001B[0m \u001B[38;5;28;01mif\u001B[39;00m typ \u001B[38;5;129;01mis\u001B[39;00m \u001B[38;5;28;01mNone\u001B[39;00m:\n\u001B[0;32m    143\u001B[0m     \u001B[38;5;28;01mtry\u001B[39;00m:\n\u001B[1;32m--> 144\u001B[0m         \u001B[38;5;28mnext\u001B[39m(\u001B[38;5;28mself\u001B[39m\u001B[38;5;241m.\u001B[39mgen)\n\u001B[0;32m    145\u001B[0m     \u001B[38;5;28;01mexcept\u001B[39;00m \u001B[38;5;167;01mStopIteration\u001B[39;00m:\n\u001B[0;32m    146\u001B[0m         \u001B[38;5;28;01mreturn\u001B[39;00m \u001B[38;5;28;01mFalse\u001B[39;00m\n",
      "File \u001B[1;32m~\\AppData\\Local\\Programs\\Python\\Python311\\Lib\\site-packages\\matplotlib\\backends\\qt_compat.py:269\u001B[0m, in \u001B[0;36m_maybe_allow_interrupt\u001B[1;34m(qapp)\u001B[0m\n\u001B[0;32m    267\u001B[0m signal\u001B[38;5;241m.\u001B[39msignal(signal\u001B[38;5;241m.\u001B[39mSIGINT, old_sigint_handler)\n\u001B[0;32m    268\u001B[0m \u001B[38;5;28;01mif\u001B[39;00m handler_args \u001B[38;5;129;01mis\u001B[39;00m \u001B[38;5;129;01mnot\u001B[39;00m \u001B[38;5;28;01mNone\u001B[39;00m:\n\u001B[1;32m--> 269\u001B[0m     \u001B[43mold_sigint_handler\u001B[49m\u001B[43m(\u001B[49m\u001B[38;5;241;43m*\u001B[39;49m\u001B[43mhandler_args\u001B[49m\u001B[43m)\u001B[49m\n",
      "\u001B[1;31mKeyboardInterrupt\u001B[0m: "
     ]
    }
   ],
   "source": [
    "fig, (ax1,ax2,ax3) = plt.subplots(3,1)\n",
    "\n",
    "ax1.errorbar(legend, np.array(cryst_2_loc), fmt='-o')\n",
    "ax1.set_ylabel(r'Loc 2 micron peak')\n",
    "\n",
    "ax2.errorbar(legend, np.array(cryst_area_1), fmt='-o')\n",
    "ax2.set_ylabel(r'Cryst Area')\n",
    "\n",
    "ax3.errorbar(legend, np.array(cryst_area_norm_1), fmt='-o')\n",
    "ax3.set_ylabel(r'Cryst Area Normalized')\n",
    "\n",
    "ax1.grid()\n",
    "ax2.grid()\n",
    "ax3.grid()\n",
    "\n",
    "plt.show()"
   ],
   "metadata": {
    "collapsed": false,
    "ExecuteTime": {
     "end_time": "2023-10-03T15:50:51.551225100Z",
     "start_time": "2023-10-03T15:50:37.655349300Z"
    }
   }
  },
  {
   "cell_type": "code",
   "execution_count": null,
   "outputs": [],
   "source": [
    "cube = cube_R1['1511675722_1']"
   ],
   "metadata": {
    "collapsed": false
   }
  },
  {
   "cell_type": "code",
   "execution_count": null,
   "outputs": [],
   "source": [
    "bg = MAPS[cube.target_name]\n",
    "fig, ax = bg.figure(figsize=(20, 10))\n",
    "\n",
    "ax.add_collection(cube.pixels(2.03, vmin=.05, vmax=.18))\n",
    "plt.show()"
   ],
   "metadata": {
    "collapsed": false
   }
  },
  {
   "cell_type": "code",
   "execution_count": null,
   "outputs": [],
   "source": [
    "pixel = cube.get_pixel(25,8)\n",
    "\n",
    "ax = hapke.plot_pixel_equi(2.03,cube,[(pixel.s,pixel.l)],background=True)\n",
    "\n",
    "plt.show()"
   ],
   "metadata": {
    "collapsed": false
   }
  },
  {
   "cell_type": "code",
   "execution_count": null,
   "outputs": [],
   "source": [
    "pixel1 = cube@(13, 50)\n",
    "\n",
    "e, i, phase = [np.deg2rad(pixel1.eme),np.deg2rad(pixel1.inc),np.deg2rad(pixel1.phase)]\n",
    "\n",
    "\n",
    "angles = [e,i,phase]\n",
    "IF1 = pixel1.spectrum\n",
    "wav1 = pixel1.wvlns\n",
    "ini_par = [0.1,0.00001]\n",
    "\n",
    "body = 0\n",
    "\n",
    "optimized_parameters = optimize.least_squares(\n",
    "    hapke.cost_function_mixed, ini_par, args=(wav, angles, IF1, wav1,n_c,k_c,n_a,k_a,0,2.8)\n",
    ")\n",
    "\n",
    "optimized_values = optimized_parameters.x\n",
    "hapke.print_error_correlation(optimized_parameters)\n",
    "\n",
    "print('')\n",
    "\n",
    "ini_mass = 0.1\n",
    "\n",
    "cryst_fit = optimize.least_squares(\n",
    "        hapke.cost_function_mixed_mass_fraction, ini_mass, args=(wav, angles, IF1, wav1,n_c,k_c,n_a,k_a,optimized_values,1.45,1.8,1.8), bounds=([0],[1]),\n",
    ")\n",
    "\n",
    "hapke.print_error_correlation(cryst_fit)\n",
    "\n",
    "print('1.2-1.65 RATIO: ' + str(hapke.crystallinity_coecient(IF1,wav1)))\n",
    "\n",
    "print('')\n",
    "print('Longitude: ' + str(pixel1.lon))\n",
    "print('Latitude: ' + str(pixel1.lat))\n",
    "print('Phase: ' + str(pixel1.phase))"
   ],
   "metadata": {
    "collapsed": false
   }
  },
  {
   "cell_type": "code",
   "execution_count": null,
   "outputs": [],
   "source": [
    "print(hapke.cryst_area(IF1,wav1)['area'])\n",
    "print(hapke.cryst_area(hapke.hapke_model_mixed(optimized_values, wav, angles, n_c, k_c, n_a, k_a)['IF'],wav)['area'])\n",
    "print(hapke.cryst_area(IF1,wav1)['area']/hapke.cryst_area(hapke.hapke_model_mixed(optimized_values, wav, angles, n_c, k_c, n_a, k_a)['IF'],wav)['area'])"
   ],
   "metadata": {
    "collapsed": false
   }
  },
  {
   "cell_type": "code",
   "execution_count": null,
   "outputs": [],
   "source": [
    "fig, ax = plt.subplots()\n",
    "ax.plot(wav1, IF1)\n",
    "ax.plot(wav, hapke.hapke_model_mixed(optimized_values, wav, angles, n_c, k_c, n_a, k_a)['IF'], ls = ':')\n",
    "ax.plot(wav, hapke.hapke_model_mixed_mass_fraction(cryst_fit.x, wav, angles, n_c, k_c, n_a, k_a,optimized_values)['IF'], ls = '-.')\n",
    "ax.set_xlabel(r'Wavelength [$\\mu$m]')\n",
    "ax.set_ylabel('I/F')\n",
    "ax.set_title('')\n",
    "ax.set_xlim(1.1,3.3)\n",
    "ax.grid()\n",
    "plt.legend(loc='center left', bbox_to_anchor=(1, 0.5))\n",
    "#ax.legend()\n",
    "plt.show()"
   ],
   "metadata": {
    "collapsed": false
   }
  },
  {
   "cell_type": "code",
   "execution_count": null,
   "outputs": [],
   "source": [
    "pixel1 = cube@(30,15)\n",
    "\n",
    "e, i, phase = [np.deg2rad(pixel1.eme),np.deg2rad(pixel1.inc),np.deg2rad(pixel1.phase)]\n",
    "\n",
    "\n",
    "angles = [e,i,phase]\n",
    "IF1 = pixel1.spectrum\n",
    "wav1 = pixel1.wvlns\n",
    "ini_par = [0.1,np.deg2rad(20),0.1,0.00005,0.5]\n",
    "\n",
    "body = cube.target_name\n",
    "\n",
    "optimized_parameters = optimize.least_squares(\n",
    "    hapke.cost_function_mixed_no_weight, ini_par, args=(wav, angles, IF1, wav1,n_c,k_c,n_a,k_a,1.5,1.85,body), bounds=([0.001,0,0,0,0], [1,np.deg2rad(44.9),0.74,0.001,1], ), x_scale='jac',\n",
    ")\n",
    "\n",
    "optimized_values = optimized_parameters.x\n",
    "hapke.print_error_correlation(optimized_parameters)\n",
    "\n",
    "print('')\n",
    "print('Longitude: ' + str(pixel1.lon))\n",
    "print('Latitude: ' + str(pixel1.lat))\n",
    "print('Phase: ' + str(pixel1.phase))"
   ],
   "metadata": {
    "collapsed": false
   }
  },
  {
   "cell_type": "markdown",
   "source": [
    "This cell below created 20 randomly generated initial parameters and store the results of the fits on a dictionary fit_dict. The variable count adds one every time a set of generated initial parameters leads to the same solution than the previous one."
   ],
   "metadata": {
    "collapsed": false
   }
  },
  {
   "cell_type": "code",
   "execution_count": null,
   "outputs": [],
   "source": [
    "fit_dict = {}\n",
    "count = 0\n",
    "n_fits = 20\n",
    "\n",
    "for i in range(n_fits):\n",
    "    param = [random.random()*0.74,random.random()*0.001,random.random()]\n",
    "    optimized_parameters = optimize.least_squares(\n",
    "        hapke.cost_function_mixed_no_weight, param, args=(wav, angles, IF1, wav1,n_c,k_c,n_a,k_a,0,2.8,body), bounds=([0.00001,0.000001,0], [0.74,0.001,1], ),\n",
    "    )\n",
    "\n",
    "    fit_dict[i] = {'x': optimized_parameters.x, 'cost': optimized_parameters.cost}\n",
    "\n",
    "    if i == 0:\n",
    "\n",
    "        opt_param =  optimized_parameters.x\n",
    "        opt_cost = optimized_parameters.cost\n",
    "        count += 1\n",
    "        print(optimized_parameters.x)\n",
    "        print('COST = ' + str(optimized_parameters.cost))\n",
    "\n",
    "    elif i >= i:\n",
    "\n",
    "        rel_er1 = abs(opt_param[0] - optimized_parameters.x[0]) / opt_param[0]\n",
    "        rel_er2 = abs(opt_param[1] - optimized_parameters.x[1]) / opt_param[1]\n",
    "        rel_er3 =abs(opt_param[2] - optimized_parameters.x[2]) / opt_param[2]\n",
    "\n",
    "        if rel_er1 > 0.0001 or rel_er2 > 0.0001 or rel_er3 > 0.0001:\n",
    "            print('PARAMETERS CHANGED')\n",
    "            best_fit =  optimized_parameters\n",
    "            print(optimized_parameters.x)\n",
    "            print('COST = ' + str(optimized_parameters.cost))\n",
    "        else:\n",
    "            count += 1\n",
    "print(count)"
   ],
   "metadata": {
    "collapsed": false
   }
  },
  {
   "cell_type": "code",
   "execution_count": null,
   "outputs": [],
   "source": [
    "fit_dict = {}\n",
    "count = 0\n",
    "n_fits = 20\n",
    "\n",
    "for i in range(n_fits):\n",
    "    param = [random.random(),random.random()*np.deg2rad(44.5),random.random()*0.74,random.random()*0.001,random.random()]\n",
    "    optimized_parameters = optimize.least_squares(\n",
    "        hapke.cost_function_mixed_no_weight, param, args=(wav, angles, IF1, wav1,n_c,k_c,n_a,k_a,0,2.8,body), bounds=([0.001,0,0,0,0], [1,np.deg2rad(44.9),0.74,0.001,1], ),\n",
    "    )\n",
    "\n",
    "    fit_dict[i] = {'x': optimized_parameters.x, 'cost': optimized_parameters.cost}\n",
    "\n",
    "    if i == 0:\n",
    "\n",
    "        opt_param =  optimized_parameters.x\n",
    "        opt_cost = optimized_parameters.cost\n",
    "        count += 1\n",
    "        print(optimized_parameters.x)\n",
    "        print('COST = ' + str(optimized_parameters.cost))\n",
    "\n",
    "    elif i >= i:\n",
    "\n",
    "        rel_er1 = abs(opt_param[0] - optimized_parameters.x[0]) / opt_param[0]\n",
    "        rel_er2 = abs(opt_param[1] - optimized_parameters.x[1]) / opt_param[1]\n",
    "        rel_er3 =abs(opt_param[2] - optimized_parameters.x[2]) / opt_param[2]\n",
    "        rel_er4 = abs(opt_param[3] - optimized_parameters.x[3]) / opt_param[3]\n",
    "        rel_er5 =abs(opt_param[4] - optimized_parameters.x[4]) / opt_param[4]\n",
    "\n",
    "        if rel_er1 > 0.0001 or rel_er2 > 0.0001 or rel_er3 > 0.0001 or rel_er4 > 0.0001 or rel_er5 > 0.0001:\n",
    "            print('PARAMETERS CHANGED')\n",
    "            best_fit =  optimized_parameters\n",
    "            print(optimized_parameters.x)\n",
    "            print('COST = ' + str(optimized_parameters.cost))\n",
    "        else:\n",
    "            count += 1\n",
    "print(count)"
   ],
   "metadata": {
    "collapsed": false
   }
  },
  {
   "cell_type": "code",
   "execution_count": null,
   "outputs": [],
   "source": [
    "print(fit_dict)"
   ],
   "metadata": {
    "collapsed": false
   }
  },
  {
   "cell_type": "code",
   "execution_count": null,
   "outputs": [],
   "source": [
    "optimized_values = optimized_parameters.x\n",
    "\n",
    "old_hapke = hapke.hapke_model_mixed(ini_par,wav, angles, n_c,k_c,n_a,k_a,body)['IF']\n",
    "\n",
    "new_hapke = hapke.hapke_model_mixed(optimized_values,wav, angles, n_c,k_c,n_a,k_a,body)['IF']\n",
    "\n",
    "fig, ax = plt.subplots(figsize = (8,3))\n",
    "ax.plot(wav, old_hapke, label = 'Hapke Initial')\n",
    "ax.plot(wav, new_hapke, label = 'Hapke Optimized')\n",
    "ax.plot(wav1, IF1, label = 'Pixel')\n",
    "ax.set_xlabel('Wavelength [$\\mu$m]')\n",
    "ax.set_ylabel('I/F')\n",
    "ax.set_xlim(1.1,3.2)\n",
    "ax.set_title('')\n",
    "ax.legend()\n",
    "plt.show()"
   ],
   "metadata": {
    "collapsed": false
   }
  },
  {
   "cell_type": "code",
   "execution_count": null,
   "outputs": [],
   "source": [
    "plt.figure(figsize=(12, 8))\n",
    "\n",
    "plt.imshow(cube@2.03, extent=cube.extent, cmap='gray', vmin=0, vmax=.18)\n",
    "\n",
    "plt.colorbar(extend='max', label='I/F')\n",
    "\n",
    "plt.scatter(13, 50, s=150)\n",
    "\n",
    "plt.xlabel(cube.slabel)\n",
    "plt.ylabel(cube.llabel)\n",
    "\n",
    "plt.xticks(cube.sticks)\n",
    "plt.yticks(cube.lticks)\n",
    "plt.show()"
   ],
   "metadata": {
    "collapsed": false
   }
  },
  {
   "cell_type": "markdown",
   "source": [
    "These coming two cells plot the surface response: the residuals compared to the spectrum taken by VIMS. Note that wa1 and IF1 need to be defined beforehand and that the function hapke_mixed needs to be changes to be 2D in parameters"
   ],
   "metadata": {
    "collapsed": false
   }
  },
  {
   "cell_type": "code",
   "execution_count": null,
   "outputs": [],
   "source": [
    "# SURFACE RESPONSE OF ENCELADUS SPECTRA\n",
    "\n",
    "real_par = [0.51,0.00007]\n",
    "\n",
    "m_range = np.linspace(0.001,1,30)\n",
    "phi_range = np.linspace(0.001,0.74,30)\n",
    "\n",
    "residuals = np.zeros((len(phi_range),len(m_range)))\n",
    "\n",
    "\n",
    "interp_func_2 = interp1d(wav1, IF1, bounds_error=False)\n",
    "\n",
    "interpolated_lab = interp_func_2(wav)\n",
    "\n",
    "for i in range(len(phi_range)):\n",
    "    for j in range(len(m_range)):\n",
    "        param = [phi_range[i], m_range[j]]\n",
    "        dif = (interpolated_lab - hapke.hapke_model_mixed(param,wav,angles,n_c,k_c,n_a,k_a,body)['IF'])\n",
    "        dif = dif[~np.isnan(dif)]\n",
    "        residuals[i,j] = np.linalg.norm(dif)"
   ],
   "metadata": {
    "collapsed": false
   }
  },
  {
   "cell_type": "code",
   "execution_count": null,
   "outputs": [],
   "source": [
    "# 3D PLOT OF THE SURFACE RESPONSE\n",
    "\n",
    "phi_range, m_range = np.meshgrid(phi_range, m_range)\n",
    "# Define the data\n",
    "\n",
    "# Create a 3D plot\n",
    "fig = plt.figure(figsize = (4,4))\n",
    "ax = fig.add_subplot(111, projection='3d')\n",
    "ax.plot_surface(phi_range, m_range, residuals.T, cmap='viridis')\n",
    "ax.scatter(0.16933,0.502, c = 'green', label = 'Real solution' )\n",
    "ax.legend()\n",
    "ax.set_xlabel(r'$\\phi$ [-]')\n",
    "ax.set_ylabel(r'$m$ [-]')\n",
    "ax.set_zlabel('Residuals')\n",
    "# Show the plot\n",
    "plt.show()"
   ],
   "metadata": {
    "collapsed": false
   }
  }
 ],
 "metadata": {
  "kernelspec": {
   "display_name": "Python 3 (ipykernel)",
   "language": "python",
   "name": "python3"
  },
  "language_info": {
   "codemirror_mode": {
    "name": "ipython",
    "version": 3
   },
   "file_extension": ".py",
   "mimetype": "text/x-python",
   "name": "python",
   "nbconvert_exporter": "python",
   "pygments_lexer": "ipython3",
   "version": "3.11.3"
  }
 },
 "nbformat": 4,
 "nbformat_minor": 5
}
