{
 "cells": [
  {
   "cell_type": "code",
   "execution_count": null,
   "outputs": [],
   "source": [
    "import numpy as np\n",
    "import hapke\n",
    "import matplotlib.pyplot as plt\n",
    "from scipy import optimize\n",
    "import os\n",
    "import shutil\n",
    "from pyvims import VIMS"
   ],
   "metadata": {
    "collapsed": false
   }
  },
  {
   "cell_type": "code",
   "execution_count": null,
   "outputs": [],
   "source": [
    "# DOWNLOAD THE CUBE AND ALLOCATE IT TO THE RIGHT FOLDER\n",
    "\n",
    "cube_id = '1671591682_1'\n",
    "\n",
    "directory = 'C:/Users/USUARIO/Desktop/MSc Thesis/Phase A - Data Analysis/Data/'\n",
    "cube = VIMS(cube_id,root=directory)\n",
    "\n",
    "origin = directory + cube.fname\n",
    "destination = directory + cube.target_name + '/' + str(cube.flyby)\n",
    "\n",
    "# If the folder does not exist, create it\n",
    "\n",
    "if not os.path.exists(destination):\n",
    "    os.mkdir(destination)\n",
    "    print(\"New folder created\")\n",
    "\n",
    "if os.path.exists(destination + '/' + cube.fname):\n",
    "    print(\"Existing Cube\")\n",
    "else:\n",
    "    shutil.move(origin, destination)\n",
    "\n",
    "print(\"Cube saved in: \" + destination)\n"
   ],
   "metadata": {
    "collapsed": false
   }
  },
  {
   "cell_type": "code",
   "execution_count": null,
   "outputs": [],
   "source": [
    "T = 80\n",
    "N = 20\n",
    "opt = hapke.opticalconstants(T, sensitivity= N)\n",
    "n = opt['n']\n",
    "k = opt['k']\n",
    "wav = opt['wav']\n"
   ],
   "metadata": {
    "collapsed": false
   }
  },
  {
   "cell_type": "code",
   "execution_count": null,
   "outputs": [],
   "source": [
    "pixel1 = cube@(36, 15)\n",
    "e, i, phase = [np.deg2rad(pixel1.eme),np.deg2rad(pixel1.inc),np.deg2rad(pixel1.phase)]\n",
    "\n",
    "\n",
    "angles = [e,i,phase]\n",
    "IF1 = pixel1.spectrum\n",
    "wav1 = pixel1.wvlns\n",
    "ini_par = [0.00006, 0.5, np.deg2rad(20)]\n",
    "\n",
    "optimized_parameters = optimize.least_squares(\n",
    "    hapke.cost_function, ini_par, args=(wav, angles, IF1, wav1,n,k,3.2), bounds=([0.000001,0.0,0.0], [0.001,0.74,np.deg2rad(45)], ),\n",
    ")\n",
    "optimized_values = optimized_parameters.x\n",
    "print(optimized_parameters)\n",
    "print('XXXXXXXXXXXXXXXXXXXXXXXXXXXXXXXXXXX')\n",
    "cov_matrix = np.linalg.inv(optimized_parameters.jac.T @ optimized_parameters.jac)\n",
    "\n",
    "# Calculate the standard errors of the optimized parameters\n",
    "parameter_errors = np.sqrt(np.diag(cov_matrix))\n",
    "\n",
    "# Print the optimized parameter values and their errors\n",
    "for i, value in enumerate(optimized_values):\n",
    "    print(f\"Parameter {i+1}: {value:} +/- {parameter_errors[i]:.6f}\")\n",
    "\n",
    "correlation_matrix = cov_matrix / np.outer(parameter_errors, parameter_errors)\n",
    "\n",
    "print(\"Correlation matrix:\")\n",
    "print(correlation_matrix)"
   ],
   "metadata": {
    "collapsed": false
   }
  },
  {
   "cell_type": "code",
   "execution_count": null,
   "outputs": [],
   "source": [
    "optimized_values = optimized_parameters.x\n",
    "\n",
    "old_hapke = hapke.hapke_model(ini_par,wav, angles, n,k)['IF']\n",
    "\n",
    "new_hapke = hapke.hapke_model(optimized_parameters.x,wav,angles, n,k)['IF']\n",
    "\n",
    "fig, ax = plt.subplots()\n",
    "ax.plot(wav, old_hapke, label = 'Hapke Initial')\n",
    "ax.plot(wav, new_hapke, label = 'Hapke Optimized')\n",
    "ax.plot(wav1, IF1, label = 'Pixel')\n",
    "ax.set_xlabel('Wavelength (um)')\n",
    "ax.set_ylabel('I/F')\n",
    "ax.set_title('')\n",
    "ax.legend()\n",
    "plt.show()"
   ],
   "metadata": {
    "collapsed": false
   }
  },
  {
   "cell_type": "code",
   "execution_count": null,
   "outputs": [],
   "source": [
    "optimized_values = optimized_parameters.x\n",
    "\n",
    "# Retrieve the covariance matrix\n",
    "cov_matrix = np.linalg.inv(optimized_parameters.jac.T @ optimized_parameters.jac)\n",
    "\n",
    "# Calculate the standard errors of the optimized parameters\n",
    "parameter_errors = np.sqrt(np.diag(cov_matrix))\n",
    "\n",
    "# Print the optimized parameter values and their errors\n",
    "for i, value in enumerate(optimized_values):\n",
    "    print(f\"Parameter {i+1}: {value:} +/- {parameter_errors[i]:.4f}\")\n",
    "\n",
    "# Calculate correlation matrix\n",
    "correlation_matrix = cov_matrix / np.outer(parameter_errors, parameter_errors)\n",
    "\n",
    "print(\"Correlation matrix:\")\n",
    "print(correlation_matrix)"
   ],
   "metadata": {
    "collapsed": false
   }
  },
  {
   "cell_type": "code",
   "execution_count": null,
   "outputs": [],
   "source": [
    "ini_par = [0.30, 0.00001, np.deg2rad(20), 0.3]\n",
    "\n",
    "optimized_parameters_mixed = optimize.least_squares(\n",
    "    hapke.cost_function_mixed, ini_par, args=(wav, angles, IF1, wav1,n,k,n2,k2), bounds=([0.0,0.0,0.0,0.0], [0.75,0.001,np.deg2rad(45),1.0])\n",
    ")"
   ],
   "metadata": {
    "collapsed": false
   }
  },
  {
   "cell_type": "code",
   "execution_count": null,
   "outputs": [],
   "source": [
    "optimized_values_mixed = optimized_parameters_mixed.x\n",
    "\n",
    "# Retrieve the covariance matrix\n",
    "cov_matrix = np.linalg.inv(optimized_parameters_mixed.jac.T @ optimized_parameters_mixed.jac)\n",
    "\n",
    "# Calculate the standard errors of the optimized parameters\n",
    "parameter_errors = np.sqrt(np.diag(cov_matrix))\n",
    "\n",
    "# Print the optimized parameter values and their errors\n",
    "for i, value in enumerate(optimized_values_mixed):\n",
    "    print(f\"Parameter {i+1}: {value:} +/- {parameter_errors[i]:.4f}\")\n",
    "\n",
    "# Calculate correlation matrix\n",
    "correlation_matrix = cov_matrix / np.outer(parameter_errors, parameter_errors)\n",
    "\n",
    "print(\"Correlation matrix:\")\n",
    "print(correlation_matrix)"
   ],
   "metadata": {
    "collapsed": false
   }
  },
  {
   "cell_type": "code",
   "execution_count": null,
   "outputs": [],
   "source": [
    "optimized_values_mixed = optimized_parameters_mixed.x\n",
    "\n",
    "old_hapke = hapke.hapke_model_mixed(ini_par,wav, angles, n,k,n2,k2)['IF']\n",
    "\n",
    "new_hapke = hapke.hapke_model_mixed(optimized_parameters_mixed.x,wav,angles, n,k,n2,k2)['IF']\n",
    "\n",
    "fig, ax = plt.subplots()\n",
    "ax.plot(wav, old_hapke, label = 'Hapke Initial')\n",
    "ax.plot(wav, new_hapke, label = 'Hapke Optimized')\n",
    "ax.plot(wav1, IF1, label = 'Pixel')\n",
    "ax.plot(wav1, optimized_parameters_mixed.fun, ls = '--')\n",
    "ax.set_xlabel('Wavelength (um)')\n",
    "ax.set_ylabel('I/F')\n",
    "ax.set_title('')\n",
    "ax.legend()\n",
    "plt.show()"
   ],
   "metadata": {
    "collapsed": false
   }
  },
  {
   "cell_type": "code",
   "execution_count": null,
   "outputs": [],
   "source": [
    "plt.figure(figsize=(12, 8))\n",
    "\n",
    "plt.imshow(cube@2.03, extent=cube.extent, cmap='gray', vmin=0, vmax=.18)\n",
    "\n",
    "plt.colorbar(extend='max', label='I/F')\n",
    "\n",
    "plt.scatter(36, 15, s=150)\n",
    "plt.scatter(27, 30, s=150)\n",
    "\n",
    "plt.xlabel(cube.slabel)\n",
    "plt.ylabel(cube.llabel)\n",
    "\n",
    "plt.xticks(cube.sticks)\n",
    "plt.yticks(cube.lticks);"
   ],
   "metadata": {
    "collapsed": false
   }
  },
  {
   "cell_type": "code",
   "execution_count": null,
   "outputs": [],
   "source": [
    "pixel1 = cube@(27, 30)\n",
    "\n",
    "i = np.deg2rad(pixel1.inc)\n",
    "e = np.deg2rad(pixel1.eme)\n",
    "g = np.deg2rad(pixel1.phase)\n",
    "\n",
    "print(pixel1.inc,pixel1.eme,pixel1.phase)\n",
    "\n",
    "IF1 = pixel1.spectrum\n",
    "wav1 = pixel1.wvlns\n",
    "\n",
    "gamma = np.arctan((np.cos(i))/(np.cos(e)*np.sin(g)) - 1 / np.tan(g))\n",
    "beta = np.cos(e)/np.cos(gamma)\n",
    "\n",
    "disk_f = np.cos(g/2)*np.cos((np.pi/(np.pi-g))*(gamma-g/2))*beta**(g/(np.pi-g))/np.cos(gamma)\n",
    "albedo = IF1/(disk_f*(1-0.3651*g))\n",
    "\n",
    "\n",
    "\n",
    "ini_par = [0.30, 0.00001, np.deg2rad(20)]\n",
    "\n",
    "optimized_parameters = optimize.least_squares(\n",
    "    cost_function, ini_par, args=(wavelength_range1, e, i, g, IF1, wav1), bounds=([0.0,0.0,0.0], [0.75,0.0001,np.deg2rad(45)])\n",
    ")"
   ],
   "metadata": {
    "collapsed": false
   }
  },
  {
   "cell_type": "code",
   "execution_count": null,
   "outputs": [],
   "source": [
    "print(optimized_parameters)\n",
    "optimized_values = optimized_parameters.x\n",
    "new_hapke = hapke_model(optimized_parameters.x,wavelength_range1,e,i,g)\n",
    "\n",
    "fig, ax = plt.subplots()\n",
    "ax.plot(wavelength_range1, hapke_model(ini_par,wavelength_range1,e,i,g), label = 'Hapke Initial')\n",
    "ax.plot(wavelength_range1, new_hapke, label = 'Hapke Optimized')\n",
    "ax.plot(wav1, IF1, label = 'Pixel')\n",
    "ax.plot(wav1, optimized_parameters.fun, ls = '--')\n",
    "ax.set_xlabel('Wavelength (um)')\n",
    "ax.set_ylabel('I/F')\n",
    "ax.set_title('')\n",
    "ax.legend()\n",
    "plt.show()"
   ],
   "metadata": {
    "collapsed": false
   }
  },
  {
   "cell_type": "code",
   "execution_count": null,
   "outputs": [],
   "source": [
    "optimized_values = optimized_parameters.x\n",
    "\n",
    "# Retrieve the covariance matrix\n",
    "cov_matrix = np.linalg.inv(optimized_parameters.jac.T @ optimized_parameters.jac)\n",
    "\n",
    "# Calculate the standard errors of the optimized parameters\n",
    "parameter_errors = np.sqrt(np.diag(cov_matrix))\n",
    "\n",
    "# Print the optimized parameter values and their errors\n",
    "for i, value in enumerate(optimized_values):\n",
    "    print(f\"Parameter {i+1}: {value:} +/- {parameter_errors[i]:.4f}\")\n",
    "\n",
    "correlation_matrix = cov_matrix / np.outer(parameter_errors, parameter_errors)\n",
    "\n",
    "print(\"Correlation matrix:\")\n",
    "print(correlation_matrix)"
   ],
   "metadata": {
    "collapsed": false
   }
  },
  {
   "cell_type": "code",
   "execution_count": null,
   "outputs": [],
   "source": [],
   "metadata": {
    "collapsed": false
   }
  }
 ],
 "metadata": {
  "kernelspec": {
   "display_name": "Python 3 (ipykernel)",
   "language": "python",
   "name": "python3"
  },
  "language_info": {
   "codemirror_mode": {
    "name": "ipython",
    "version": 3
   },
   "file_extension": ".py",
   "mimetype": "text/x-python",
   "name": "python",
   "nbconvert_exporter": "python",
   "pygments_lexer": "ipython3",
   "version": "3.11.3"
  }
 },
 "nbformat": 4,
 "nbformat_minor": 5
}
