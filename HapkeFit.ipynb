{
 "cells": [
  {
   "cell_type": "code",
   "execution_count": 1,
   "outputs": [],
   "source": [
    "import numpy as np\n",
    "import hapke\n",
    "import matplotlib\n",
    "matplotlib.use('Qt5Agg')\n",
    "import matplotlib.pyplot as plt\n",
    "from scipy import optimize\n",
    "from mpl_toolkits import mplot3d\n",
    "from scipy.interpolate import interp1d\n",
    "from pyvims import VIMS\n",
    "from pyvims.misc import MAPS\n",
    "import random\n",
    "from pyvims.misc import Map\n",
    "from mpl_toolkits.axes_grid1.inset_locator import inset_axes\n",
    "import matplotlib.patches as patches\n",
    "from matplotlib.patches import Polygon\n",
    "from pathlib import Path\n",
    "from pyvims.wget import wget\n",
    "plt.rcParams.update({'font.size': 12})"
   ],
   "metadata": {
    "collapsed": false,
    "ExecuteTime": {
     "end_time": "2023-09-12T08:00:47.549770600Z",
     "start_time": "2023-09-12T08:00:46.058373700Z"
    }
   }
  },
  {
   "cell_type": "markdown",
   "source": [
    "Load cube (using hapke.retrieve_cube) and optical constants (hapke.opticalconstants)"
   ],
   "metadata": {
    "collapsed": false
   }
  },
  {
   "cell_type": "code",
   "execution_count": 2,
   "outputs": [
    {
     "name": "stdout",
     "output_type": "stream",
     "text": [
      "Existing Cube\n",
      "Cube saved in: C:/Users/USUARIO/Desktop/MSc Thesis/Phase A - Data Analysis/Data/RHEA/R4\n"
     ]
    }
   ],
   "source": [
    "cube_id = '1741557137_1'\n",
    "\n",
    "cube = hapke.retrieve_cube(cube_id)\n",
    "\n",
    "T = 80\n",
    "N = 20\n",
    "\n",
    "opt_c = hapke.opticalconstants(T,sensitivity = N)\n",
    "n_c = opt_c['n']\n",
    "k_c = opt_c['k']\n",
    "wav_c = opt_c['wav']\n",
    "\n",
    "opt_a = hapke.opticalconstants(T, sensitivity= N,crystallinity=False)\n",
    "n_a = opt_a['n']\n",
    "k_a = opt_a['k']\n",
    "wav_a = opt_a['wav']\n",
    "\n",
    "int_opt = hapke.inter_optical_constants(wav_c, wav_a, n_c, k_c)\n",
    "\n",
    "wav = np.array(int_opt['wav'])\n",
    "n_c = int_opt['n']\n",
    "k_c = int_opt['k']\n"
   ],
   "metadata": {
    "collapsed": false,
    "ExecuteTime": {
     "end_time": "2023-09-12T08:00:48.308930100Z",
     "start_time": "2023-09-12T08:00:47.549770600Z"
    }
   }
  },
  {
   "cell_type": "code",
   "execution_count": 3,
   "outputs": [
    {
     "ename": "KeyboardInterrupt",
     "evalue": "",
     "output_type": "error",
     "traceback": [
      "\u001B[1;31m---------------------------------------------------------------------------\u001B[0m",
      "\u001B[1;31mKeyboardInterrupt\u001B[0m                         Traceback (most recent call last)",
      "Cell \u001B[1;32mIn[3], line 5\u001B[0m\n\u001B[0;32m      2\u001B[0m fig, ax \u001B[38;5;241m=\u001B[39m bg\u001B[38;5;241m.\u001B[39mfigure(figsize\u001B[38;5;241m=\u001B[39m(\u001B[38;5;241m20\u001B[39m, \u001B[38;5;241m10\u001B[39m))\n\u001B[0;32m      4\u001B[0m ax\u001B[38;5;241m.\u001B[39madd_collection(cube\u001B[38;5;241m.\u001B[39mpixels(\u001B[38;5;241m2.03\u001B[39m, vmin\u001B[38;5;241m=\u001B[39m\u001B[38;5;241m.05\u001B[39m, vmax\u001B[38;5;241m=\u001B[39m\u001B[38;5;241m.18\u001B[39m))\n\u001B[1;32m----> 5\u001B[0m \u001B[43mplt\u001B[49m\u001B[38;5;241;43m.\u001B[39;49m\u001B[43mshow\u001B[49m\u001B[43m(\u001B[49m\u001B[43m)\u001B[49m\n",
      "File \u001B[1;32m~\\AppData\\Local\\Programs\\Python\\Python311\\Lib\\site-packages\\matplotlib\\pyplot.py:421\u001B[0m, in \u001B[0;36mshow\u001B[1;34m(*args, **kwargs)\u001B[0m\n\u001B[0;32m    377\u001B[0m \u001B[38;5;250m\u001B[39m\u001B[38;5;124;03m\"\"\"\u001B[39;00m\n\u001B[0;32m    378\u001B[0m \u001B[38;5;124;03mDisplay all open figures.\u001B[39;00m\n\u001B[0;32m    379\u001B[0m \n\u001B[1;32m   (...)\u001B[0m\n\u001B[0;32m    418\u001B[0m \u001B[38;5;124;03mexplicitly there.\u001B[39;00m\n\u001B[0;32m    419\u001B[0m \u001B[38;5;124;03m\"\"\"\u001B[39;00m\n\u001B[0;32m    420\u001B[0m _warn_if_gui_out_of_main_thread()\n\u001B[1;32m--> 421\u001B[0m \u001B[38;5;28;01mreturn\u001B[39;00m \u001B[43m_get_backend_mod\u001B[49m\u001B[43m(\u001B[49m\u001B[43m)\u001B[49m\u001B[38;5;241;43m.\u001B[39;49m\u001B[43mshow\u001B[49m\u001B[43m(\u001B[49m\u001B[38;5;241;43m*\u001B[39;49m\u001B[43margs\u001B[49m\u001B[43m,\u001B[49m\u001B[43m \u001B[49m\u001B[38;5;241;43m*\u001B[39;49m\u001B[38;5;241;43m*\u001B[39;49m\u001B[43mkwargs\u001B[49m\u001B[43m)\u001B[49m\n",
      "File \u001B[1;32m~\\AppData\\Local\\Programs\\Python\\Python311\\Lib\\site-packages\\matplotlib\\backend_bases.py:3554\u001B[0m, in \u001B[0;36m_Backend.show\u001B[1;34m(cls, block)\u001B[0m\n\u001B[0;32m   3552\u001B[0m     block \u001B[38;5;241m=\u001B[39m \u001B[38;5;129;01mnot\u001B[39;00m ipython_pylab \u001B[38;5;129;01mand\u001B[39;00m \u001B[38;5;129;01mnot\u001B[39;00m is_interactive()\n\u001B[0;32m   3553\u001B[0m \u001B[38;5;28;01mif\u001B[39;00m block:\n\u001B[1;32m-> 3554\u001B[0m     \u001B[38;5;28;43mcls\u001B[39;49m\u001B[38;5;241;43m.\u001B[39;49m\u001B[43mmainloop\u001B[49m\u001B[43m(\u001B[49m\u001B[43m)\u001B[49m\n",
      "File \u001B[1;32m~\\AppData\\Local\\Programs\\Python\\Python311\\Lib\\site-packages\\matplotlib\\backends\\backend_qt.py:1021\u001B[0m, in \u001B[0;36m_BackendQT.mainloop\u001B[1;34m()\u001B[0m\n\u001B[0;32m   1018\u001B[0m \u001B[38;5;129m@staticmethod\u001B[39m\n\u001B[0;32m   1019\u001B[0m \u001B[38;5;28;01mdef\u001B[39;00m \u001B[38;5;21mmainloop\u001B[39m():\n\u001B[0;32m   1020\u001B[0m     qapp \u001B[38;5;241m=\u001B[39m QtWidgets\u001B[38;5;241m.\u001B[39mQApplication\u001B[38;5;241m.\u001B[39minstance()\n\u001B[1;32m-> 1021\u001B[0m \u001B[43m    \u001B[49m\u001B[38;5;28;43;01mwith\u001B[39;49;00m\u001B[43m \u001B[49m\u001B[43m_maybe_allow_interrupt\u001B[49m\u001B[43m(\u001B[49m\u001B[43mqapp\u001B[49m\u001B[43m)\u001B[49m\u001B[43m:\u001B[49m\n\u001B[0;32m   1022\u001B[0m \u001B[43m        \u001B[49m\u001B[43mqt_compat\u001B[49m\u001B[38;5;241;43m.\u001B[39;49m\u001B[43m_exec\u001B[49m\u001B[43m(\u001B[49m\u001B[43mqapp\u001B[49m\u001B[43m)\u001B[49m\n",
      "File \u001B[1;32m~\\AppData\\Local\\Programs\\Python\\Python311\\Lib\\contextlib.py:144\u001B[0m, in \u001B[0;36m_GeneratorContextManager.__exit__\u001B[1;34m(self, typ, value, traceback)\u001B[0m\n\u001B[0;32m    142\u001B[0m \u001B[38;5;28;01mif\u001B[39;00m typ \u001B[38;5;129;01mis\u001B[39;00m \u001B[38;5;28;01mNone\u001B[39;00m:\n\u001B[0;32m    143\u001B[0m     \u001B[38;5;28;01mtry\u001B[39;00m:\n\u001B[1;32m--> 144\u001B[0m         \u001B[38;5;28mnext\u001B[39m(\u001B[38;5;28mself\u001B[39m\u001B[38;5;241m.\u001B[39mgen)\n\u001B[0;32m    145\u001B[0m     \u001B[38;5;28;01mexcept\u001B[39;00m \u001B[38;5;167;01mStopIteration\u001B[39;00m:\n\u001B[0;32m    146\u001B[0m         \u001B[38;5;28;01mreturn\u001B[39;00m \u001B[38;5;28;01mFalse\u001B[39;00m\n",
      "File \u001B[1;32m~\\AppData\\Local\\Programs\\Python\\Python311\\Lib\\site-packages\\matplotlib\\backends\\qt_compat.py:269\u001B[0m, in \u001B[0;36m_maybe_allow_interrupt\u001B[1;34m(qapp)\u001B[0m\n\u001B[0;32m    267\u001B[0m signal\u001B[38;5;241m.\u001B[39msignal(signal\u001B[38;5;241m.\u001B[39mSIGINT, old_sigint_handler)\n\u001B[0;32m    268\u001B[0m \u001B[38;5;28;01mif\u001B[39;00m handler_args \u001B[38;5;129;01mis\u001B[39;00m \u001B[38;5;129;01mnot\u001B[39;00m \u001B[38;5;28;01mNone\u001B[39;00m:\n\u001B[1;32m--> 269\u001B[0m     \u001B[43mold_sigint_handler\u001B[49m\u001B[43m(\u001B[49m\u001B[38;5;241;43m*\u001B[39;49m\u001B[43mhandler_args\u001B[49m\u001B[43m)\u001B[49m\n",
      "\u001B[1;31mKeyboardInterrupt\u001B[0m: "
     ]
    }
   ],
   "source": [
    "bg = MAPS[cube.target_name]\n",
    "fig, ax = bg.figure(figsize=(20, 10))\n",
    "\n",
    "ax.add_collection(cube.pixels(2.03, vmin=.05, vmax=.18))\n",
    "plt.show()"
   ],
   "metadata": {
    "collapsed": false,
    "ExecuteTime": {
     "end_time": "2023-09-12T08:02:16.130286800Z",
     "start_time": "2023-09-12T08:00:58.995033100Z"
    }
   }
  },
  {
   "cell_type": "code",
   "execution_count": 8,
   "outputs": [
    {
     "ename": "KeyboardInterrupt",
     "evalue": "",
     "output_type": "error",
     "traceback": [
      "\u001B[1;31m---------------------------------------------------------------------------\u001B[0m",
      "\u001B[1;31mKeyboardInterrupt\u001B[0m                         Traceback (most recent call last)",
      "Cell \u001B[1;32mIn[8], line 5\u001B[0m\n\u001B[0;32m      1\u001B[0m pixel \u001B[38;5;241m=\u001B[39m cube\u001B[38;5;241m.\u001B[39mget_pixel(\u001B[38;5;241m25\u001B[39m,\u001B[38;5;241m8\u001B[39m)\n\u001B[0;32m      3\u001B[0m ax \u001B[38;5;241m=\u001B[39m hapke\u001B[38;5;241m.\u001B[39mplot_pixel_equi(\u001B[38;5;241m2.03\u001B[39m,cube,[(pixel\u001B[38;5;241m.\u001B[39ms,pixel\u001B[38;5;241m.\u001B[39ml)],background\u001B[38;5;241m=\u001B[39m\u001B[38;5;28;01mTrue\u001B[39;00m)\n\u001B[1;32m----> 5\u001B[0m \u001B[43mplt\u001B[49m\u001B[38;5;241;43m.\u001B[39;49m\u001B[43mshow\u001B[49m\u001B[43m(\u001B[49m\u001B[43m)\u001B[49m\n",
      "File \u001B[1;32m~\\AppData\\Local\\Programs\\Python\\Python311\\Lib\\site-packages\\matplotlib\\pyplot.py:421\u001B[0m, in \u001B[0;36mshow\u001B[1;34m(*args, **kwargs)\u001B[0m\n\u001B[0;32m    377\u001B[0m \u001B[38;5;250m\u001B[39m\u001B[38;5;124;03m\"\"\"\u001B[39;00m\n\u001B[0;32m    378\u001B[0m \u001B[38;5;124;03mDisplay all open figures.\u001B[39;00m\n\u001B[0;32m    379\u001B[0m \n\u001B[1;32m   (...)\u001B[0m\n\u001B[0;32m    418\u001B[0m \u001B[38;5;124;03mexplicitly there.\u001B[39;00m\n\u001B[0;32m    419\u001B[0m \u001B[38;5;124;03m\"\"\"\u001B[39;00m\n\u001B[0;32m    420\u001B[0m _warn_if_gui_out_of_main_thread()\n\u001B[1;32m--> 421\u001B[0m \u001B[38;5;28;01mreturn\u001B[39;00m \u001B[43m_get_backend_mod\u001B[49m\u001B[43m(\u001B[49m\u001B[43m)\u001B[49m\u001B[38;5;241;43m.\u001B[39;49m\u001B[43mshow\u001B[49m\u001B[43m(\u001B[49m\u001B[38;5;241;43m*\u001B[39;49m\u001B[43margs\u001B[49m\u001B[43m,\u001B[49m\u001B[43m \u001B[49m\u001B[38;5;241;43m*\u001B[39;49m\u001B[38;5;241;43m*\u001B[39;49m\u001B[43mkwargs\u001B[49m\u001B[43m)\u001B[49m\n",
      "File \u001B[1;32m~\\AppData\\Local\\Programs\\Python\\Python311\\Lib\\site-packages\\matplotlib\\backend_bases.py:3554\u001B[0m, in \u001B[0;36m_Backend.show\u001B[1;34m(cls, block)\u001B[0m\n\u001B[0;32m   3552\u001B[0m     block \u001B[38;5;241m=\u001B[39m \u001B[38;5;129;01mnot\u001B[39;00m ipython_pylab \u001B[38;5;129;01mand\u001B[39;00m \u001B[38;5;129;01mnot\u001B[39;00m is_interactive()\n\u001B[0;32m   3553\u001B[0m \u001B[38;5;28;01mif\u001B[39;00m block:\n\u001B[1;32m-> 3554\u001B[0m     \u001B[38;5;28;43mcls\u001B[39;49m\u001B[38;5;241;43m.\u001B[39;49m\u001B[43mmainloop\u001B[49m\u001B[43m(\u001B[49m\u001B[43m)\u001B[49m\n",
      "File \u001B[1;32m~\\AppData\\Local\\Programs\\Python\\Python311\\Lib\\site-packages\\matplotlib\\backends\\backend_qt.py:1021\u001B[0m, in \u001B[0;36m_BackendQT.mainloop\u001B[1;34m()\u001B[0m\n\u001B[0;32m   1018\u001B[0m \u001B[38;5;129m@staticmethod\u001B[39m\n\u001B[0;32m   1019\u001B[0m \u001B[38;5;28;01mdef\u001B[39;00m \u001B[38;5;21mmainloop\u001B[39m():\n\u001B[0;32m   1020\u001B[0m     qapp \u001B[38;5;241m=\u001B[39m QtWidgets\u001B[38;5;241m.\u001B[39mQApplication\u001B[38;5;241m.\u001B[39minstance()\n\u001B[1;32m-> 1021\u001B[0m \u001B[43m    \u001B[49m\u001B[38;5;28;43;01mwith\u001B[39;49;00m\u001B[43m \u001B[49m\u001B[43m_maybe_allow_interrupt\u001B[49m\u001B[43m(\u001B[49m\u001B[43mqapp\u001B[49m\u001B[43m)\u001B[49m\u001B[43m:\u001B[49m\n\u001B[0;32m   1022\u001B[0m \u001B[43m        \u001B[49m\u001B[43mqt_compat\u001B[49m\u001B[38;5;241;43m.\u001B[39;49m\u001B[43m_exec\u001B[49m\u001B[43m(\u001B[49m\u001B[43mqapp\u001B[49m\u001B[43m)\u001B[49m\n",
      "File \u001B[1;32m~\\AppData\\Local\\Programs\\Python\\Python311\\Lib\\contextlib.py:144\u001B[0m, in \u001B[0;36m_GeneratorContextManager.__exit__\u001B[1;34m(self, typ, value, traceback)\u001B[0m\n\u001B[0;32m    142\u001B[0m \u001B[38;5;28;01mif\u001B[39;00m typ \u001B[38;5;129;01mis\u001B[39;00m \u001B[38;5;28;01mNone\u001B[39;00m:\n\u001B[0;32m    143\u001B[0m     \u001B[38;5;28;01mtry\u001B[39;00m:\n\u001B[1;32m--> 144\u001B[0m         \u001B[38;5;28mnext\u001B[39m(\u001B[38;5;28mself\u001B[39m\u001B[38;5;241m.\u001B[39mgen)\n\u001B[0;32m    145\u001B[0m     \u001B[38;5;28;01mexcept\u001B[39;00m \u001B[38;5;167;01mStopIteration\u001B[39;00m:\n\u001B[0;32m    146\u001B[0m         \u001B[38;5;28;01mreturn\u001B[39;00m \u001B[38;5;28;01mFalse\u001B[39;00m\n",
      "File \u001B[1;32m~\\AppData\\Local\\Programs\\Python\\Python311\\Lib\\site-packages\\matplotlib\\backends\\qt_compat.py:269\u001B[0m, in \u001B[0;36m_maybe_allow_interrupt\u001B[1;34m(qapp)\u001B[0m\n\u001B[0;32m    267\u001B[0m signal\u001B[38;5;241m.\u001B[39msignal(signal\u001B[38;5;241m.\u001B[39mSIGINT, old_sigint_handler)\n\u001B[0;32m    268\u001B[0m \u001B[38;5;28;01mif\u001B[39;00m handler_args \u001B[38;5;129;01mis\u001B[39;00m \u001B[38;5;129;01mnot\u001B[39;00m \u001B[38;5;28;01mNone\u001B[39;00m:\n\u001B[1;32m--> 269\u001B[0m     \u001B[43mold_sigint_handler\u001B[49m\u001B[43m(\u001B[49m\u001B[38;5;241;43m*\u001B[39;49m\u001B[43mhandler_args\u001B[49m\u001B[43m)\u001B[49m\n",
      "\u001B[1;31mKeyboardInterrupt\u001B[0m: "
     ]
    }
   ],
   "source": [
    "pixel = cube.get_pixel(25,8)\n",
    "\n",
    "ax = hapke.plot_pixel_equi(2.03,cube,[(pixel.s,pixel.l)],background=True)\n",
    "\n",
    "plt.show()"
   ],
   "metadata": {
    "collapsed": false,
    "ExecuteTime": {
     "end_time": "2023-08-18T16:14:46.191582700Z",
     "start_time": "2023-08-18T16:14:34.790836Z"
    }
   }
  },
  {
   "cell_type": "code",
   "execution_count": 9,
   "outputs": [
    {
     "ename": "ValueError",
     "evalue": "Inconsistent shapes between bounds and `x0`.",
     "output_type": "error",
     "traceback": [
      "\u001B[1;31m---------------------------------------------------------------------------\u001B[0m",
      "\u001B[1;31mValueError\u001B[0m                                Traceback (most recent call last)",
      "Cell \u001B[1;32mIn[9], line 13\u001B[0m\n\u001B[0;32m      9\u001B[0m ini_par \u001B[38;5;241m=\u001B[39m [\u001B[38;5;241m0.2\u001B[39m,np\u001B[38;5;241m.\u001B[39mdeg2rad(\u001B[38;5;241m20\u001B[39m),\u001B[38;5;241m0.5\u001B[39m, \u001B[38;5;241m0.00007\u001B[39m,\u001B[38;5;241m0.1\u001B[39m]\n\u001B[0;32m     11\u001B[0m body \u001B[38;5;241m=\u001B[39m cube\u001B[38;5;241m.\u001B[39mtarget_name\n\u001B[1;32m---> 13\u001B[0m optimized_parameters \u001B[38;5;241m=\u001B[39m \u001B[43moptimize\u001B[49m\u001B[38;5;241;43m.\u001B[39;49m\u001B[43mleast_squares\u001B[49m\u001B[43m(\u001B[49m\n\u001B[0;32m     14\u001B[0m \u001B[43m    \u001B[49m\u001B[43mhapke\u001B[49m\u001B[38;5;241;43m.\u001B[39;49m\u001B[43mcost_function_mixed_no_weight\u001B[49m\u001B[43m,\u001B[49m\u001B[43m \u001B[49m\u001B[43mini_par\u001B[49m\u001B[43m,\u001B[49m\u001B[43m \u001B[49m\u001B[43margs\u001B[49m\u001B[38;5;241;43m=\u001B[39;49m\u001B[43m(\u001B[49m\u001B[43mwav\u001B[49m\u001B[43m,\u001B[49m\u001B[43m \u001B[49m\u001B[43mangles\u001B[49m\u001B[43m,\u001B[49m\u001B[43m \u001B[49m\u001B[43mIF1\u001B[49m\u001B[43m,\u001B[49m\u001B[43m \u001B[49m\u001B[43mwav1\u001B[49m\u001B[43m,\u001B[49m\u001B[43mn_c\u001B[49m\u001B[43m,\u001B[49m\u001B[43mk_c\u001B[49m\u001B[43m,\u001B[49m\u001B[43mn_a\u001B[49m\u001B[43m,\u001B[49m\u001B[43mk_a\u001B[49m\u001B[43m,\u001B[49m\u001B[38;5;241;43m0\u001B[39;49m\u001B[43m,\u001B[49m\u001B[38;5;241;43m2.75\u001B[39;49m\u001B[43m,\u001B[49m\u001B[43mbody\u001B[49m\u001B[43m)\u001B[49m\u001B[43m,\u001B[49m\u001B[43m \u001B[49m\u001B[43mbounds\u001B[49m\u001B[38;5;241;43m=\u001B[39;49m\u001B[43m(\u001B[49m\u001B[43m[\u001B[49m\u001B[38;5;241;43m0.001\u001B[39;49m\u001B[43m,\u001B[49m\u001B[38;5;241;43m0.000001\u001B[39;49m\u001B[43m,\u001B[49m\u001B[38;5;241;43m0.001\u001B[39;49m\u001B[43m]\u001B[49m\u001B[43m,\u001B[49m\u001B[43m \u001B[49m\u001B[43m[\u001B[49m\u001B[38;5;241;43m0.74\u001B[39;49m\u001B[43m,\u001B[49m\u001B[38;5;241;43m0.001\u001B[39;49m\u001B[43m,\u001B[49m\u001B[38;5;241;43m1\u001B[39;49m\u001B[43m]\u001B[49m\u001B[43m,\u001B[49m\u001B[43m \u001B[49m\u001B[43m)\u001B[49m\u001B[43m,\u001B[49m\u001B[43m \u001B[49m\u001B[43mx_scale\u001B[49m\u001B[38;5;241;43m=\u001B[39;49m\u001B[38;5;124;43m'\u001B[39;49m\u001B[38;5;124;43mjac\u001B[39;49m\u001B[38;5;124;43m'\u001B[39;49m\u001B[43m,\u001B[49m\n\u001B[0;32m     15\u001B[0m \u001B[43m)\u001B[49m\n\u001B[0;32m     17\u001B[0m optimized_values \u001B[38;5;241m=\u001B[39m optimized_parameters\u001B[38;5;241m.\u001B[39mx\n\u001B[0;32m     18\u001B[0m hapke\u001B[38;5;241m.\u001B[39mprint_error_correlation(optimized_parameters)\n",
      "File \u001B[1;32m~\\AppData\\Local\\Programs\\Python\\Python311\\Lib\\site-packages\\scipy\\optimize\\_lsq\\least_squares.py:811\u001B[0m, in \u001B[0;36mleast_squares\u001B[1;34m(fun, x0, jac, bounds, method, ftol, xtol, gtol, x_scale, loss, f_scale, diff_step, tr_solver, tr_options, jac_sparsity, max_nfev, verbose, args, kwargs)\u001B[0m\n\u001B[0;32m    808\u001B[0m     \u001B[38;5;28;01mraise\u001B[39;00m \u001B[38;5;167;01mValueError\u001B[39;00m(\u001B[38;5;124m\"\u001B[39m\u001B[38;5;124mMethod \u001B[39m\u001B[38;5;124m'\u001B[39m\u001B[38;5;124mlm\u001B[39m\u001B[38;5;124m'\u001B[39m\u001B[38;5;124m doesn\u001B[39m\u001B[38;5;124m'\u001B[39m\u001B[38;5;124mt support bounds.\u001B[39m\u001B[38;5;124m\"\u001B[39m)\n\u001B[0;32m    810\u001B[0m \u001B[38;5;28;01mif\u001B[39;00m lb\u001B[38;5;241m.\u001B[39mshape \u001B[38;5;241m!=\u001B[39m x0\u001B[38;5;241m.\u001B[39mshape \u001B[38;5;129;01mor\u001B[39;00m ub\u001B[38;5;241m.\u001B[39mshape \u001B[38;5;241m!=\u001B[39m x0\u001B[38;5;241m.\u001B[39mshape:\n\u001B[1;32m--> 811\u001B[0m     \u001B[38;5;28;01mraise\u001B[39;00m \u001B[38;5;167;01mValueError\u001B[39;00m(\u001B[38;5;124m\"\u001B[39m\u001B[38;5;124mInconsistent shapes between bounds and `x0`.\u001B[39m\u001B[38;5;124m\"\u001B[39m)\n\u001B[0;32m    813\u001B[0m \u001B[38;5;28;01mif\u001B[39;00m np\u001B[38;5;241m.\u001B[39many(lb \u001B[38;5;241m>\u001B[39m\u001B[38;5;241m=\u001B[39m ub):\n\u001B[0;32m    814\u001B[0m     \u001B[38;5;28;01mraise\u001B[39;00m \u001B[38;5;167;01mValueError\u001B[39;00m(\u001B[38;5;124m\"\u001B[39m\u001B[38;5;124mEach lower bound must be strictly less than each \u001B[39m\u001B[38;5;124m\"\u001B[39m\n\u001B[0;32m    815\u001B[0m                      \u001B[38;5;124m\"\u001B[39m\u001B[38;5;124mupper bound.\u001B[39m\u001B[38;5;124m\"\u001B[39m)\n",
      "\u001B[1;31mValueError\u001B[0m: Inconsistent shapes between bounds and `x0`."
     ]
    }
   ],
   "source": [
    "pixel1 = cube@(25,8)\n",
    "\n",
    "e, i, phase = [np.deg2rad(pixel1.eme),np.deg2rad(pixel1.inc),np.deg2rad(pixel1.phase)]\n",
    "\n",
    "\n",
    "angles = [e,i,phase]\n",
    "IF1 = pixel1.spectrum\n",
    "wav1 = pixel1.wvlns\n",
    "ini_par = [0.2,np.deg2rad(20),0.5, 0.00007,0.1]\n",
    "\n",
    "body = cube.target_name\n",
    "\n",
    "optimized_parameters = optimize.least_squares(\n",
    "    hapke.cost_function_mixed_no_weight, ini_par, args=(wav, angles, IF1, wav1,n_c,k_c,n_a,k_a,0,2.75,body), bounds=([0.001,0.000001,0.001], [0.74,0.001,1], ), x_scale='jac',\n",
    ")\n",
    "\n",
    "optimized_values = optimized_parameters.x\n",
    "hapke.print_error_correlation(optimized_parameters)\n",
    "\n",
    "print('')\n",
    "print('Longitude: ' + str(pixel1.lon))\n",
    "print('Latitude: ' + str(pixel1.lat))\n",
    "print('Phase: ' + str(pixel1.phase))"
   ],
   "metadata": {
    "collapsed": false,
    "ExecuteTime": {
     "end_time": "2023-08-18T16:14:54.603498600Z",
     "start_time": "2023-08-18T16:14:54.440112600Z"
    }
   }
  },
  {
   "cell_type": "code",
   "execution_count": 14,
   "outputs": [
    {
     "name": "stdout",
     "output_type": "stream",
     "text": [
      "Parameter 1: 0.008936823592791753 +/- 4732.375583\n",
      "Parameter 2: 0.7482995490279473 +/- 3271.855993\n",
      "Parameter 3: 3.3190598774476947e-09 +/- 2.056947\n",
      "Parameter 4: 2.8128002728302975e-05 +/- 0.233492\n",
      "Parameter 5: 0.09566249186106923 +/- 44.592458\n",
      "Correlation matrix:\n",
      "[[ 1.          0.99323518  0.09260512  0.99988703 -0.84795749]\n",
      " [ 0.99323518  1.          0.207599    0.99485913 -0.87810336]\n",
      " [ 0.09260512  0.207599    1.          0.10748645 -0.38534323]\n",
      " [ 0.99988703  0.99485913  0.10748645  1.         -0.85190911]\n",
      " [-0.84795749 -0.87810336 -0.38534323 -0.85190911  1.        ]]\n",
      "\n",
      "Longitude: 2.5820895654626232\n",
      "Latitude: 10.428506150431138\n",
      "Phase: 65.8185807533892\n"
     ]
    }
   ],
   "source": [
    "pixel1 = cube@(30,15)\n",
    "\n",
    "e, i, phase = [np.deg2rad(pixel1.eme),np.deg2rad(pixel1.inc),np.deg2rad(pixel1.phase)]\n",
    "\n",
    "\n",
    "angles = [e,i,phase]\n",
    "IF1 = pixel1.spectrum\n",
    "wav1 = pixel1.wvlns\n",
    "ini_par = [0.1,np.deg2rad(20),0.1,0.00005,0.5]\n",
    "\n",
    "body = cube.target_name\n",
    "\n",
    "optimized_parameters = optimize.least_squares(\n",
    "    hapke.cost_function_mixed_no_weight, ini_par, args=(wav, angles, IF1, wav1,n_c,k_c,n_a,k_a,1.5,1.85,body), bounds=([0.001,0,0,0,0], [1,np.deg2rad(44.9),0.74,0.001,1], ), x_scale='jac',\n",
    ")\n",
    "\n",
    "optimized_values = optimized_parameters.x\n",
    "hapke.print_error_correlation(optimized_parameters)\n",
    "\n",
    "print('')\n",
    "print('Longitude: ' + str(pixel1.lon))\n",
    "print('Latitude: ' + str(pixel1.lat))\n",
    "print('Phase: ' + str(pixel1.phase))"
   ],
   "metadata": {
    "collapsed": false,
    "ExecuteTime": {
     "end_time": "2023-08-18T16:37:11.837554Z",
     "start_time": "2023-08-18T16:37:05.278307900Z"
    }
   }
  },
  {
   "cell_type": "markdown",
   "source": [
    "This cell below created 20 randomly generated initial parameters and store the results of the fits on a dictionary fit_dict. The variable count adds one every time a set of generated initial parameters leads to the same solution than the previous one."
   ],
   "metadata": {
    "collapsed": false
   }
  },
  {
   "cell_type": "code",
   "execution_count": 15,
   "outputs": [
    {
     "ename": "ValueError",
     "evalue": "not enough values to unpack (expected 5, got 3)",
     "output_type": "error",
     "traceback": [
      "\u001B[1;31m---------------------------------------------------------------------------\u001B[0m",
      "\u001B[1;31mValueError\u001B[0m                                Traceback (most recent call last)",
      "Cell \u001B[1;32mIn[15], line 7\u001B[0m\n\u001B[0;32m      5\u001B[0m \u001B[38;5;28;01mfor\u001B[39;00m i \u001B[38;5;129;01min\u001B[39;00m \u001B[38;5;28mrange\u001B[39m(n_fits):\n\u001B[0;32m      6\u001B[0m     param \u001B[38;5;241m=\u001B[39m [random\u001B[38;5;241m.\u001B[39mrandom()\u001B[38;5;241m*\u001B[39m\u001B[38;5;241m0.74\u001B[39m,random\u001B[38;5;241m.\u001B[39mrandom()\u001B[38;5;241m*\u001B[39m\u001B[38;5;241m0.001\u001B[39m,random\u001B[38;5;241m.\u001B[39mrandom()]\n\u001B[1;32m----> 7\u001B[0m     optimized_parameters \u001B[38;5;241m=\u001B[39m \u001B[43moptimize\u001B[49m\u001B[38;5;241;43m.\u001B[39;49m\u001B[43mleast_squares\u001B[49m\u001B[43m(\u001B[49m\n\u001B[0;32m      8\u001B[0m \u001B[43m        \u001B[49m\u001B[43mhapke\u001B[49m\u001B[38;5;241;43m.\u001B[39;49m\u001B[43mcost_function_mixed_no_weight\u001B[49m\u001B[43m,\u001B[49m\u001B[43m \u001B[49m\u001B[43mparam\u001B[49m\u001B[43m,\u001B[49m\u001B[43m \u001B[49m\u001B[43margs\u001B[49m\u001B[38;5;241;43m=\u001B[39;49m\u001B[43m(\u001B[49m\u001B[43mwav\u001B[49m\u001B[43m,\u001B[49m\u001B[43m \u001B[49m\u001B[43mangles\u001B[49m\u001B[43m,\u001B[49m\u001B[43m \u001B[49m\u001B[43mIF1\u001B[49m\u001B[43m,\u001B[49m\u001B[43m \u001B[49m\u001B[43mwav1\u001B[49m\u001B[43m,\u001B[49m\u001B[43mn_c\u001B[49m\u001B[43m,\u001B[49m\u001B[43mk_c\u001B[49m\u001B[43m,\u001B[49m\u001B[43mn_a\u001B[49m\u001B[43m,\u001B[49m\u001B[43mk_a\u001B[49m\u001B[43m,\u001B[49m\u001B[38;5;241;43m0\u001B[39;49m\u001B[43m,\u001B[49m\u001B[38;5;241;43m2.8\u001B[39;49m\u001B[43m,\u001B[49m\u001B[43mbody\u001B[49m\u001B[43m)\u001B[49m\u001B[43m,\u001B[49m\u001B[43m \u001B[49m\u001B[43mbounds\u001B[49m\u001B[38;5;241;43m=\u001B[39;49m\u001B[43m(\u001B[49m\u001B[43m[\u001B[49m\u001B[38;5;241;43m0.00001\u001B[39;49m\u001B[43m,\u001B[49m\u001B[38;5;241;43m0.000001\u001B[39;49m\u001B[43m,\u001B[49m\u001B[38;5;241;43m0\u001B[39;49m\u001B[43m]\u001B[49m\u001B[43m,\u001B[49m\u001B[43m \u001B[49m\u001B[43m[\u001B[49m\u001B[38;5;241;43m0.74\u001B[39;49m\u001B[43m,\u001B[49m\u001B[38;5;241;43m0.001\u001B[39;49m\u001B[43m,\u001B[49m\u001B[38;5;241;43m1\u001B[39;49m\u001B[43m]\u001B[49m\u001B[43m,\u001B[49m\u001B[43m \u001B[49m\u001B[43m)\u001B[49m\u001B[43m,\u001B[49m\n\u001B[0;32m      9\u001B[0m \u001B[43m    \u001B[49m\u001B[43m)\u001B[49m\n\u001B[0;32m     11\u001B[0m     fit_dict[i] \u001B[38;5;241m=\u001B[39m {\u001B[38;5;124m'\u001B[39m\u001B[38;5;124mx\u001B[39m\u001B[38;5;124m'\u001B[39m: optimized_parameters\u001B[38;5;241m.\u001B[39mx, \u001B[38;5;124m'\u001B[39m\u001B[38;5;124mcost\u001B[39m\u001B[38;5;124m'\u001B[39m: optimized_parameters\u001B[38;5;241m.\u001B[39mcost}\n\u001B[0;32m     13\u001B[0m     \u001B[38;5;28;01mif\u001B[39;00m i \u001B[38;5;241m==\u001B[39m \u001B[38;5;241m0\u001B[39m:\n",
      "File \u001B[1;32m~\\AppData\\Local\\Programs\\Python\\Python311\\Lib\\site-packages\\scipy\\optimize\\_lsq\\least_squares.py:830\u001B[0m, in \u001B[0;36mleast_squares\u001B[1;34m(fun, x0, jac, bounds, method, ftol, xtol, gtol, x_scale, loss, f_scale, diff_step, tr_solver, tr_options, jac_sparsity, max_nfev, verbose, args, kwargs)\u001B[0m\n\u001B[0;32m    827\u001B[0m \u001B[38;5;28;01mif\u001B[39;00m method \u001B[38;5;241m==\u001B[39m \u001B[38;5;124m'\u001B[39m\u001B[38;5;124mtrf\u001B[39m\u001B[38;5;124m'\u001B[39m:\n\u001B[0;32m    828\u001B[0m     x0 \u001B[38;5;241m=\u001B[39m make_strictly_feasible(x0, lb, ub)\n\u001B[1;32m--> 830\u001B[0m f0 \u001B[38;5;241m=\u001B[39m \u001B[43mfun_wrapped\u001B[49m\u001B[43m(\u001B[49m\u001B[43mx0\u001B[49m\u001B[43m)\u001B[49m\n\u001B[0;32m    832\u001B[0m \u001B[38;5;28;01mif\u001B[39;00m f0\u001B[38;5;241m.\u001B[39mndim \u001B[38;5;241m!=\u001B[39m \u001B[38;5;241m1\u001B[39m:\n\u001B[0;32m    833\u001B[0m     \u001B[38;5;28;01mraise\u001B[39;00m \u001B[38;5;167;01mValueError\u001B[39;00m(\u001B[38;5;124m\"\u001B[39m\u001B[38;5;124m`fun` must return at most 1-d array_like. \u001B[39m\u001B[38;5;124m\"\u001B[39m\n\u001B[0;32m    834\u001B[0m                      \u001B[38;5;124m\"\u001B[39m\u001B[38;5;124mf0.shape: \u001B[39m\u001B[38;5;132;01m{0}\u001B[39;00m\u001B[38;5;124m\"\u001B[39m\u001B[38;5;241m.\u001B[39mformat(f0\u001B[38;5;241m.\u001B[39mshape))\n",
      "File \u001B[1;32m~\\AppData\\Local\\Programs\\Python\\Python311\\Lib\\site-packages\\scipy\\optimize\\_lsq\\least_squares.py:825\u001B[0m, in \u001B[0;36mleast_squares.<locals>.fun_wrapped\u001B[1;34m(x)\u001B[0m\n\u001B[0;32m    824\u001B[0m \u001B[38;5;28;01mdef\u001B[39;00m \u001B[38;5;21mfun_wrapped\u001B[39m(x):\n\u001B[1;32m--> 825\u001B[0m     \u001B[38;5;28;01mreturn\u001B[39;00m np\u001B[38;5;241m.\u001B[39matleast_1d(\u001B[43mfun\u001B[49m\u001B[43m(\u001B[49m\u001B[43mx\u001B[49m\u001B[43m,\u001B[49m\u001B[43m \u001B[49m\u001B[38;5;241;43m*\u001B[39;49m\u001B[43margs\u001B[49m\u001B[43m,\u001B[49m\u001B[43m \u001B[49m\u001B[38;5;241;43m*\u001B[39;49m\u001B[38;5;241;43m*\u001B[39;49m\u001B[43mkwargs\u001B[49m\u001B[43m)\u001B[49m)\n",
      "File \u001B[1;32m~\\PycharmProjects\\pythonProject\\hapke.py:565\u001B[0m, in \u001B[0;36mcost_function_mixed_no_weight\u001B[1;34m(parameters, hapke_wav, angles, measured_IF, measured_wav, n_c, k_c, n_am, k_am, min_w, max_w, body)\u001B[0m\n\u001B[0;32m    563\u001B[0m \u001B[38;5;28;01mdef\u001B[39;00m \u001B[38;5;21mcost_function_mixed_no_weight\u001B[39m(parameters, hapke_wav, angles, measured_IF, measured_wav, n_c, k_c, n_am, k_am,\n\u001B[0;32m    564\u001B[0m                                   min_w\u001B[38;5;241m=\u001B[39m\u001B[38;5;241m0\u001B[39m, max_w\u001B[38;5;241m=\u001B[39m\u001B[38;5;241m6\u001B[39m, body\u001B[38;5;241m=\u001B[39m\u001B[38;5;124m'\u001B[39m\u001B[38;5;124m0\u001B[39m\u001B[38;5;124m'\u001B[39m):\n\u001B[1;32m--> 565\u001B[0m     IF_hapke \u001B[38;5;241m=\u001B[39m \u001B[43mhapke_model_mixed\u001B[49m\u001B[43m(\u001B[49m\u001B[43mparameters\u001B[49m\u001B[43m,\u001B[49m\u001B[43m \u001B[49m\u001B[43mhapke_wav\u001B[49m\u001B[43m,\u001B[49m\u001B[43m \u001B[49m\u001B[43mangles\u001B[49m\u001B[43m,\u001B[49m\u001B[43m \u001B[49m\u001B[43mn_c\u001B[49m\u001B[43m,\u001B[49m\u001B[43m \u001B[49m\u001B[43mk_c\u001B[49m\u001B[43m,\u001B[49m\u001B[43m \u001B[49m\u001B[43mn_am\u001B[49m\u001B[43m,\u001B[49m\u001B[43m \u001B[49m\u001B[43mk_am\u001B[49m\u001B[43m,\u001B[49m\u001B[43m \u001B[49m\u001B[43mbody\u001B[49m\u001B[43m)\u001B[49m[\u001B[38;5;124m'\u001B[39m\u001B[38;5;124mIF\u001B[39m\u001B[38;5;124m'\u001B[39m]\n\u001B[0;32m    567\u001B[0m     interp_func_1 \u001B[38;5;241m=\u001B[39m interp1d(hapke_wav, IF_hapke, bounds_error\u001B[38;5;241m=\u001B[39m\u001B[38;5;28;01mFalse\u001B[39;00m)\n\u001B[0;32m    568\u001B[0m     interp_func_2 \u001B[38;5;241m=\u001B[39m interp1d(measured_wav, measured_IF, bounds_error\u001B[38;5;241m=\u001B[39m\u001B[38;5;28;01mFalse\u001B[39;00m)\n",
      "File \u001B[1;32m~\\PycharmProjects\\pythonProject\\hapke.py:59\u001B[0m, in \u001B[0;36mhapke_model_mixed\u001B[1;34m(parameters, wav, angles, n_c, k_c, n_am, k_am, body)\u001B[0m\n\u001B[0;32m     56\u001B[0m     b \u001B[38;5;241m=\u001B[39m \u001B[38;5;241m0.2\u001B[39m\n\u001B[0;32m     57\u001B[0m \u001B[38;5;66;03m# Unpack the parameters\u001B[39;00m\n\u001B[0;32m     58\u001B[0m \u001B[38;5;66;03m# Assuming you have parameters p1, p2, p3, etc.\u001B[39;00m\n\u001B[1;32m---> 59\u001B[0m b, theta_bar, phi, D, mass_fraction \u001B[38;5;241m=\u001B[39m parameters\n\u001B[0;32m     61\u001B[0m eme, inc, phase \u001B[38;5;241m=\u001B[39m angles\n\u001B[0;32m     62\u001B[0m \u001B[38;5;66;03m# Calculate the modeled spectrum using Hapke model equations\u001B[39;00m\n",
      "\u001B[1;31mValueError\u001B[0m: not enough values to unpack (expected 5, got 3)"
     ]
    }
   ],
   "source": [
    "fit_dict = {}\n",
    "count = 0\n",
    "n_fits = 20\n",
    "\n",
    "for i in range(n_fits):\n",
    "    param = [random.random()*0.74,random.random()*0.001,random.random()]\n",
    "    optimized_parameters = optimize.least_squares(\n",
    "        hapke.cost_function_mixed_no_weight, param, args=(wav, angles, IF1, wav1,n_c,k_c,n_a,k_a,0,2.8,body), bounds=([0.00001,0.000001,0], [0.74,0.001,1], ),\n",
    "    )\n",
    "\n",
    "    fit_dict[i] = {'x': optimized_parameters.x, 'cost': optimized_parameters.cost}\n",
    "\n",
    "    if i == 0:\n",
    "\n",
    "        opt_param =  optimized_parameters.x\n",
    "        opt_cost = optimized_parameters.cost\n",
    "        count += 1\n",
    "        print(optimized_parameters.x)\n",
    "        print('COST = ' + str(optimized_parameters.cost))\n",
    "\n",
    "    elif i >= i:\n",
    "\n",
    "        rel_er1 = abs(opt_param[0] - optimized_parameters.x[0]) / opt_param[0]\n",
    "        rel_er2 = abs(opt_param[1] - optimized_parameters.x[1]) / opt_param[1]\n",
    "        rel_er3 =abs(opt_param[2] - optimized_parameters.x[2]) / opt_param[2]\n",
    "\n",
    "        if rel_er1 > 0.0001 or rel_er2 > 0.0001 or rel_er3 > 0.0001:\n",
    "            print('PARAMETERS CHANGED')\n",
    "            best_fit =  optimized_parameters\n",
    "            print(optimized_parameters.x)\n",
    "            print('COST = ' + str(optimized_parameters.cost))\n",
    "        else:\n",
    "            count += 1\n",
    "print(count)"
   ],
   "metadata": {
    "collapsed": false,
    "ExecuteTime": {
     "end_time": "2023-08-18T16:38:06.940796800Z",
     "start_time": "2023-08-18T16:38:06.665913700Z"
    }
   }
  },
  {
   "cell_type": "code",
   "execution_count": 16,
   "outputs": [
    {
     "name": "stdout",
     "output_type": "stream",
     "text": [
      "[1.00000000e+00 7.83652834e-01 2.10520268e-01 1.46830045e-05\n",
      " 4.70767963e-01]\n",
      "COST =0.024002729909765423\n",
      "PARAMETERS CHANGED\n",
      "[1.00000001e-03 7.83652833e-01 4.76893564e-14 3.00374919e-05\n",
      " 5.45346667e-01]\n",
      "COST =0.026353497901965978\n",
      "PARAMETERS CHANGED\n",
      "[1.00000000e-03 7.83652834e-01 1.60655169e-15 3.00374579e-05\n",
      " 5.45361990e-01]\n",
      "COST =0.026353483036303325\n",
      "PARAMETERS CHANGED\n",
      "[1.00000000e-03 7.83652834e-01 4.33364766e-22 3.00260960e-05\n",
      " 5.45366286e-01]\n",
      "COST =0.02620504060349145\n",
      "PARAMETERS CHANGED\n",
      "[1.00000000e-03 7.83652834e-01 4.55367630e-15 3.00374444e-05\n",
      " 5.45365556e-01]\n",
      "COST =0.02635349453358958\n",
      "PARAMETERS CHANGED\n",
      "[1.00000000e-03 7.83652834e-01 9.01392637e-20 3.00374290e-05\n",
      " 5.45365594e-01]\n",
      "COST =0.02634763099061831\n",
      "PARAMETERS CHANGED\n",
      "[1.00000000e-03 7.83652834e-01 4.43663454e-21 3.00374590e-05\n",
      " 5.45365608e-01]\n",
      "COST =0.026348695205754363\n",
      "14\n"
     ]
    }
   ],
   "source": [
    "fit_dict = {}\n",
    "count = 0\n",
    "n_fits = 20\n",
    "\n",
    "for i in range(n_fits):\n",
    "    param = [random.random(),random.random()*np.deg2rad(44.5),random.random()*0.74,random.random()*0.001,random.random()]\n",
    "    optimized_parameters = optimize.least_squares(\n",
    "        hapke.cost_function_mixed_no_weight, param, args=(wav, angles, IF1, wav1,n_c,k_c,n_a,k_a,0,2.8,body), bounds=([0.001,0,0,0,0], [1,np.deg2rad(44.9),0.74,0.001,1], ),\n",
    "    )\n",
    "\n",
    "    fit_dict[i] = {'x': optimized_parameters.x, 'cost': optimized_parameters.cost}\n",
    "\n",
    "    if i == 0:\n",
    "\n",
    "        opt_param =  optimized_parameters.x\n",
    "        opt_cost = optimized_parameters.cost\n",
    "        count += 1\n",
    "        print(optimized_parameters.x)\n",
    "        print('COST = ' + str(optimized_parameters.cost))\n",
    "\n",
    "    elif i >= i:\n",
    "\n",
    "        rel_er1 = abs(opt_param[0] - optimized_parameters.x[0]) / opt_param[0]\n",
    "        rel_er2 = abs(opt_param[1] - optimized_parameters.x[1]) / opt_param[1]\n",
    "        rel_er3 =abs(opt_param[2] - optimized_parameters.x[2]) / opt_param[2]\n",
    "        rel_er4 = abs(opt_param[3] - optimized_parameters.x[3]) / opt_param[3]\n",
    "        rel_er5 =abs(opt_param[4] - optimized_parameters.x[4]) / opt_param[4]\n",
    "\n",
    "        if rel_er1 > 0.0001 or rel_er2 > 0.0001 or rel_er3 > 0.0001 or rel_er4 > 0.0001 or rel_er5 > 0.0001:\n",
    "            print('PARAMETERS CHANGED')\n",
    "            best_fit =  optimized_parameters\n",
    "            print(optimized_parameters.x)\n",
    "            print('COST = ' + str(optimized_parameters.cost))\n",
    "        else:\n",
    "            count += 1\n",
    "print(count)"
   ],
   "metadata": {
    "collapsed": false,
    "ExecuteTime": {
     "end_time": "2023-08-18T16:39:42.988476400Z",
     "start_time": "2023-08-18T16:38:33.016994500Z"
    }
   }
  },
  {
   "cell_type": "code",
   "execution_count": null,
   "outputs": [],
   "source": [
    "print(fit_dict)"
   ],
   "metadata": {
    "collapsed": false
   }
  },
  {
   "cell_type": "code",
   "execution_count": 11,
   "outputs": [
    {
     "ename": "KeyboardInterrupt",
     "evalue": "",
     "output_type": "error",
     "traceback": [
      "\u001B[1;31m---------------------------------------------------------------------------\u001B[0m",
      "\u001B[1;31mKeyboardInterrupt\u001B[0m                         Traceback (most recent call last)",
      "Cell \u001B[1;32mIn[11], line 16\u001B[0m\n\u001B[0;32m     14\u001B[0m ax\u001B[38;5;241m.\u001B[39mset_title(\u001B[38;5;124m'\u001B[39m\u001B[38;5;124m'\u001B[39m)\n\u001B[0;32m     15\u001B[0m ax\u001B[38;5;241m.\u001B[39mlegend()\n\u001B[1;32m---> 16\u001B[0m \u001B[43mplt\u001B[49m\u001B[38;5;241;43m.\u001B[39;49m\u001B[43mshow\u001B[49m\u001B[43m(\u001B[49m\u001B[43m)\u001B[49m\n",
      "File \u001B[1;32m~\\AppData\\Local\\Programs\\Python\\Python311\\Lib\\site-packages\\matplotlib\\pyplot.py:421\u001B[0m, in \u001B[0;36mshow\u001B[1;34m(*args, **kwargs)\u001B[0m\n\u001B[0;32m    377\u001B[0m \u001B[38;5;250m\u001B[39m\u001B[38;5;124;03m\"\"\"\u001B[39;00m\n\u001B[0;32m    378\u001B[0m \u001B[38;5;124;03mDisplay all open figures.\u001B[39;00m\n\u001B[0;32m    379\u001B[0m \n\u001B[1;32m   (...)\u001B[0m\n\u001B[0;32m    418\u001B[0m \u001B[38;5;124;03mexplicitly there.\u001B[39;00m\n\u001B[0;32m    419\u001B[0m \u001B[38;5;124;03m\"\"\"\u001B[39;00m\n\u001B[0;32m    420\u001B[0m _warn_if_gui_out_of_main_thread()\n\u001B[1;32m--> 421\u001B[0m \u001B[38;5;28;01mreturn\u001B[39;00m \u001B[43m_get_backend_mod\u001B[49m\u001B[43m(\u001B[49m\u001B[43m)\u001B[49m\u001B[38;5;241;43m.\u001B[39;49m\u001B[43mshow\u001B[49m\u001B[43m(\u001B[49m\u001B[38;5;241;43m*\u001B[39;49m\u001B[43margs\u001B[49m\u001B[43m,\u001B[49m\u001B[43m \u001B[49m\u001B[38;5;241;43m*\u001B[39;49m\u001B[38;5;241;43m*\u001B[39;49m\u001B[43mkwargs\u001B[49m\u001B[43m)\u001B[49m\n",
      "File \u001B[1;32m~\\AppData\\Local\\Programs\\Python\\Python311\\Lib\\site-packages\\matplotlib\\backend_bases.py:3554\u001B[0m, in \u001B[0;36m_Backend.show\u001B[1;34m(cls, block)\u001B[0m\n\u001B[0;32m   3552\u001B[0m     block \u001B[38;5;241m=\u001B[39m \u001B[38;5;129;01mnot\u001B[39;00m ipython_pylab \u001B[38;5;129;01mand\u001B[39;00m \u001B[38;5;129;01mnot\u001B[39;00m is_interactive()\n\u001B[0;32m   3553\u001B[0m \u001B[38;5;28;01mif\u001B[39;00m block:\n\u001B[1;32m-> 3554\u001B[0m     \u001B[38;5;28;43mcls\u001B[39;49m\u001B[38;5;241;43m.\u001B[39;49m\u001B[43mmainloop\u001B[49m\u001B[43m(\u001B[49m\u001B[43m)\u001B[49m\n",
      "File \u001B[1;32m~\\AppData\\Local\\Programs\\Python\\Python311\\Lib\\site-packages\\matplotlib\\backends\\backend_qt.py:1021\u001B[0m, in \u001B[0;36m_BackendQT.mainloop\u001B[1;34m()\u001B[0m\n\u001B[0;32m   1018\u001B[0m \u001B[38;5;129m@staticmethod\u001B[39m\n\u001B[0;32m   1019\u001B[0m \u001B[38;5;28;01mdef\u001B[39;00m \u001B[38;5;21mmainloop\u001B[39m():\n\u001B[0;32m   1020\u001B[0m     qapp \u001B[38;5;241m=\u001B[39m QtWidgets\u001B[38;5;241m.\u001B[39mQApplication\u001B[38;5;241m.\u001B[39minstance()\n\u001B[1;32m-> 1021\u001B[0m \u001B[43m    \u001B[49m\u001B[38;5;28;43;01mwith\u001B[39;49;00m\u001B[43m \u001B[49m\u001B[43m_maybe_allow_interrupt\u001B[49m\u001B[43m(\u001B[49m\u001B[43mqapp\u001B[49m\u001B[43m)\u001B[49m\u001B[43m:\u001B[49m\n\u001B[0;32m   1022\u001B[0m \u001B[43m        \u001B[49m\u001B[43mqt_compat\u001B[49m\u001B[38;5;241;43m.\u001B[39;49m\u001B[43m_exec\u001B[49m\u001B[43m(\u001B[49m\u001B[43mqapp\u001B[49m\u001B[43m)\u001B[49m\n",
      "File \u001B[1;32m~\\AppData\\Local\\Programs\\Python\\Python311\\Lib\\contextlib.py:144\u001B[0m, in \u001B[0;36m_GeneratorContextManager.__exit__\u001B[1;34m(self, typ, value, traceback)\u001B[0m\n\u001B[0;32m    142\u001B[0m \u001B[38;5;28;01mif\u001B[39;00m typ \u001B[38;5;129;01mis\u001B[39;00m \u001B[38;5;28;01mNone\u001B[39;00m:\n\u001B[0;32m    143\u001B[0m     \u001B[38;5;28;01mtry\u001B[39;00m:\n\u001B[1;32m--> 144\u001B[0m         \u001B[38;5;28mnext\u001B[39m(\u001B[38;5;28mself\u001B[39m\u001B[38;5;241m.\u001B[39mgen)\n\u001B[0;32m    145\u001B[0m     \u001B[38;5;28;01mexcept\u001B[39;00m \u001B[38;5;167;01mStopIteration\u001B[39;00m:\n\u001B[0;32m    146\u001B[0m         \u001B[38;5;28;01mreturn\u001B[39;00m \u001B[38;5;28;01mFalse\u001B[39;00m\n",
      "File \u001B[1;32m~\\AppData\\Local\\Programs\\Python\\Python311\\Lib\\site-packages\\matplotlib\\backends\\qt_compat.py:269\u001B[0m, in \u001B[0;36m_maybe_allow_interrupt\u001B[1;34m(qapp)\u001B[0m\n\u001B[0;32m    267\u001B[0m signal\u001B[38;5;241m.\u001B[39msignal(signal\u001B[38;5;241m.\u001B[39mSIGINT, old_sigint_handler)\n\u001B[0;32m    268\u001B[0m \u001B[38;5;28;01mif\u001B[39;00m handler_args \u001B[38;5;129;01mis\u001B[39;00m \u001B[38;5;129;01mnot\u001B[39;00m \u001B[38;5;28;01mNone\u001B[39;00m:\n\u001B[1;32m--> 269\u001B[0m     \u001B[43mold_sigint_handler\u001B[49m\u001B[43m(\u001B[49m\u001B[38;5;241;43m*\u001B[39;49m\u001B[43mhandler_args\u001B[49m\u001B[43m)\u001B[49m\n",
      "\u001B[1;31mKeyboardInterrupt\u001B[0m: "
     ]
    }
   ],
   "source": [
    "optimized_values = optimized_parameters.x\n",
    "\n",
    "old_hapke = hapke.hapke_model_mixed(ini_par,wav, angles, n_c,k_c,n_a,k_a,body)['IF']\n",
    "\n",
    "new_hapke = hapke.hapke_model_mixed(optimized_values,wav, angles, n_c,k_c,n_a,k_a,body)['IF']\n",
    "\n",
    "fig, ax = plt.subplots(figsize = (8,3))\n",
    "ax.plot(wav, old_hapke, label = 'Hapke Initial')\n",
    "ax.plot(wav, new_hapke, label = 'Hapke Optimized')\n",
    "ax.plot(wav1, IF1, label = 'Pixel')\n",
    "ax.set_xlabel('Wavelength [$\\mu$m]')\n",
    "ax.set_ylabel('I/F')\n",
    "ax.set_xlim(1.1,3.2)\n",
    "ax.set_title('')\n",
    "ax.legend()\n",
    "plt.show()"
   ],
   "metadata": {
    "collapsed": false,
    "ExecuteTime": {
     "end_time": "2023-08-18T16:16:16.961429600Z",
     "start_time": "2023-08-18T16:15:55.317392300Z"
    }
   }
  },
  {
   "cell_type": "code",
   "execution_count": 7,
   "outputs": [
    {
     "ename": "KeyboardInterrupt",
     "evalue": "",
     "output_type": "error",
     "traceback": [
      "\u001B[1;31m---------------------------------------------------------------------------\u001B[0m",
      "\u001B[1;31mKeyboardInterrupt\u001B[0m                         Traceback (most recent call last)",
      "Cell \u001B[1;32mIn[7], line 14\u001B[0m\n\u001B[0;32m     12\u001B[0m plt\u001B[38;5;241m.\u001B[39mxticks(cube\u001B[38;5;241m.\u001B[39msticks)\n\u001B[0;32m     13\u001B[0m plt\u001B[38;5;241m.\u001B[39myticks(cube\u001B[38;5;241m.\u001B[39mlticks)\n\u001B[1;32m---> 14\u001B[0m \u001B[43mplt\u001B[49m\u001B[38;5;241;43m.\u001B[39;49m\u001B[43mshow\u001B[49m\u001B[43m(\u001B[49m\u001B[43m)\u001B[49m\n",
      "File \u001B[1;32m~\\AppData\\Local\\Programs\\Python\\Python311\\Lib\\site-packages\\matplotlib\\pyplot.py:421\u001B[0m, in \u001B[0;36mshow\u001B[1;34m(*args, **kwargs)\u001B[0m\n\u001B[0;32m    377\u001B[0m \u001B[38;5;250m\u001B[39m\u001B[38;5;124;03m\"\"\"\u001B[39;00m\n\u001B[0;32m    378\u001B[0m \u001B[38;5;124;03mDisplay all open figures.\u001B[39;00m\n\u001B[0;32m    379\u001B[0m \n\u001B[1;32m   (...)\u001B[0m\n\u001B[0;32m    418\u001B[0m \u001B[38;5;124;03mexplicitly there.\u001B[39;00m\n\u001B[0;32m    419\u001B[0m \u001B[38;5;124;03m\"\"\"\u001B[39;00m\n\u001B[0;32m    420\u001B[0m _warn_if_gui_out_of_main_thread()\n\u001B[1;32m--> 421\u001B[0m \u001B[38;5;28;01mreturn\u001B[39;00m \u001B[43m_get_backend_mod\u001B[49m\u001B[43m(\u001B[49m\u001B[43m)\u001B[49m\u001B[38;5;241;43m.\u001B[39;49m\u001B[43mshow\u001B[49m\u001B[43m(\u001B[49m\u001B[38;5;241;43m*\u001B[39;49m\u001B[43margs\u001B[49m\u001B[43m,\u001B[49m\u001B[43m \u001B[49m\u001B[38;5;241;43m*\u001B[39;49m\u001B[38;5;241;43m*\u001B[39;49m\u001B[43mkwargs\u001B[49m\u001B[43m)\u001B[49m\n",
      "File \u001B[1;32m~\\AppData\\Local\\Programs\\Python\\Python311\\Lib\\site-packages\\matplotlib\\backend_bases.py:3554\u001B[0m, in \u001B[0;36m_Backend.show\u001B[1;34m(cls, block)\u001B[0m\n\u001B[0;32m   3552\u001B[0m     block \u001B[38;5;241m=\u001B[39m \u001B[38;5;129;01mnot\u001B[39;00m ipython_pylab \u001B[38;5;129;01mand\u001B[39;00m \u001B[38;5;129;01mnot\u001B[39;00m is_interactive()\n\u001B[0;32m   3553\u001B[0m \u001B[38;5;28;01mif\u001B[39;00m block:\n\u001B[1;32m-> 3554\u001B[0m     \u001B[38;5;28;43mcls\u001B[39;49m\u001B[38;5;241;43m.\u001B[39;49m\u001B[43mmainloop\u001B[49m\u001B[43m(\u001B[49m\u001B[43m)\u001B[49m\n",
      "File \u001B[1;32m~\\AppData\\Local\\Programs\\Python\\Python311\\Lib\\site-packages\\matplotlib\\backends\\backend_qt.py:1021\u001B[0m, in \u001B[0;36m_BackendQT.mainloop\u001B[1;34m()\u001B[0m\n\u001B[0;32m   1018\u001B[0m \u001B[38;5;129m@staticmethod\u001B[39m\n\u001B[0;32m   1019\u001B[0m \u001B[38;5;28;01mdef\u001B[39;00m \u001B[38;5;21mmainloop\u001B[39m():\n\u001B[0;32m   1020\u001B[0m     qapp \u001B[38;5;241m=\u001B[39m QtWidgets\u001B[38;5;241m.\u001B[39mQApplication\u001B[38;5;241m.\u001B[39minstance()\n\u001B[1;32m-> 1021\u001B[0m \u001B[43m    \u001B[49m\u001B[38;5;28;43;01mwith\u001B[39;49;00m\u001B[43m \u001B[49m\u001B[43m_maybe_allow_interrupt\u001B[49m\u001B[43m(\u001B[49m\u001B[43mqapp\u001B[49m\u001B[43m)\u001B[49m\u001B[43m:\u001B[49m\n\u001B[0;32m   1022\u001B[0m \u001B[43m        \u001B[49m\u001B[43mqt_compat\u001B[49m\u001B[38;5;241;43m.\u001B[39;49m\u001B[43m_exec\u001B[49m\u001B[43m(\u001B[49m\u001B[43mqapp\u001B[49m\u001B[43m)\u001B[49m\n",
      "File \u001B[1;32m~\\AppData\\Local\\Programs\\Python\\Python311\\Lib\\contextlib.py:144\u001B[0m, in \u001B[0;36m_GeneratorContextManager.__exit__\u001B[1;34m(self, typ, value, traceback)\u001B[0m\n\u001B[0;32m    142\u001B[0m \u001B[38;5;28;01mif\u001B[39;00m typ \u001B[38;5;129;01mis\u001B[39;00m \u001B[38;5;28;01mNone\u001B[39;00m:\n\u001B[0;32m    143\u001B[0m     \u001B[38;5;28;01mtry\u001B[39;00m:\n\u001B[1;32m--> 144\u001B[0m         \u001B[38;5;28mnext\u001B[39m(\u001B[38;5;28mself\u001B[39m\u001B[38;5;241m.\u001B[39mgen)\n\u001B[0;32m    145\u001B[0m     \u001B[38;5;28;01mexcept\u001B[39;00m \u001B[38;5;167;01mStopIteration\u001B[39;00m:\n\u001B[0;32m    146\u001B[0m         \u001B[38;5;28;01mreturn\u001B[39;00m \u001B[38;5;28;01mFalse\u001B[39;00m\n",
      "File \u001B[1;32m~\\AppData\\Local\\Programs\\Python\\Python311\\Lib\\site-packages\\matplotlib\\backends\\qt_compat.py:269\u001B[0m, in \u001B[0;36m_maybe_allow_interrupt\u001B[1;34m(qapp)\u001B[0m\n\u001B[0;32m    267\u001B[0m signal\u001B[38;5;241m.\u001B[39msignal(signal\u001B[38;5;241m.\u001B[39mSIGINT, old_sigint_handler)\n\u001B[0;32m    268\u001B[0m \u001B[38;5;28;01mif\u001B[39;00m handler_args \u001B[38;5;129;01mis\u001B[39;00m \u001B[38;5;129;01mnot\u001B[39;00m \u001B[38;5;28;01mNone\u001B[39;00m:\n\u001B[1;32m--> 269\u001B[0m     \u001B[43mold_sigint_handler\u001B[49m\u001B[43m(\u001B[49m\u001B[38;5;241;43m*\u001B[39;49m\u001B[43mhandler_args\u001B[49m\u001B[43m)\u001B[49m\n",
      "\u001B[1;31mKeyboardInterrupt\u001B[0m: "
     ]
    }
   ],
   "source": [
    "plt.figure(figsize=(12, 8))\n",
    "\n",
    "plt.imshow(cube@2.03, extent=cube.extent, cmap='gray', vmin=0, vmax=.18)\n",
    "\n",
    "plt.colorbar(extend='max', label='I/F')\n",
    "\n",
    "plt.scatter(7, 7, s=150)\n",
    "\n",
    "plt.xlabel(cube.slabel)\n",
    "plt.ylabel(cube.llabel)\n",
    "\n",
    "plt.xticks(cube.sticks)\n",
    "plt.yticks(cube.lticks)\n",
    "plt.show()"
   ],
   "metadata": {
    "collapsed": false,
    "ExecuteTime": {
     "end_time": "2023-08-18T16:14:19.672300600Z",
     "start_time": "2023-08-18T16:14:00.176167300Z"
    }
   }
  },
  {
   "cell_type": "markdown",
   "source": [
    "These coming two cells plot the surface response: the residuals compared to the spectrum taken by VIMS. Note that wa1 and IF1 need to be defined beforehand and that the function hapke_mixed needs to be changes to be 2D in parameters"
   ],
   "metadata": {
    "collapsed": false
   }
  },
  {
   "cell_type": "code",
   "execution_count": null,
   "outputs": [],
   "source": [
    "# SURFACE RESPONSE OF ENCELADUS SPECTRA\n",
    "\n",
    "real_par = [0.51,0.00007]\n",
    "\n",
    "m_range = np.linspace(0.001,1,30)\n",
    "phi_range = np.linspace(0.001,0.74,30)\n",
    "\n",
    "residuals = np.zeros((len(phi_range),len(m_range)))\n",
    "\n",
    "\n",
    "interp_func_2 = interp1d(wav1, IF1, bounds_error=False)\n",
    "\n",
    "interpolated_lab = interp_func_2(wav)\n",
    "\n",
    "for i in range(len(phi_range)):\n",
    "    for j in range(len(m_range)):\n",
    "        param = [phi_range[i], m_range[j]]\n",
    "        dif = (interpolated_lab - hapke.hapke_model_mixed(param,wav,angles,n_c,k_c,n_a,k_a,body)['IF'])\n",
    "        dif = dif[~np.isnan(dif)]\n",
    "        residuals[i,j] = np.linalg.norm(dif)"
   ],
   "metadata": {
    "collapsed": false
   }
  },
  {
   "cell_type": "code",
   "execution_count": null,
   "outputs": [],
   "source": [
    "# 3D PLOT OF THE SURFACE RESPONSE\n",
    "\n",
    "phi_range, m_range = np.meshgrid(phi_range, m_range)\n",
    "# Define the data\n",
    "\n",
    "# Create a 3D plot\n",
    "fig = plt.figure(figsize = (4,4))\n",
    "ax = fig.add_subplot(111, projection='3d')\n",
    "ax.plot_surface(phi_range, m_range, residuals.T, cmap='viridis')\n",
    "ax.scatter(0.16933,0.502, c = 'green', label = 'Real solution' )\n",
    "ax.legend()\n",
    "ax.set_xlabel(r'$\\phi$ [-]')\n",
    "ax.set_ylabel(r'$m$ [-]')\n",
    "ax.set_zlabel('Residuals')\n",
    "# Show the plot\n",
    "plt.show()"
   ],
   "metadata": {
    "collapsed": false
   }
  }
 ],
 "metadata": {
  "kernelspec": {
   "display_name": "Python 3 (ipykernel)",
   "language": "python",
   "name": "python3"
  },
  "language_info": {
   "codemirror_mode": {
    "name": "ipython",
    "version": 3
   },
   "file_extension": ".py",
   "mimetype": "text/x-python",
   "name": "python",
   "nbconvert_exporter": "python",
   "pygments_lexer": "ipython3",
   "version": "3.11.3"
  }
 },
 "nbformat": 4,
 "nbformat_minor": 5
}
