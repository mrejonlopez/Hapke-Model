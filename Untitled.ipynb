{
 "cells": [
  {
   "cell_type": "code",
   "execution_count": 1,
   "id": "a4efd8c2",
   "metadata": {
    "ExecuteTime": {
     "end_time": "2023-07-11T13:17:14.225365400Z",
     "start_time": "2023-07-11T13:17:09.876885400Z"
    }
   },
   "outputs": [],
   "source": [
    "import numpy as np\n",
    "import hapke\n",
    "import matplotlib\n",
    "matplotlib.use('Qt5Agg')\n",
    "import matplotlib.pyplot as plt\n",
    "from scipy import optimize\n",
    "from mpl_toolkits import mplot3d\n",
    "from scipy.interpolate import interp1d\n",
    "import os\n",
    "import shutil\n",
    "from pyvims import VIMS"
   ]
  },
  {
   "cell_type": "code",
   "execution_count": 2,
   "outputs": [],
   "source": [
    "T = 150\n",
    "N = 20\n",
    "opt = hapke.opticalconstants(T,sensitivity = N)\n",
    "n = opt['n']\n",
    "k = opt['k']\n",
    "wav = opt['wav']\n",
    "\n",
    "#n2 = hapke.opticalconstants(T,crystallinity=False)['n']\n",
    "#k2 = hapke.opticalconstants(T,crystallinity=False)['k']\n",
    "#wav2 = hapke.opticalconstants(T,crystallinity=False)['wav']\n",
    "\n",
    "#int_opt = hapke.inter_optical_constants(wav, wav2, n, k)\n",
    "\n",
    "#wav1 = np.array(int_opt['wav'])\n",
    "#n = int_opt['n']\n",
    "#k = int_opt['k']\n",
    "\n"
   ],
   "metadata": {
    "collapsed": false,
    "ExecuteTime": {
     "end_time": "2023-07-11T13:17:14.244531300Z",
     "start_time": "2023-07-11T13:17:14.225365400Z"
    }
   }
  },
  {
   "cell_type": "code",
   "execution_count": null,
   "outputs": [],
   "source": [
    "e, i, phase = [np.deg2rad(30),np.deg2rad(0.00001),np.deg2rad(30)]\n",
    "\n",
    "data = np.loadtxt('.\\LabWork3.txt')\n",
    "\n",
    "r_lab = np.array(data[:,1])\n",
    "wav_lab = np.array(data[:,0]) / 1000\n",
    "angles = [e,i,phase]\n",
    "\n",
    "ini_par = [0.5,0.00007,0.1,0.5,0.2]\n",
    "\n",
    "optimized_parameters = optimize.least_squares(\n",
    "    hapke.cost_function, ini_par, args=(wav, angles, r_lab, wav_lab,n,k,3.1), bounds=([0.0,0.0,0.0,0.0,0.0], [0.752,0.01,np.deg2rad(45),1.0,1.0], )\n",
    ")"
   ],
   "metadata": {
    "collapsed": false
   }
  },
  {
   "cell_type": "code",
   "execution_count": null,
   "outputs": [],
   "source": [
    "optimized_values = optimized_parameters.x\n",
    "print(optimized_parameters)\n",
    "print('XXXXXXXXXXXXXXXXXXXXXXXXXXXXXXXXXXX')\n",
    "# Retrieve the covariance matrix\n",
    "\n",
    "\n",
    "cov_matrix = np.linalg.inv(optimized_parameters.jac.T @ optimized_parameters.jac)\n",
    "\n",
    "# Calculate the standard errors of the optimized parameters\n",
    "parameter_errors = np.sqrt(np.diag(cov_matrix))\n",
    "\n",
    "# Print the optimized parameter values and their errors\n",
    "for i, value in enumerate(optimized_values):\n",
    "    print(f\"Parameter {i+1}: {value:} +/- {parameter_errors[i]:.6f}\")\n",
    "\n",
    "# Calculate correlation matrix\n",
    "correlation_matrix = cov_matrix / np.outer(parameter_errors, parameter_errors)\n",
    "\n",
    "print(\"Correlation matrix:\")\n",
    "print(correlation_matrix)\n",
    "print('XXXXXXXXXXXXXXXXXXXXXXXXXXXXXXXXXXX')\n",
    "\n",
    "fig, ax = plt.subplots()\n",
    "ax.plot(wav, hapke.hapke_model(ini_par, wav, angles, n, k)['IF'], label = 'IF_ini')\n",
    "ax.plot(wav_lab, r_lab, label = 'r_lab')\n",
    "ax.plot(wav, hapke.hapke_model(optimized_values, wav, angles, n, k)['IF'], label = 'IF_opt')\n",
    "ax.set_xlabel('Wavelength (um)')\n",
    "ax.set_ylabel('I/F')\n",
    "ax.set_title('')\n",
    "ax.set_xlim(1.2,4.0)\n",
    "ax.legend()\n",
    "plt.show()"
   ],
   "metadata": {
    "collapsed": false
   }
  },
  {
   "cell_type": "code",
   "execution_count": null,
   "outputs": [],
   "source": [
    "real_p = [0.51,0.000073]\n",
    "phi_real, D_real = real_p\n",
    "\n",
    "e, i, phase = [np.deg2rad(30),np.deg2rad(0.00001),np.deg2rad(30)]\n",
    "angles = [e,i,phase]\n",
    "\n",
    "IF_obj = hapke.hapke_model(real_p,wav,angles,n,k)['IF']\n",
    "\n",
    "phi_range = np.linspace(0.2,0.7,40)\n",
    "D_range = np.linspace(0.000001,0.0001,40) * 1000000\n",
    "\n",
    "residuals = np.zeros((len(phi_range),len(D_range)))\n",
    "\n",
    "#for i in range(len(phi_range)):\n",
    "#    for j in range(len(D_range)):\n",
    "#        param = [phi_range[i], D_range[j]]\n",
    "#        residuals[i,j] = np.linalg.norm(hapke.cost_function(param,wav,angles,IF_obj,wav,n,k,3.1))\n",
    "for i in range(len(phi_range)):\n",
    "    for j in range(len(D_range)):\n",
    "        param = [phi_range[i], D_range[j] / 1000000]\n",
    "        residuals[i,j] = np.linalg.norm(IF_obj - hapke.hapke_model(param,wav,angles,n,k)['IF'])"
   ],
   "metadata": {
    "collapsed": false
   }
  },
  {
   "cell_type": "code",
   "execution_count": null,
   "outputs": [],
   "source": [
    "phi_range, D_range = np.meshgrid(phi_range, D_range)\n",
    "# Define the data\n",
    "\n",
    "# Create a 3D plot\n",
    "fig = plt.figure()\n",
    "ax = fig.add_subplot(111, projection='3d')\n",
    "ax.plot_surface(phi_range, D_range, residuals.T, cmap='viridis')\n",
    "ax.scatter(0.51,73,0.0, c = 'green', label = 'Real solution' )\n",
    "# Set labels and title\n",
    "ax.legend()\n",
    "ax.set_xlabel(r'$\\phi$')\n",
    "ax.set_ylabel(r'D [$\\mu$m]')\n",
    "ax.set_zlabel('Residuals')\n",
    "\n",
    "# Show the plot\n",
    "plt.show()"
   ],
   "metadata": {
    "collapsed": false
   }
  },
  {
   "cell_type": "code",
   "execution_count": 15,
   "outputs": [
    {
     "ename": "IndexError",
     "evalue": "index 0 is out of bounds for axis 0 with size 0",
     "output_type": "error",
     "traceback": [
      "\u001B[1;31m---------------------------------------------------------------------------\u001B[0m",
      "\u001B[1;31mIndexError\u001B[0m                                Traceback (most recent call last)",
      "Cell \u001B[1;32mIn[15], line 22\u001B[0m\n\u001B[0;32m     19\u001B[0m interp_func_2 \u001B[38;5;241m=\u001B[39m interp1d(wav_lab, r_lab, bounds_error\u001B[38;5;241m=\u001B[39m\u001B[38;5;28;01mFalse\u001B[39;00m)\n\u001B[0;32m     21\u001B[0m interpolated_lab \u001B[38;5;241m=\u001B[39m interp_func_2(wav)\n\u001B[1;32m---> 22\u001B[0m if_if \u001B[38;5;241m=\u001B[39m \u001B[43mhapke\u001B[49m\u001B[38;5;241;43m.\u001B[39;49m\u001B[43mhapke_model\u001B[49m\u001B[43m(\u001B[49m\u001B[43mparam\u001B[49m\u001B[43m,\u001B[49m\u001B[43mwav\u001B[49m\u001B[43m,\u001B[49m\u001B[43mangles\u001B[49m\u001B[43m,\u001B[49m\u001B[43mn\u001B[49m\u001B[43m,\u001B[49m\u001B[43mk\u001B[49m\u001B[43m)\u001B[49m[\u001B[38;5;124m'\u001B[39m\u001B[38;5;124mIF\u001B[39m\u001B[38;5;124m'\u001B[39m]\n\u001B[0;32m     24\u001B[0m \u001B[38;5;28mprint\u001B[39m(interpolated_lab\u001B[38;5;241m-\u001B[39mif_if)\n\u001B[0;32m     26\u001B[0m \u001B[38;5;66;03m#for i in range(len(phi_range)):\u001B[39;00m\n\u001B[0;32m     27\u001B[0m \u001B[38;5;66;03m#    for j in range(len(D_range)):\u001B[39;00m\n\u001B[0;32m     28\u001B[0m \u001B[38;5;66;03m#        param = [phi_range[i], D_range[j]]\u001B[39;00m\n\u001B[0;32m     29\u001B[0m \u001B[38;5;66;03m#        residuals[i,j] = np.linalg.norm(hapke.cost_function(param,wav,angles,IF_obj,wav,n,k,3.1))\u001B[39;00m\n",
      "File \u001B[1;32m~\\PycharmProjects\\pythonProject\\hapke.py:155\u001B[0m, in \u001B[0;36mhapke_model\u001B[1;34m(parameters, wav, angles, n_range, k_range)\u001B[0m\n\u001B[0;32m    151\u001B[0m p \u001B[38;5;241m=\u001B[39m phase_function(b, c, phase)\n\u001B[0;32m    153\u001B[0m [mu_0e, mu_e, S] \u001B[38;5;241m=\u001B[39m shadowingfunction(inc, eme, psi, theta_bar)\n\u001B[1;32m--> 155\u001B[0m w \u001B[38;5;241m=\u001B[39m \u001B[43msinglescatteringalbedo\u001B[49m\u001B[43m(\u001B[49m\u001B[43mn_range\u001B[49m\u001B[43m,\u001B[49m\u001B[43m \u001B[49m\u001B[43mk_range\u001B[49m\u001B[43m,\u001B[49m\u001B[43m \u001B[49m\u001B[43mwav\u001B[49m\u001B[43m,\u001B[49m\u001B[43m \u001B[49m\u001B[43mD\u001B[49m\u001B[43m)\u001B[49m\n\u001B[0;32m    157\u001B[0m r \u001B[38;5;241m=\u001B[39m []\n\u001B[0;32m    158\u001B[0m \u001B[38;5;28;01mfor\u001B[39;00m i \u001B[38;5;129;01min\u001B[39;00m \u001B[38;5;28mrange\u001B[39m(\u001B[38;5;28mlen\u001B[39m(wav)):\n",
      "File \u001B[1;32m~\\PycharmProjects\\pythonProject\\hapke.py:259\u001B[0m, in \u001B[0;36msinglescatteringalbedo\u001B[1;34m(n, k, wavelength, D, internalScattering)\u001B[0m\n\u001B[0;32m    256\u001B[0m Si[i] \u001B[38;5;241m=\u001B[39m \u001B[38;5;241m1\u001B[39m \u001B[38;5;241m-\u001B[39m (\u001B[38;5;241m0.9413\u001B[39m \u001B[38;5;241m-\u001B[39m \u001B[38;5;241m0.8543\u001B[39m \u001B[38;5;241m*\u001B[39m R_0[i] \u001B[38;5;241m+\u001B[39m \u001B[38;5;241m0.0870\u001B[39m \u001B[38;5;241m*\u001B[39m R_0[i] \u001B[38;5;241m*\u001B[39m\u001B[38;5;241m*\u001B[39m \u001B[38;5;241m2\u001B[39m) \u001B[38;5;241m/\u001B[39m n[i]\n\u001B[0;32m    258\u001B[0m \u001B[38;5;66;03m# absorption coefficient multiplied by a factor pi\u001B[39;00m\n\u001B[1;32m--> 259\u001B[0m alpha[i] \u001B[38;5;241m=\u001B[39m (\u001B[38;5;241m4\u001B[39m \u001B[38;5;241m*\u001B[39m np\u001B[38;5;241m.\u001B[39mpi \u001B[38;5;241m*\u001B[39m k[i]) \u001B[38;5;241m/\u001B[39m (\u001B[43mwavelength\u001B[49m\u001B[43m[\u001B[49m\u001B[43mi\u001B[49m\u001B[43m]\u001B[49m \u001B[38;5;241m*\u001B[39m \u001B[38;5;241m10\u001B[39m \u001B[38;5;241m*\u001B[39m\u001B[38;5;241m*\u001B[39m (\u001B[38;5;241m-\u001B[39m\u001B[38;5;241m6\u001B[39m))\n\u001B[0;32m    261\u001B[0m Dmodif[i] \u001B[38;5;241m=\u001B[39m np\u001B[38;5;241m.\u001B[39mreal((\u001B[38;5;241m2\u001B[39m \u001B[38;5;241m/\u001B[39m \u001B[38;5;241m3\u001B[39m) \u001B[38;5;241m*\u001B[39m (n[i] \u001B[38;5;241m*\u001B[39m\u001B[38;5;241m*\u001B[39m \u001B[38;5;241m2\u001B[39m \u001B[38;5;241m-\u001B[39m (\u001B[38;5;241m1\u001B[39m \u001B[38;5;241m/\u001B[39m n[i]) \u001B[38;5;241m*\u001B[39m (n[i] \u001B[38;5;241m*\u001B[39m\u001B[38;5;241m*\u001B[39m \u001B[38;5;241m2\u001B[39m \u001B[38;5;241m-\u001B[39m \u001B[38;5;241m1\u001B[39m \u001B[38;5;241m+\u001B[39m \u001B[38;5;241m0\u001B[39mj) \u001B[38;5;241m*\u001B[39m\u001B[38;5;241m*\u001B[39m (\u001B[38;5;241m3\u001B[39m \u001B[38;5;241m/\u001B[39m \u001B[38;5;241m2\u001B[39m)) \u001B[38;5;241m*\u001B[39m D)\n\u001B[0;32m    262\u001B[0m r_i[i] \u001B[38;5;241m=\u001B[39m (\u001B[38;5;241m1\u001B[39m \u001B[38;5;241m-\u001B[39m np\u001B[38;5;241m.\u001B[39msqrt(alpha[i] \u001B[38;5;241m/\u001B[39m (alpha[i] \u001B[38;5;241m+\u001B[39m s))) \u001B[38;5;241m/\u001B[39m (\u001B[38;5;241m1\u001B[39m \u001B[38;5;241m+\u001B[39m np\u001B[38;5;241m.\u001B[39msqrt(alpha[i] \u001B[38;5;241m/\u001B[39m (alpha[i] \u001B[38;5;241m+\u001B[39m s)))\n",
      "\u001B[1;31mIndexError\u001B[0m: index 0 is out of bounds for axis 0 with size 0"
     ]
    }
   ],
   "source": [
    "# COMPARISON WITH LAB DATA\n",
    "\n",
    "e, i, phase = [np.deg2rad(30),np.deg2rad(0.00001),np.deg2rad(30)]\n",
    "angles = [e,i,phase]\n",
    "\n",
    "data = np.loadtxt('.\\LabWork3.txt')\n",
    "\n",
    "r_lab = np.array(data[:,1])\n",
    "wav_lab = np.array(data[:,0]) / 1000\n",
    "max_w = 3.1\n",
    "real_par = [0.51,0.00007]\n",
    "\n",
    "phi_range = np.linspace(0.2,0.7,5)\n",
    "D_range = np.linspace(0.000001,0.0001,5) * 1000000\n",
    "\n",
    "residuals = np.zeros((len(phi_range),len(D_range)))\n",
    "\n",
    "\n",
    "interp_func_2 = interp1d(wav_lab, r_lab, bounds_error=False)\n",
    "\n",
    "interpolated_lab = interp_func_2(wav)\n",
    "if_if = hapke.hapke_model(param,wav,angles,n,k)['IF']\n",
    "\n",
    "print(interpolated_lab-if_if)\n",
    "\n",
    "#for i in range(len(phi_range)):\n",
    "#    for j in range(len(D_range)):\n",
    "#        param = [phi_range[i], D_range[j]]\n",
    "#        residuals[i,j] = np.linalg.norm(hapke.cost_function(param,wav,angles,IF_obj,wav,n,k,3.1))\n",
    "for i in range(len(phi_range)):\n",
    "    for j in range(len(D_range)):\n",
    "        param = [phi_range[i], D_range[j] / 1000000]\n",
    "        residuals[i,j] = np.linalg.norm(interpolated_lab - hapke.hapke_model(param,wav,angles,n,k)['IF'])"
   ],
   "metadata": {
    "collapsed": false,
    "ExecuteTime": {
     "end_time": "2023-07-11T15:50:25.761923600Z",
     "start_time": "2023-07-11T15:50:25.673903100Z"
    }
   }
  },
  {
   "cell_type": "code",
   "execution_count": 8,
   "outputs": [
    {
     "name": "stderr",
     "output_type": "stream",
     "text": [
      "No artists with labels found to put in legend.  Note that artists whose label start with an underscore are ignored when legend() is called with no argument.\n"
     ]
    },
    {
     "ename": "KeyboardInterrupt",
     "evalue": "",
     "output_type": "error",
     "traceback": [
      "\u001B[1;31m---------------------------------------------------------------------------\u001B[0m",
      "\u001B[1;31mKeyboardInterrupt\u001B[0m                         Traceback (most recent call last)",
      "Cell \u001B[1;32mIn[8], line 17\u001B[0m\n\u001B[0;32m     14\u001B[0m ax\u001B[38;5;241m.\u001B[39mset_title(\u001B[38;5;124m'\u001B[39m\u001B[38;5;124mLab\u001B[39m\u001B[38;5;124m'\u001B[39m)\n\u001B[0;32m     16\u001B[0m \u001B[38;5;66;03m# Show the plot\u001B[39;00m\n\u001B[1;32m---> 17\u001B[0m \u001B[43mplt\u001B[49m\u001B[38;5;241;43m.\u001B[39;49m\u001B[43mshow\u001B[49m\u001B[43m(\u001B[49m\u001B[43m)\u001B[49m\n",
      "File \u001B[1;32m~\\AppData\\Local\\Programs\\Python\\Python311\\Lib\\site-packages\\matplotlib\\pyplot.py:421\u001B[0m, in \u001B[0;36mshow\u001B[1;34m(*args, **kwargs)\u001B[0m\n\u001B[0;32m    377\u001B[0m \u001B[38;5;250m\u001B[39m\u001B[38;5;124;03m\"\"\"\u001B[39;00m\n\u001B[0;32m    378\u001B[0m \u001B[38;5;124;03mDisplay all open figures.\u001B[39;00m\n\u001B[0;32m    379\u001B[0m \n\u001B[1;32m   (...)\u001B[0m\n\u001B[0;32m    418\u001B[0m \u001B[38;5;124;03mexplicitly there.\u001B[39;00m\n\u001B[0;32m    419\u001B[0m \u001B[38;5;124;03m\"\"\"\u001B[39;00m\n\u001B[0;32m    420\u001B[0m _warn_if_gui_out_of_main_thread()\n\u001B[1;32m--> 421\u001B[0m \u001B[38;5;28;01mreturn\u001B[39;00m \u001B[43m_get_backend_mod\u001B[49m\u001B[43m(\u001B[49m\u001B[43m)\u001B[49m\u001B[38;5;241;43m.\u001B[39;49m\u001B[43mshow\u001B[49m\u001B[43m(\u001B[49m\u001B[38;5;241;43m*\u001B[39;49m\u001B[43margs\u001B[49m\u001B[43m,\u001B[49m\u001B[43m \u001B[49m\u001B[38;5;241;43m*\u001B[39;49m\u001B[38;5;241;43m*\u001B[39;49m\u001B[43mkwargs\u001B[49m\u001B[43m)\u001B[49m\n",
      "File \u001B[1;32m~\\AppData\\Local\\Programs\\Python\\Python311\\Lib\\site-packages\\matplotlib\\backend_bases.py:3554\u001B[0m, in \u001B[0;36m_Backend.show\u001B[1;34m(cls, block)\u001B[0m\n\u001B[0;32m   3552\u001B[0m     block \u001B[38;5;241m=\u001B[39m \u001B[38;5;129;01mnot\u001B[39;00m ipython_pylab \u001B[38;5;129;01mand\u001B[39;00m \u001B[38;5;129;01mnot\u001B[39;00m is_interactive()\n\u001B[0;32m   3553\u001B[0m \u001B[38;5;28;01mif\u001B[39;00m block:\n\u001B[1;32m-> 3554\u001B[0m     \u001B[38;5;28;43mcls\u001B[39;49m\u001B[38;5;241;43m.\u001B[39;49m\u001B[43mmainloop\u001B[49m\u001B[43m(\u001B[49m\u001B[43m)\u001B[49m\n",
      "File \u001B[1;32m~\\AppData\\Local\\Programs\\Python\\Python311\\Lib\\site-packages\\matplotlib\\backends\\backend_qt.py:1021\u001B[0m, in \u001B[0;36m_BackendQT.mainloop\u001B[1;34m()\u001B[0m\n\u001B[0;32m   1018\u001B[0m \u001B[38;5;129m@staticmethod\u001B[39m\n\u001B[0;32m   1019\u001B[0m \u001B[38;5;28;01mdef\u001B[39;00m \u001B[38;5;21mmainloop\u001B[39m():\n\u001B[0;32m   1020\u001B[0m     qapp \u001B[38;5;241m=\u001B[39m QtWidgets\u001B[38;5;241m.\u001B[39mQApplication\u001B[38;5;241m.\u001B[39minstance()\n\u001B[1;32m-> 1021\u001B[0m \u001B[43m    \u001B[49m\u001B[38;5;28;43;01mwith\u001B[39;49;00m\u001B[43m \u001B[49m\u001B[43m_maybe_allow_interrupt\u001B[49m\u001B[43m(\u001B[49m\u001B[43mqapp\u001B[49m\u001B[43m)\u001B[49m\u001B[43m:\u001B[49m\n\u001B[0;32m   1022\u001B[0m \u001B[43m        \u001B[49m\u001B[43mqt_compat\u001B[49m\u001B[38;5;241;43m.\u001B[39;49m\u001B[43m_exec\u001B[49m\u001B[43m(\u001B[49m\u001B[43mqapp\u001B[49m\u001B[43m)\u001B[49m\n",
      "File \u001B[1;32m~\\AppData\\Local\\Programs\\Python\\Python311\\Lib\\contextlib.py:144\u001B[0m, in \u001B[0;36m_GeneratorContextManager.__exit__\u001B[1;34m(self, typ, value, traceback)\u001B[0m\n\u001B[0;32m    142\u001B[0m \u001B[38;5;28;01mif\u001B[39;00m typ \u001B[38;5;129;01mis\u001B[39;00m \u001B[38;5;28;01mNone\u001B[39;00m:\n\u001B[0;32m    143\u001B[0m     \u001B[38;5;28;01mtry\u001B[39;00m:\n\u001B[1;32m--> 144\u001B[0m         \u001B[38;5;28mnext\u001B[39m(\u001B[38;5;28mself\u001B[39m\u001B[38;5;241m.\u001B[39mgen)\n\u001B[0;32m    145\u001B[0m     \u001B[38;5;28;01mexcept\u001B[39;00m \u001B[38;5;167;01mStopIteration\u001B[39;00m:\n\u001B[0;32m    146\u001B[0m         \u001B[38;5;28;01mreturn\u001B[39;00m \u001B[38;5;28;01mFalse\u001B[39;00m\n",
      "File \u001B[1;32m~\\AppData\\Local\\Programs\\Python\\Python311\\Lib\\site-packages\\matplotlib\\backends\\qt_compat.py:269\u001B[0m, in \u001B[0;36m_maybe_allow_interrupt\u001B[1;34m(qapp)\u001B[0m\n\u001B[0;32m    267\u001B[0m signal\u001B[38;5;241m.\u001B[39msignal(signal\u001B[38;5;241m.\u001B[39mSIGINT, old_sigint_handler)\n\u001B[0;32m    268\u001B[0m \u001B[38;5;28;01mif\u001B[39;00m handler_args \u001B[38;5;129;01mis\u001B[39;00m \u001B[38;5;129;01mnot\u001B[39;00m \u001B[38;5;28;01mNone\u001B[39;00m:\n\u001B[1;32m--> 269\u001B[0m     \u001B[43mold_sigint_handler\u001B[49m\u001B[43m(\u001B[49m\u001B[38;5;241;43m*\u001B[39;49m\u001B[43mhandler_args\u001B[49m\u001B[43m)\u001B[49m\n",
      "\u001B[1;31mKeyboardInterrupt\u001B[0m: "
     ]
    }
   ],
   "source": [
    "phi_range, D_range = np.meshgrid(phi_range, D_range)\n",
    "# Define the data\n",
    "\n",
    "# Create a 3D plot\n",
    "fig = plt.figure()\n",
    "ax = fig.add_subplot(111, projection='3d')\n",
    "ax.plot_surface(phi_range, D_range, residuals.T, cmap='viridis')\n",
    "#ax.scatter(0.51,73,0.0, c = 'green', label = 'Real solution' )\n",
    "# Set labels and title\n",
    "ax.legend()\n",
    "ax.set_xlabel(r'$\\phi$')\n",
    "ax.set_ylabel(r'D [$\\mu$m]')\n",
    "ax.set_zlabel('Residuals')\n",
    "ax.set_title('Lab')\n",
    "\n",
    "# Show the plot\n",
    "plt.show()"
   ],
   "metadata": {
    "collapsed": false,
    "ExecuteTime": {
     "end_time": "2023-07-11T13:18:16.966916900Z",
     "start_time": "2023-07-11T13:17:45.772640600Z"
    }
   }
  },
  {
   "cell_type": "code",
   "execution_count": null,
   "outputs": [],
   "source": [],
   "metadata": {
    "collapsed": false
   }
  }
 ],
 "metadata": {
  "kernelspec": {
   "display_name": "Python 3 (ipykernel)",
   "language": "python",
   "name": "python3"
  },
  "language_info": {
   "codemirror_mode": {
    "name": "ipython",
    "version": 3
   },
   "file_extension": ".py",
   "mimetype": "text/x-python",
   "name": "python",
   "nbconvert_exporter": "python",
   "pygments_lexer": "ipython3",
   "version": "3.11.3"
  }
 },
 "nbformat": 4,
 "nbformat_minor": 5
}
