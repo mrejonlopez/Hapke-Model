{
 "cells": [
  {
   "cell_type": "code",
   "execution_count": 1,
   "outputs": [],
   "source": [
    "import numpy as np\n",
    "import hapke\n",
    "import matplotlib\n",
    "matplotlib.use('Qt5Agg')\n",
    "import matplotlib.pyplot as plt\n",
    "from scipy import optimize\n",
    "from mpl_toolkits import mplot3d\n",
    "from scipy.interpolate import interp1d\n",
    "import os\n",
    "import shutil\n",
    "from pyvims import VIMS\n",
    "from mpl_toolkits.axes_grid1.inset_locator import inset_axes\n",
    "import matplotlib.patches as patches"
   ],
   "metadata": {
    "collapsed": false,
    "ExecuteTime": {
     "end_time": "2023-07-27T13:49:10.743672200Z",
     "start_time": "2023-07-27T13:49:05.500701100Z"
    }
   }
  },
  {
   "cell_type": "code",
   "execution_count": 2,
   "outputs": [],
   "source": [
    "T = 120\n",
    "N = 20\n",
    "\n",
    "opt_c = hapke.opticalconstants(T,sensitivity = N)\n",
    "n_c = opt_c['n']\n",
    "k_c = opt_c['k']\n",
    "wav_c = opt_c['wav']\n",
    "\n",
    "opt_a = hapke.opticalconstants(T, sensitivity= N,crystallinity=False)\n",
    "n_a = opt_a['n']\n",
    "k_a = opt_a['k']\n",
    "wav_a = opt_a['wav']\n",
    "\n",
    "int_opt = hapke.inter_optical_constants(wav_c, wav_a, n_c, k_c)\n",
    "\n",
    "wav = np.array(int_opt['wav'])\n",
    "n_c = int_opt['n']\n",
    "k_c = int_opt['k']"
   ],
   "metadata": {
    "collapsed": false,
    "ExecuteTime": {
     "end_time": "2023-07-26T14:09:34.294765Z",
     "start_time": "2023-07-26T14:09:34.278255200Z"
    }
   }
  },
  {
   "cell_type": "code",
   "execution_count": null,
   "outputs": [],
   "source": [
    "real_p = [0.5, 0.51]\n",
    "m_real, D = real_p\n",
    "\n",
    "e, i, phase = [np.deg2rad(30),np.deg2rad(0.00001),np.deg2rad(30)]\n",
    "angles = [e,i,phase]\n",
    "\n",
    "IF_obj = hapke.hapke_model_mixed(real_p,wav,angles,n_c,k_c,n_a,k_a)['IF']\n",
    "phi_range = np.linspace(0.01,0.74,20)\n",
    "m_range = np.linspace(0,1,20)\n",
    "\n",
    "residuals = np.zeros((len(phi_range),len(m_range)))\n",
    "\n",
    "for i in range(len(phi_range)):\n",
    "    for j in range(len(m_range)):\n",
    "        param = [phi_range[i], m_range[j]]\n",
    "        residuals[i,j] = np.log(np.linalg.norm(IF_obj - hapke.hapke_model_mixed(param, wav,angles, n_c, k_c, n_a, k_a)['IF']))"
   ],
   "metadata": {
    "collapsed": false
   }
  },
  {
   "cell_type": "code",
   "execution_count": null,
   "outputs": [],
   "source": [
    "phi_range, m_range = np.meshgrid(phi_range, m_range)\n",
    "# Define the data\n",
    "\n",
    "# Create a 3D plot\n",
    "fig = plt.figure(figsize = (4,4))\n",
    "ax = fig.add_subplot(111, projection='3d')\n",
    "ax.scatter(real_p[0],real_p[1], color = 'green', label = 'Real solution' )\n",
    "ax.plot_surface(phi_range, m_range, residuals.T, cmap='viridis')\n",
    "\n",
    "# Set labels and title\n",
    "ax.legend()\n",
    "ax.set_xlabel(r'$\\phi$ [-]')\n",
    "ax.set_ylabel(r'$m$ [-]')\n",
    "ax.set_zlabel('Residuals')\n",
    "\n",
    "# Show the plot\n",
    "plt.show()"
   ],
   "metadata": {
    "collapsed": false
   }
  },
  {
   "cell_type": "code",
   "execution_count": null,
   "outputs": [],
   "source": [
    "e, i, phase = [np.deg2rad(30),np.deg2rad(0.00001),np.deg2rad(30)]\n",
    "\n",
    "angles = [e, i, phase]\n",
    "\n",
    "real_p = [0.51,0.00007,0.5]\n",
    "\n",
    "IF_real = hapke.hapke_model_mixed(real_p,wav,angles,n_c,k_c,n_a,k_a)['IF']\n",
    "\n",
    "ini_par = [0.1,0.0001,0.01]\n",
    "\n",
    "optimized_parameters = optimize.least_squares(\n",
    "    hapke.cost_function_mixed, ini_par, args=(wav, angles, IF_real, wav,n_c,k_c,n_a,k_a,3.1), bounds=([0.0,0.000001,0.0], [0.74,0.001,1.0], )\n",
    ")\n",
    "\n",
    "optimized_parameters1 = optimize.least_squares(\n",
    "    hapke.cost_function_mixed_no_weight, ini_par, args=(wav, angles, IF_real, wav,n_c,k_c,n_a,k_a,3.1), bounds=([0.0,0.000001,0.0], [0.74,0.001,1.0], )\n",
    ")"
   ],
   "metadata": {
    "collapsed": false
   }
  },
  {
   "cell_type": "code",
   "execution_count": null,
   "outputs": [],
   "source": [
    "print(optimized_parameters)\n",
    "optimized_values = optimized_parameters.x\n",
    "cov_matrix = np.linalg.inv(optimized_parameters.jac.T @ optimized_parameters.jac)\n",
    "\n",
    "# Calculate the standard errors of the optimized parameters\n",
    "parameter_errors = np.sqrt(np.diag(cov_matrix))\n",
    "\n",
    "# Print the optimized parameter values and their errors\n",
    "for i, value in enumerate(optimized_values):\n",
    "    print(f\"Parameter {i+1}: {value:} +/- {parameter_errors[i]:.6f}\")\n",
    "\n",
    "\n",
    "# Calculate correlation matrix\n",
    "correlation_matrix = cov_matrix / np.outer(parameter_errors, parameter_errors)\n",
    "\n",
    "print(\"Correlation matrix:\")\n",
    "print(correlation_matrix)\n",
    "print('XXXXXXXXXXXXXXXXXXXXXXXXXXXXXXXXXXX')\n",
    "\n",
    "print(optimized_parameters1)\n",
    "optimized_values1 = optimized_parameters1.x\n",
    "cov_matrix = np.linalg.inv(optimized_parameters1.jac.T @ optimized_parameters1.jac)\n",
    "\n",
    "# Calculate the standard errors of the optimized parameters\n",
    "parameter_errors = np.sqrt(np.diag(cov_matrix))\n",
    "\n",
    "# Print the optimized parameter values and their errors\n",
    "for i, value in enumerate(optimized_values1):\n",
    "    print(f\"Parameter {i+1}: {value:} +/- {parameter_errors[i]:.6f}\")\n",
    "\n",
    "\n",
    "# Calculate correlation matrix\n",
    "correlation_matrix = cov_matrix / np.outer(parameter_errors, parameter_errors)\n",
    "\n",
    "print(\"Correlation matrix:\")\n",
    "print(correlation_matrix)\n",
    "print('XXXXXXXXXXXXXXXXXXXXXXXXXXXXXXXXXXX')"
   ],
   "metadata": {
    "collapsed": false
   }
  },
  {
   "cell_type": "code",
   "execution_count": 3,
   "outputs": [],
   "source": [
    "e, i, phase = [np.deg2rad(30),np.deg2rad(0.00001),np.deg2rad(30)]\n",
    "\n",
    "data = np.loadtxt('.\\LabWork3.txt')\n",
    "r_lab = np.array(data[:,1])\n",
    "wav_lab = np.array(data[:,0]) / 1000\n",
    "angles = [e,i,phase]\n",
    "\n",
    "ini_par = [0.5,0.00007,0.4]\n",
    "\n",
    "optimized_parameters = optimize.least_squares(\n",
    "    hapke.cost_function_mixed_no_weight, ini_par, args=(wav, angles, r_lab, wav_lab,n_c,k_c,n_a,k_a,3.1), bounds=([0.001,0.000001,0], [0.74,0.001,1], )\n",
    ")\n",
    "optimized_parameters1 = optimize.least_squares(\n",
    "    hapke.cost_function_mixed, ini_par, args=(wav, angles, r_lab, wav_lab,n_c,k_c,n_a,k_a,3.1), bounds=([0.001,0.000001,0], [0.74,0.001,1], )\n",
    ")"
   ],
   "metadata": {
    "collapsed": false,
    "ExecuteTime": {
     "end_time": "2023-07-26T14:09:51.662582100Z",
     "start_time": "2023-07-26T14:09:47.146649600Z"
    }
   }
  },
  {
   "cell_type": "code",
   "execution_count": null,
   "outputs": [
    {
     "name": "stdout",
     "output_type": "stream",
     "text": [
      "[0.001      0.00035772 0.26414476]\n",
      "[0.001      0.00028272 0.18375988]\n",
      "XXXXXXXXXXXXXXXXXXXXXXXXXXXXXXXXXXX\n",
      "Parameter 1: 0.001000000000000115 +/- 0.108529\n",
      "Parameter 2: 0.00035772299730286696 +/- 0.000420\n",
      "Parameter 3: 0.2641447619974731 +/- 2.153624\n",
      "Parameter 1: 0.0010000000000003498 +/- 0.033774\n",
      "Parameter 2: 0.00028272408121868476 +/- 0.000056\n",
      "Parameter 3: 0.1837598815921497 +/- 0.336821\n"
     ]
    }
   ],
   "source": [
    "optimized_values = optimized_parameters.x\n",
    "optimized_values1 = optimized_parameters1.x\n",
    "print(optimized_values)\n",
    "print(optimized_values1)\n",
    "print('XXXXXXXXXXXXXXXXXXXXXXXXXXXXXXXXXXX')\n",
    "# Retrieve the covariance matrix\n",
    "\n",
    "\n",
    "cov_matrix = np.linalg.inv(optimized_parameters.jac.T @ optimized_parameters.jac)\n",
    "\n",
    "# Calculate the standard errors of the optimized parameters\n",
    "parameter_errors = np.sqrt(np.diag(cov_matrix))\n",
    "\n",
    "# Print the optimized parameter values and their errors\n",
    "for i, value in enumerate(optimized_values):\n",
    "    print(f\"Parameter {i+1}: {value:} +/- {parameter_errors[i]:.6f}\")\n",
    "\n",
    "cov_matrix = np.linalg.inv(optimized_parameters1.jac.T @ optimized_parameters1.jac)\n",
    "\n",
    "# Calculate the standard errors of the optimized parameters\n",
    "parameter_errors = np.sqrt(np.diag(cov_matrix))\n",
    "\n",
    "# Print the optimized parameter values and their errors\n",
    "for i, value in enumerate(optimized_values1):\n",
    "    print(f\"Parameter {i+1}: {value:} +/- {parameter_errors[i]:.6f}\")\n",
    "\n",
    "fig, ax = plt.subplots()\n",
    "ax.plot(wav_lab, r_lab, label = 'r_lab')\n",
    "ax.plot(wav, hapke.hapke_model_mixed(optimized_values, wav, angles, n_c, k_c, n_a, k_a)['IF'], label = 'IF_opt')\n",
    "ax.plot(wav, hapke.hapke_model_mixed(optimized_values1, wav, angles, n_c, k_c, n_a, k_a)['IF'], label = 'no_weight')\n",
    "ax.set_xlabel('Wavelength (um)')\n",
    "ax.set_ylabel('I/F')\n",
    "ax.set_title('')\n",
    "ax.set_xlim(1.1,4)\n",
    "ax.legend()\n",
    "plt.show()"
   ],
   "metadata": {
    "collapsed": false,
    "is_executing": true,
    "ExecuteTime": {
     "start_time": "2023-07-26T14:09:51.669564400Z"
    }
   }
  },
  {
   "cell_type": "code",
   "execution_count": null,
   "outputs": [],
   "source": [
    "# COMPARISON WITH LAB DATA\n",
    "\n",
    "e, i, phase = [np.deg2rad(30),np.deg2rad(0.00001),np.deg2rad(30)]\n",
    "angles = [e,i,phase]\n",
    "\n",
    "data = np.loadtxt('.\\LabWork3.txt')\n",
    "\n",
    "r_lab = np.array(data[:,1])\n",
    "wav_lab = np.array(data[:,0]) / 1000\n",
    "max_w = 3.1\n",
    "real_par = [0.51,0.00007]\n",
    "\n",
    "phi_range = np.linspace(0.001,0.74,20)\n",
    "D_range = np.linspace(0.000001,0.001,20) * 1000000\n",
    "\n",
    "residuals = np.zeros((len(phi_range),len(D_range)))\n",
    "\n",
    "\n",
    "interp_func_2 = interp1d(wav_lab, r_lab, bounds_error=False)\n",
    "\n",
    "interpolated_lab = interp_func_2(wav)\n",
    "\n",
    "for i in range(len(phi_range)):\n",
    "    for j in range(len(D_range)):\n",
    "        param = [phi_range[i], D_range[j] / 1000000]\n",
    "        dif = (interpolated_lab - hapke.hapke_model_mixed(param,wav,angles,n_c,k_c,n_a,k_a)['IF'])\n",
    "        dif = dif[~np.isnan(dif)]\n",
    "        residuals[i,j] = np.linalg.norm(dif)"
   ],
   "metadata": {
    "collapsed": false
   }
  },
  {
   "cell_type": "code",
   "execution_count": null,
   "outputs": [],
   "source": [
    "phi_range, D_range = np.meshgrid(phi_range, D_range)\n",
    "# Define the data\n",
    "\n",
    "# Create a 3D plot\n",
    "fig = plt.figure()\n",
    "ax = fig.add_subplot(111, projection='3d')\n",
    "ax.plot_surface(phi_range, D_range, residuals.T, cmap='viridis')\n",
    "ax.scatter(0.51,73, c = 'green', label = 'Real solution' )\n",
    "ax.legend()\n",
    "ax.set_xlabel(r'$\\phi$ ')\n",
    "ax.set_ylabel(r'D [$\\mu$m]')\n",
    "ax.set_zlabel('Residuals')\n",
    "ax.set_title('Lab')\n",
    "\n",
    "# Show the plot\n",
    "plt.show()"
   ],
   "metadata": {
    "collapsed": false
   }
  },
  {
   "cell_type": "code",
   "execution_count": null,
   "outputs": [],
   "source": [
    "# MASS FRACTION PLOT - TEST OF IMPLEMENTATION\n",
    "\n",
    "mass_fraction = [0,0.25,0.5,0.75,1]\n",
    "\n",
    "e, i, phase = [np.deg2rad(30),np.deg2rad(0.00001),np.deg2rad(30)]\n",
    "angles = [e, i , phase]\n",
    "\n",
    "phi = 0.5\n",
    "D = 0.00007\n",
    "\n",
    "fig, ax = plt.subplots(figsize = (8,3))\n",
    "for i in range(len(mass_fraction)):\n",
    "    ax.plot(wav, hapke.hapke_model_mixed([phi,D,mass_fraction[i]], wav, angles, n_c, k_c,n_a,k_a)['IF'], label = r'$m = $' + str(mass_fraction[i]))\n",
    "ax.set_xlabel(r'Wavelength [$\\mu$m]')\n",
    "ax.set_ylabel('I/F')\n",
    "ax.set_title('')\n",
    "ax.set_xlim(1.11,5.05)\n",
    "ax.legend()\n",
    "plt.show()"
   ],
   "metadata": {
    "collapsed": false
   }
  },
  {
   "cell_type": "code",
   "execution_count": null,
   "outputs": [],
   "source": [],
   "metadata": {
    "collapsed": false
   }
  }
 ],
 "metadata": {
  "kernelspec": {
   "display_name": "Python 3 (ipykernel)",
   "language": "python",
   "name": "python3"
  },
  "language_info": {
   "codemirror_mode": {
    "name": "ipython",
    "version": 3
   },
   "file_extension": ".py",
   "mimetype": "text/x-python",
   "name": "python",
   "nbconvert_exporter": "python",
   "pygments_lexer": "ipython3",
   "version": "3.11.3"
  }
 },
 "nbformat": 4,
 "nbformat_minor": 5
}
