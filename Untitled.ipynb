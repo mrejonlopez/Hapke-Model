{
 "cells": [
  {
   "cell_type": "code",
   "execution_count": 1,
   "id": "a4efd8c2",
   "metadata": {
    "ExecuteTime": {
     "end_time": "2023-07-24T15:45:32.655573500Z",
     "start_time": "2023-07-24T15:45:31.693815500Z"
    }
   },
   "outputs": [],
   "source": [
    "import numpy as np\n",
    "import hapke\n",
    "import matplotlib\n",
    "matplotlib.use('Qt5Agg')\n",
    "import matplotlib.pyplot as plt\n",
    "from scipy import optimize\n",
    "from mpl_toolkits import mplot3d\n",
    "from scipy.interpolate import interp1d\n",
    "import os\n",
    "import shutil\n",
    "from pyvims import VIMS"
   ]
  },
  {
   "cell_type": "code",
   "execution_count": 6,
   "outputs": [],
   "source": [
    "T = 120\n",
    "N = 20\n",
    "\n",
    "opt_c = hapke.opticalconstants(T,sensitivity = N)\n",
    "n_c = opt_c['n']\n",
    "k_c = opt_c['k']\n",
    "wav_c = opt_c['wav']\n",
    "\n",
    "opt_a = hapke.opticalconstants(T, sensitivity= N,crystallinity=False)\n",
    "n_a = opt_a['n']\n",
    "k_a = opt_a['k']\n",
    "wav_a = opt_a['wav']\n",
    "\n",
    "int_opt = hapke.inter_optical_constants(wav_c, wav_a, n_c, k_c)\n",
    "\n",
    "wav = np.array(int_opt['wav'])\n",
    "n_c = int_opt['n']\n",
    "k_c = int_opt['k']"
   ],
   "metadata": {
    "collapsed": false,
    "ExecuteTime": {
     "end_time": "2023-07-24T15:47:17.462483600Z",
     "start_time": "2023-07-24T15:47:17.421559400Z"
    }
   }
  },
  {
   "cell_type": "code",
   "execution_count": 5,
   "outputs": [],
   "source": [
    "e, i, phase = [np.deg2rad(30),np.deg2rad(0.00001),np.deg2rad(30)]\n",
    "\n",
    "angles = [e, i, phase]\n",
    "\n",
    "real_p = [0.51,0.00007,0.5]\n",
    "\n",
    "IF_real = hapke.hapke_model_mixed(real_p,wav,angles,n_c,k_c,n_a,k_a)['IF']\n",
    "\n",
    "ini_par = [0.1,0.0001,0.01]\n",
    "\n",
    "optimized_parameters = optimize.least_squares(\n",
    "    hapke.cost_function_mixed, ini_par, args=(wav, angles, IF_real, wav,n_c,k_c,n_a,k_a,3.1), bounds=([0.0,0.000001,0.0], [0.74,0.001,1.0], )\n",
    ")\n",
    "optimized_parameters1 = optimize.least_squares(\n",
    "    hapke.cost_function_mixed_no_weight, ini_par, args=(wav, angles, IF_real, wav,n_c,k_c,n_a,k_a,3.1), bounds=([0.0,0.000001,0.0], [0.74,0.001,1.0], )\n",
    ")"
   ],
   "metadata": {
    "collapsed": false,
    "ExecuteTime": {
     "end_time": "2023-07-24T14:34:46.050606500Z",
     "start_time": "2023-07-24T14:34:42.765193100Z"
    }
   }
  },
  {
   "cell_type": "code",
   "execution_count": 6,
   "outputs": [
    {
     "name": "stdout",
     "output_type": "stream",
     "text": [
      "     message: `gtol` termination condition is satisfied.\n",
      "     success: True\n",
      "      status: 1\n",
      "         fun: [-4.943e-15  1.343e-16 ...  4.631e-16  0.000e+00]\n",
      "           x: [ 5.100e-01  7.000e-05  5.000e-01]\n",
      "        cost: 4.589309134500973e-28\n",
      "         jac: [[ 1.687e+00 -5.285e+02  4.098e-02]\n",
      "               [ 1.687e+00 -3.715e+02 -1.369e-02]\n",
      "               ...\n",
      "               [ 1.702e+00  0.000e+00  2.927e-03]\n",
      "               [ 1.708e+00  0.000e+00 -4.143e-01]]\n",
      "        grad: [-5.636e-13  2.583e-09  5.555e-14]\n",
      "  optimality: 1.7821372765966548e-13\n",
      " active_mask: [0 0 0]\n",
      "        nfev: 9\n",
      "        njev: 9\n",
      "Parameter 1: 0.5100000000000002 +/- 0.055703\n",
      "Parameter 2: 7.00000000000003e-05 +/- 0.000018\n",
      "Parameter 3: 0.5000000000000007 +/- 0.211174\n",
      "Correlation matrix:\n",
      "[[ 1.          0.78562111 -0.17134896]\n",
      " [ 0.78562111  1.         -0.29512302]\n",
      " [-0.17134896 -0.29512302  1.        ]]\n",
      "XXXXXXXXXXXXXXXXXXXXXXXXXXXXXXXXXXX\n",
      "     message: `gtol` termination condition is satisfied.\n",
      "     success: True\n",
      "      status: 1\n",
      "         fun: [-6.763e-11  5.107e-12 ... -1.008e-13  2.389e-11]\n",
      "           x: [ 5.100e-01  7.000e-05  5.000e-01]\n",
      "        cost: 1.4638917194003714e-18\n",
      "         jac: [[ 2.728e+00 -8.548e+02  6.628e-02]\n",
      "               [ 2.789e+00 -6.145e+02 -2.264e-02]\n",
      "               ...\n",
      "               [ 1.020e-01  0.000e+00  1.754e-04]\n",
      "               [ 1.293e-01  0.000e+00 -3.136e-02]]\n",
      "        grad: [-2.341e-08  6.345e-05 -2.093e-09]\n",
      "  optimality: 5.384156874034847e-09\n",
      " active_mask: [0 0 0]\n",
      "        nfev: 8\n",
      "        njev: 8\n",
      "Parameter 1: 0.5100000000003198 +/- 0.052222\n",
      "Parameter 2: 7.000000002117903e-05 +/- 0.000030\n",
      "Parameter 3: 0.4999999992396892 +/- 0.626437\n",
      "Correlation matrix:\n",
      "[[1.         0.77439749 0.17169864]\n",
      " [0.77439749 1.         0.1637198 ]\n",
      " [0.17169864 0.1637198  1.        ]]\n",
      "XXXXXXXXXXXXXXXXXXXXXXXXXXXXXXXXXXX\n"
     ]
    }
   ],
   "source": [
    "print(optimized_parameters)\n",
    "optimized_values = optimized_parameters.x\n",
    "cov_matrix = np.linalg.inv(optimized_parameters.jac.T @ optimized_parameters.jac)\n",
    "\n",
    "# Calculate the standard errors of the optimized parameters\n",
    "parameter_errors = np.sqrt(np.diag(cov_matrix))\n",
    "\n",
    "# Print the optimized parameter values and their errors\n",
    "for i, value in enumerate(optimized_values):\n",
    "    print(f\"Parameter {i+1}: {value:} +/- {parameter_errors[i]:.6f}\")\n",
    "\n",
    "\n",
    "# Calculate correlation matrix\n",
    "correlation_matrix = cov_matrix / np.outer(parameter_errors, parameter_errors)\n",
    "\n",
    "print(\"Correlation matrix:\")\n",
    "print(correlation_matrix)\n",
    "print('XXXXXXXXXXXXXXXXXXXXXXXXXXXXXXXXXXX')\n",
    "\n",
    "print(optimized_parameters1)\n",
    "optimized_values1 = optimized_parameters1.x\n",
    "cov_matrix = np.linalg.inv(optimized_parameters1.jac.T @ optimized_parameters1.jac)\n",
    "\n",
    "# Calculate the standard errors of the optimized parameters\n",
    "parameter_errors = np.sqrt(np.diag(cov_matrix))\n",
    "\n",
    "# Print the optimized parameter values and their errors\n",
    "for i, value in enumerate(optimized_values1):\n",
    "    print(f\"Parameter {i+1}: {value:} +/- {parameter_errors[i]:.6f}\")\n",
    "\n",
    "\n",
    "# Calculate correlation matrix\n",
    "correlation_matrix = cov_matrix / np.outer(parameter_errors, parameter_errors)\n",
    "\n",
    "print(\"Correlation matrix:\")\n",
    "print(correlation_matrix)\n",
    "print('XXXXXXXXXXXXXXXXXXXXXXXXXXXXXXXXXXX')"
   ],
   "metadata": {
    "collapsed": false,
    "ExecuteTime": {
     "end_time": "2023-07-24T14:34:48.437067400Z",
     "start_time": "2023-07-24T14:34:48.429759300Z"
    }
   }
  },
  {
   "cell_type": "code",
   "execution_count": 10,
   "outputs": [
    {
     "ename": "KeyboardInterrupt",
     "evalue": "",
     "output_type": "error",
     "traceback": [
      "\u001B[1;31m---------------------------------------------------------------------------\u001B[0m",
      "\u001B[1;31mKeyboardInterrupt\u001B[0m                         Traceback (most recent call last)",
      "Cell \u001B[1;32mIn[10], line 18\u001B[0m\n\u001B[0;32m     16\u001B[0m ax\u001B[38;5;241m.\u001B[39mset_title(\u001B[38;5;124m'\u001B[39m\u001B[38;5;124m'\u001B[39m)\n\u001B[0;32m     17\u001B[0m ax\u001B[38;5;241m.\u001B[39mlegend()\n\u001B[1;32m---> 18\u001B[0m \u001B[43mplt\u001B[49m\u001B[38;5;241;43m.\u001B[39;49m\u001B[43mshow\u001B[49m\u001B[43m(\u001B[49m\u001B[43m)\u001B[49m\n",
      "File \u001B[1;32m~\\AppData\\Local\\Programs\\Python\\Python311\\Lib\\site-packages\\matplotlib\\pyplot.py:421\u001B[0m, in \u001B[0;36mshow\u001B[1;34m(*args, **kwargs)\u001B[0m\n\u001B[0;32m    377\u001B[0m \u001B[38;5;250m\u001B[39m\u001B[38;5;124;03m\"\"\"\u001B[39;00m\n\u001B[0;32m    378\u001B[0m \u001B[38;5;124;03mDisplay all open figures.\u001B[39;00m\n\u001B[0;32m    379\u001B[0m \n\u001B[1;32m   (...)\u001B[0m\n\u001B[0;32m    418\u001B[0m \u001B[38;5;124;03mexplicitly there.\u001B[39;00m\n\u001B[0;32m    419\u001B[0m \u001B[38;5;124;03m\"\"\"\u001B[39;00m\n\u001B[0;32m    420\u001B[0m _warn_if_gui_out_of_main_thread()\n\u001B[1;32m--> 421\u001B[0m \u001B[38;5;28;01mreturn\u001B[39;00m \u001B[43m_get_backend_mod\u001B[49m\u001B[43m(\u001B[49m\u001B[43m)\u001B[49m\u001B[38;5;241;43m.\u001B[39;49m\u001B[43mshow\u001B[49m\u001B[43m(\u001B[49m\u001B[38;5;241;43m*\u001B[39;49m\u001B[43margs\u001B[49m\u001B[43m,\u001B[49m\u001B[43m \u001B[49m\u001B[38;5;241;43m*\u001B[39;49m\u001B[38;5;241;43m*\u001B[39;49m\u001B[43mkwargs\u001B[49m\u001B[43m)\u001B[49m\n",
      "File \u001B[1;32m~\\AppData\\Local\\Programs\\Python\\Python311\\Lib\\site-packages\\matplotlib\\backend_bases.py:3554\u001B[0m, in \u001B[0;36m_Backend.show\u001B[1;34m(cls, block)\u001B[0m\n\u001B[0;32m   3552\u001B[0m     block \u001B[38;5;241m=\u001B[39m \u001B[38;5;129;01mnot\u001B[39;00m ipython_pylab \u001B[38;5;129;01mand\u001B[39;00m \u001B[38;5;129;01mnot\u001B[39;00m is_interactive()\n\u001B[0;32m   3553\u001B[0m \u001B[38;5;28;01mif\u001B[39;00m block:\n\u001B[1;32m-> 3554\u001B[0m     \u001B[38;5;28;43mcls\u001B[39;49m\u001B[38;5;241;43m.\u001B[39;49m\u001B[43mmainloop\u001B[49m\u001B[43m(\u001B[49m\u001B[43m)\u001B[49m\n",
      "File \u001B[1;32m~\\AppData\\Local\\Programs\\Python\\Python311\\Lib\\site-packages\\matplotlib\\backends\\backend_qt.py:1021\u001B[0m, in \u001B[0;36m_BackendQT.mainloop\u001B[1;34m()\u001B[0m\n\u001B[0;32m   1018\u001B[0m \u001B[38;5;129m@staticmethod\u001B[39m\n\u001B[0;32m   1019\u001B[0m \u001B[38;5;28;01mdef\u001B[39;00m \u001B[38;5;21mmainloop\u001B[39m():\n\u001B[0;32m   1020\u001B[0m     qapp \u001B[38;5;241m=\u001B[39m QtWidgets\u001B[38;5;241m.\u001B[39mQApplication\u001B[38;5;241m.\u001B[39minstance()\n\u001B[1;32m-> 1021\u001B[0m \u001B[43m    \u001B[49m\u001B[38;5;28;43;01mwith\u001B[39;49;00m\u001B[43m \u001B[49m\u001B[43m_maybe_allow_interrupt\u001B[49m\u001B[43m(\u001B[49m\u001B[43mqapp\u001B[49m\u001B[43m)\u001B[49m\u001B[43m:\u001B[49m\n\u001B[0;32m   1022\u001B[0m \u001B[43m        \u001B[49m\u001B[43mqt_compat\u001B[49m\u001B[38;5;241;43m.\u001B[39;49m\u001B[43m_exec\u001B[49m\u001B[43m(\u001B[49m\u001B[43mqapp\u001B[49m\u001B[43m)\u001B[49m\n",
      "File \u001B[1;32m~\\AppData\\Local\\Programs\\Python\\Python311\\Lib\\contextlib.py:144\u001B[0m, in \u001B[0;36m_GeneratorContextManager.__exit__\u001B[1;34m(self, typ, value, traceback)\u001B[0m\n\u001B[0;32m    142\u001B[0m \u001B[38;5;28;01mif\u001B[39;00m typ \u001B[38;5;129;01mis\u001B[39;00m \u001B[38;5;28;01mNone\u001B[39;00m:\n\u001B[0;32m    143\u001B[0m     \u001B[38;5;28;01mtry\u001B[39;00m:\n\u001B[1;32m--> 144\u001B[0m         \u001B[38;5;28mnext\u001B[39m(\u001B[38;5;28mself\u001B[39m\u001B[38;5;241m.\u001B[39mgen)\n\u001B[0;32m    145\u001B[0m     \u001B[38;5;28;01mexcept\u001B[39;00m \u001B[38;5;167;01mStopIteration\u001B[39;00m:\n\u001B[0;32m    146\u001B[0m         \u001B[38;5;28;01mreturn\u001B[39;00m \u001B[38;5;28;01mFalse\u001B[39;00m\n",
      "File \u001B[1;32m~\\AppData\\Local\\Programs\\Python\\Python311\\Lib\\site-packages\\matplotlib\\backends\\qt_compat.py:269\u001B[0m, in \u001B[0;36m_maybe_allow_interrupt\u001B[1;34m(qapp)\u001B[0m\n\u001B[0;32m    267\u001B[0m signal\u001B[38;5;241m.\u001B[39msignal(signal\u001B[38;5;241m.\u001B[39mSIGINT, old_sigint_handler)\n\u001B[0;32m    268\u001B[0m \u001B[38;5;28;01mif\u001B[39;00m handler_args \u001B[38;5;129;01mis\u001B[39;00m \u001B[38;5;129;01mnot\u001B[39;00m \u001B[38;5;28;01mNone\u001B[39;00m:\n\u001B[1;32m--> 269\u001B[0m     \u001B[43mold_sigint_handler\u001B[49m\u001B[43m(\u001B[49m\u001B[38;5;241;43m*\u001B[39;49m\u001B[43mhandler_args\u001B[49m\u001B[43m)\u001B[49m\n",
      "\u001B[1;31mKeyboardInterrupt\u001B[0m: "
     ]
    }
   ],
   "source": [
    "mass_fraction = [0,1]\n",
    "\n",
    "e, i, phase = [np.deg2rad(30),np.deg2rad(0.00001),np.deg2rad(30)]\n",
    "angles = [e, i , phase]\n",
    "\n",
    "phi = 0.5\n",
    "D = 0.00007\n",
    "\n",
    "fig, ax = plt.subplots()\n",
    "for i in range(len(mass_fraction)):\n",
    "    ax.plot(wav, hapke.hapke_model_mixed([phi,D,mass_fraction[i]], wav, angles, n_c, k_c,n_a,k_a)['IF'], label = r'$m = $' + str(mass_fraction[i]))\n",
    "ax.plot(wav, hapke.hapke_model([D,phi], wav, angles, n_c, k_c)['IF'], ls = '-.', label = r'Normal C')\n",
    "ax.plot(wav, hapke.hapke_model([D,phi], wav, angles, n_a, k_a)['IF'], ls = '-.', label = r'Normal A')\n",
    "ax.set_xlabel('Wavelength (um)')\n",
    "ax.set_ylabel('I/F')\n",
    "ax.set_title('')\n",
    "ax.legend()\n",
    "plt.show()"
   ],
   "metadata": {
    "collapsed": false,
    "ExecuteTime": {
     "end_time": "2023-07-24T14:44:56.669248Z",
     "start_time": "2023-07-24T14:43:57.174298700Z"
    }
   }
  },
  {
   "cell_type": "code",
   "execution_count": 7,
   "outputs": [],
   "source": [
    "e, i, phase = [np.deg2rad(30),np.deg2rad(0.00001),np.deg2rad(30)]\n",
    "\n",
    "data = np.loadtxt('.\\Lab-4-173.txt')\n",
    "\n",
    "r_lab = np.array(data[:,1])\n",
    "wav_lab = np.array(data[:,0])\n",
    "angles = [e,i,phase]\n",
    "\n",
    "ini_par = [0.00006,0.3]\n",
    "\n",
    "optimized_parameters = optimize.least_squares(\n",
    "    hapke.cost_function, ini_par, args=(wav, angles, r_lab, wav_lab,n_a,k_a,3.1), bounds=([0.000001,0.0], [0.001,0.74], )\n",
    ")\n",
    "optimized_parameters1 = optimize.least_squares(\n",
    "    hapke.cost_function_no_weight, ini_par, args=(wav, angles, r_lab, wav_lab,n_a,k_a,3.1), bounds=([0.000001,0.0], [0.001,0.74], )\n",
    ")"
   ],
   "metadata": {
    "collapsed": false,
    "ExecuteTime": {
     "end_time": "2023-07-24T15:47:50.632488500Z",
     "start_time": "2023-07-24T15:47:49.677601600Z"
    }
   }
  },
  {
   "cell_type": "code",
   "execution_count": 8,
   "outputs": [
    {
     "name": "stdout",
     "output_type": "stream",
     "text": [
      "[8.16886412e-05 4.06791198e-13]\n",
      "[1.28158168e-04 1.56646125e-01]\n",
      "XXXXXXXXXXXXXXXXXXXXXXXXXXXXXXXXXXX\n",
      "Parameter 1: 8.16886412197234e-05 +/- 0.000031\n",
      "Parameter 2: 4.0679119782699397e-13 +/- 0.000687\n",
      "Parameter 1: 0.00012815816756082913 +/- 0.000156\n",
      "Parameter 2: 0.15664612456231017 +/- 0.338786\n"
     ]
    },
    {
     "ename": "KeyboardInterrupt",
     "evalue": "",
     "output_type": "error",
     "traceback": [
      "\u001B[1;31m---------------------------------------------------------------------------\u001B[0m",
      "\u001B[1;31mKeyboardInterrupt\u001B[0m                         Traceback (most recent call last)",
      "Cell \u001B[1;32mIn[8], line 36\u001B[0m\n\u001B[0;32m     34\u001B[0m ax\u001B[38;5;241m.\u001B[39mset_xlim(\u001B[38;5;241m1.1\u001B[39m,\u001B[38;5;241m4\u001B[39m)\n\u001B[0;32m     35\u001B[0m ax\u001B[38;5;241m.\u001B[39mlegend()\n\u001B[1;32m---> 36\u001B[0m \u001B[43mplt\u001B[49m\u001B[38;5;241;43m.\u001B[39;49m\u001B[43mshow\u001B[49m\u001B[43m(\u001B[49m\u001B[43m)\u001B[49m\n",
      "File \u001B[1;32m~\\AppData\\Local\\Programs\\Python\\Python311\\Lib\\site-packages\\matplotlib\\pyplot.py:421\u001B[0m, in \u001B[0;36mshow\u001B[1;34m(*args, **kwargs)\u001B[0m\n\u001B[0;32m    377\u001B[0m \u001B[38;5;250m\u001B[39m\u001B[38;5;124;03m\"\"\"\u001B[39;00m\n\u001B[0;32m    378\u001B[0m \u001B[38;5;124;03mDisplay all open figures.\u001B[39;00m\n\u001B[0;32m    379\u001B[0m \n\u001B[1;32m   (...)\u001B[0m\n\u001B[0;32m    418\u001B[0m \u001B[38;5;124;03mexplicitly there.\u001B[39;00m\n\u001B[0;32m    419\u001B[0m \u001B[38;5;124;03m\"\"\"\u001B[39;00m\n\u001B[0;32m    420\u001B[0m _warn_if_gui_out_of_main_thread()\n\u001B[1;32m--> 421\u001B[0m \u001B[38;5;28;01mreturn\u001B[39;00m \u001B[43m_get_backend_mod\u001B[49m\u001B[43m(\u001B[49m\u001B[43m)\u001B[49m\u001B[38;5;241;43m.\u001B[39;49m\u001B[43mshow\u001B[49m\u001B[43m(\u001B[49m\u001B[38;5;241;43m*\u001B[39;49m\u001B[43margs\u001B[49m\u001B[43m,\u001B[49m\u001B[43m \u001B[49m\u001B[38;5;241;43m*\u001B[39;49m\u001B[38;5;241;43m*\u001B[39;49m\u001B[43mkwargs\u001B[49m\u001B[43m)\u001B[49m\n",
      "File \u001B[1;32m~\\AppData\\Local\\Programs\\Python\\Python311\\Lib\\site-packages\\matplotlib\\backend_bases.py:3554\u001B[0m, in \u001B[0;36m_Backend.show\u001B[1;34m(cls, block)\u001B[0m\n\u001B[0;32m   3552\u001B[0m     block \u001B[38;5;241m=\u001B[39m \u001B[38;5;129;01mnot\u001B[39;00m ipython_pylab \u001B[38;5;129;01mand\u001B[39;00m \u001B[38;5;129;01mnot\u001B[39;00m is_interactive()\n\u001B[0;32m   3553\u001B[0m \u001B[38;5;28;01mif\u001B[39;00m block:\n\u001B[1;32m-> 3554\u001B[0m     \u001B[38;5;28;43mcls\u001B[39;49m\u001B[38;5;241;43m.\u001B[39;49m\u001B[43mmainloop\u001B[49m\u001B[43m(\u001B[49m\u001B[43m)\u001B[49m\n",
      "File \u001B[1;32m~\\AppData\\Local\\Programs\\Python\\Python311\\Lib\\site-packages\\matplotlib\\backends\\backend_qt.py:1021\u001B[0m, in \u001B[0;36m_BackendQT.mainloop\u001B[1;34m()\u001B[0m\n\u001B[0;32m   1018\u001B[0m \u001B[38;5;129m@staticmethod\u001B[39m\n\u001B[0;32m   1019\u001B[0m \u001B[38;5;28;01mdef\u001B[39;00m \u001B[38;5;21mmainloop\u001B[39m():\n\u001B[0;32m   1020\u001B[0m     qapp \u001B[38;5;241m=\u001B[39m QtWidgets\u001B[38;5;241m.\u001B[39mQApplication\u001B[38;5;241m.\u001B[39minstance()\n\u001B[1;32m-> 1021\u001B[0m \u001B[43m    \u001B[49m\u001B[38;5;28;43;01mwith\u001B[39;49;00m\u001B[43m \u001B[49m\u001B[43m_maybe_allow_interrupt\u001B[49m\u001B[43m(\u001B[49m\u001B[43mqapp\u001B[49m\u001B[43m)\u001B[49m\u001B[43m:\u001B[49m\n\u001B[0;32m   1022\u001B[0m \u001B[43m        \u001B[49m\u001B[43mqt_compat\u001B[49m\u001B[38;5;241;43m.\u001B[39;49m\u001B[43m_exec\u001B[49m\u001B[43m(\u001B[49m\u001B[43mqapp\u001B[49m\u001B[43m)\u001B[49m\n",
      "File \u001B[1;32m~\\AppData\\Local\\Programs\\Python\\Python311\\Lib\\contextlib.py:144\u001B[0m, in \u001B[0;36m_GeneratorContextManager.__exit__\u001B[1;34m(self, typ, value, traceback)\u001B[0m\n\u001B[0;32m    142\u001B[0m \u001B[38;5;28;01mif\u001B[39;00m typ \u001B[38;5;129;01mis\u001B[39;00m \u001B[38;5;28;01mNone\u001B[39;00m:\n\u001B[0;32m    143\u001B[0m     \u001B[38;5;28;01mtry\u001B[39;00m:\n\u001B[1;32m--> 144\u001B[0m         \u001B[38;5;28mnext\u001B[39m(\u001B[38;5;28mself\u001B[39m\u001B[38;5;241m.\u001B[39mgen)\n\u001B[0;32m    145\u001B[0m     \u001B[38;5;28;01mexcept\u001B[39;00m \u001B[38;5;167;01mStopIteration\u001B[39;00m:\n\u001B[0;32m    146\u001B[0m         \u001B[38;5;28;01mreturn\u001B[39;00m \u001B[38;5;28;01mFalse\u001B[39;00m\n",
      "File \u001B[1;32m~\\AppData\\Local\\Programs\\Python\\Python311\\Lib\\site-packages\\matplotlib\\backends\\qt_compat.py:269\u001B[0m, in \u001B[0;36m_maybe_allow_interrupt\u001B[1;34m(qapp)\u001B[0m\n\u001B[0;32m    267\u001B[0m signal\u001B[38;5;241m.\u001B[39msignal(signal\u001B[38;5;241m.\u001B[39mSIGINT, old_sigint_handler)\n\u001B[0;32m    268\u001B[0m \u001B[38;5;28;01mif\u001B[39;00m handler_args \u001B[38;5;129;01mis\u001B[39;00m \u001B[38;5;129;01mnot\u001B[39;00m \u001B[38;5;28;01mNone\u001B[39;00m:\n\u001B[1;32m--> 269\u001B[0m     \u001B[43mold_sigint_handler\u001B[49m\u001B[43m(\u001B[49m\u001B[38;5;241;43m*\u001B[39;49m\u001B[43mhandler_args\u001B[49m\u001B[43m)\u001B[49m\n",
      "\u001B[1;31mKeyboardInterrupt\u001B[0m: "
     ]
    }
   ],
   "source": [
    "optimized_values = optimized_parameters.x\n",
    "optimized_values1 = optimized_parameters1.x\n",
    "print(optimized_values)\n",
    "print(optimized_values1)\n",
    "print('XXXXXXXXXXXXXXXXXXXXXXXXXXXXXXXXXXX')\n",
    "# Retrieve the covariance matrix\n",
    "\n",
    "\n",
    "cov_matrix = np.linalg.inv(optimized_parameters.jac.T @ optimized_parameters.jac)\n",
    "\n",
    "# Calculate the standard errors of the optimized parameters\n",
    "parameter_errors = np.sqrt(np.diag(cov_matrix))\n",
    "\n",
    "# Print the optimized parameter values and their errors\n",
    "for i, value in enumerate(optimized_values):\n",
    "    print(f\"Parameter {i+1}: {value:} +/- {parameter_errors[i]:.6f}\")\n",
    "\n",
    "cov_matrix = np.linalg.inv(optimized_parameters1.jac.T @ optimized_parameters1.jac)\n",
    "\n",
    "# Calculate the standard errors of the optimized parameters\n",
    "parameter_errors = np.sqrt(np.diag(cov_matrix))\n",
    "\n",
    "# Print the optimized parameter values and their errors\n",
    "for i, value in enumerate(optimized_values1):\n",
    "    print(f\"Parameter {i+1}: {value:} +/- {parameter_errors[i]:.6f}\")\n",
    "\n",
    "fig, ax = plt.subplots()\n",
    "ax.plot(wav_lab, r_lab, label = 'r_lab')\n",
    "ax.plot(wav, hapke.hapke_model(optimized_values, wav, angles, n_a, k_a)['IF'], label = 'IF_opt')\n",
    "ax.plot(wav, hapke.hapke_model(optimized_values1, wav, angles, n_a, k_a)['IF'], label = 'no_weight')\n",
    "ax.set_xlabel('Wavelength (um)')\n",
    "ax.set_ylabel('I/F')\n",
    "ax.set_title('')\n",
    "ax.set_xlim(1.1,4)\n",
    "ax.legend()\n",
    "plt.show()"
   ],
   "metadata": {
    "collapsed": false,
    "ExecuteTime": {
     "end_time": "2023-07-24T15:48:15.852120Z",
     "start_time": "2023-07-24T15:47:51.787092200Z"
    }
   }
  },
  {
   "cell_type": "code",
   "execution_count": null,
   "outputs": [],
   "source": [
    "real_p = [0.51, np.deg2rad(20)]\n",
    "phi_real, theta_bar = real_p\n",
    "\n",
    "e, i, phase = [np.deg2rad(30),np.deg2rad(0.00001),np.deg2rad(30)]\n",
    "angles = [e,i,phase]\n",
    "\n",
    "IF_obj = hapke.hapke_model(real_p,wav,angles,n,k)['IF']\n",
    "phi_range = np.linspace(0.01,0.74,40)\n",
    "theta_range = np.linspace(0.001,45,40)\n",
    "\n",
    "residuals = np.zeros((len(phi_range),len(theta_range)))\n",
    "\n",
    "#for i in range(len(phi_range)):\n",
    "#    for j in range(len(D_range)):\n",
    "#        param = [phi_range[i], D_range[j]]\n",
    "#        residuals[i,j] = np.linalg.norm(hapke.cost_function(param,wav,angles,IF_obj,wav,n,k,3.1))\n",
    "for i in range(len(phi_range)):\n",
    "    for j in range(len(theta_range)):\n",
    "        param = [phi_range[i], np.deg2rad(theta_range[j])]\n",
    "        residuals[i,j] = np.linalg.norm((IF_obj - hapke.hapke_model(param,wav,angles,n,k)['IF'])/IF_obj)"
   ],
   "metadata": {
    "collapsed": false
   }
  },
  {
   "cell_type": "code",
   "execution_count": null,
   "outputs": [],
   "source": [
    "phi_range, theta_range = np.meshgrid(phi_range, theta_range)\n",
    "# Define the data\n",
    "\n",
    "# Create a 3D plot\n",
    "fig = plt.figure()\n",
    "ax = fig.add_subplot(111, projection='3d')\n",
    "ax.scatter(0.51,20, color = 'green', label = 'Real solution' )\n",
    "ax.plot_surface(phi_range, theta_range, residuals.T, cmap='viridis')\n",
    "\n",
    "# Set labels and title\n",
    "ax.legend()\n",
    "ax.set_xlabel(r'$\\phi$ [-]')\n",
    "ax.set_ylabel(r'$\\bar{\\theta}$ [deg]')\n",
    "ax.set_zlabel('Residuals')\n",
    "\n",
    "# Show the plot\n",
    "plt.show()"
   ],
   "metadata": {
    "collapsed": false
   }
  },
  {
   "cell_type": "code",
   "execution_count": null,
   "outputs": [],
   "source": [
    "# COMPARISON WITH LAB DATA\n",
    "\n",
    "e, i, phase = [np.deg2rad(30),np.deg2rad(0.00001),np.deg2rad(30)]\n",
    "angles = [e,i,phase]\n",
    "\n",
    "data = np.loadtxt('.\\LabWork3.txt')\n",
    "\n",
    "r_lab = np.array(data[:,1])\n",
    "wav_lab = np.array(data[:,0]) / 1000\n",
    "max_w = 3.1\n",
    "real_par = [0.00007,np.deg2rad(20)]\n",
    "\n",
    "theta_range = np.linspace(0.01,80,20)\n",
    "D_range = np.linspace(0.000001,0.001,20) * 1000000\n",
    "\n",
    "residuals = np.zeros((len(D_range),len(theta_range)))\n",
    "\n",
    "\n",
    "interp_func_2 = interp1d(wav_lab, r_lab, bounds_error=False)\n",
    "\n",
    "interpolated_lab = interp_func_2(wav)\n",
    "\n",
    "for i in range(len(D_range)):\n",
    "    for j in range(len(theta_range)):\n",
    "        param = [D_range[j] / 1000000, np.deg2rad(theta_range[i])]\n",
    "        dif = (interpolated_lab - hapke.hapke_model(param,wav,angles,n,k)['IF']) / interpolated_lab\n",
    "        dif = dif[~np.isnan(dif)]\n",
    "        residuals[i,j] = np.linalg.norm(dif)"
   ],
   "metadata": {
    "collapsed": false
   }
  },
  {
   "cell_type": "code",
   "execution_count": null,
   "outputs": [],
   "source": [
    "D_range, theta_range = np.meshgrid(D_range, theta_range)\n",
    "# Define the data\n",
    "\n",
    "# Create a 3D plot\n",
    "fig = plt.figure()\n",
    "ax = fig.add_subplot(111, projection='3d')\n",
    "ax.plot_surface(D_range, theta_range, residuals.T, cmap='viridis')\n",
    "#ax.scatter(0.51,73,0.0, c = 'green', label = 'Real solution' )\n",
    "# Set labels and title\n",
    "ax.legend()\n",
    "ax.set_xlabel(r'D [$\\mu$m]')\n",
    "ax.set_ylabel(r'$\\theta$')\n",
    "ax.set_zlabel('Residuals')\n",
    "ax.set_title('Lab')\n",
    "\n",
    "# Show the plot\n",
    "plt.show()"
   ],
   "metadata": {
    "collapsed": false
   }
  },
  {
   "cell_type": "code",
   "execution_count": null,
   "outputs": [],
   "source": [],
   "metadata": {
    "collapsed": false
   }
  }
 ],
 "metadata": {
  "kernelspec": {
   "display_name": "Python 3 (ipykernel)",
   "language": "python",
   "name": "python3"
  },
  "language_info": {
   "codemirror_mode": {
    "name": "ipython",
    "version": 3
   },
   "file_extension": ".py",
   "mimetype": "text/x-python",
   "name": "python",
   "nbconvert_exporter": "python",
   "pygments_lexer": "ipython3",
   "version": "3.11.3"
  }
 },
 "nbformat": 4,
 "nbformat_minor": 5
}
