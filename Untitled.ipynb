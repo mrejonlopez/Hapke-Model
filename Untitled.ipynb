{
 "cells": [
  {
   "cell_type": "code",
   "execution_count": 1,
   "id": "a4efd8c2",
   "metadata": {
    "ExecuteTime": {
     "end_time": "2023-06-20T16:30:34.039435200Z",
     "start_time": "2023-06-20T16:30:32.579472800Z"
    }
   },
   "outputs": [],
   "source": [
    "import numpy as np\n",
    "import hapke\n",
    "import matplotlib.pyplot as plt\n",
    "from scipy import optimize\n",
    "import os\n",
    "import shutil\n",
    "from pyvims import VIMS"
   ]
  },
  {
   "cell_type": "code",
   "execution_count": 2,
   "outputs": [],
   "source": [
    "T = 80\n",
    "\n",
    "n = hapke.opticalconstants(T)['n']\n",
    "k = hapke.opticalconstants(T)['k']\n",
    "wav = hapke.opticalconstants(T)['wav']\n",
    "\n",
    "n2 = hapke.opticalconstants(T,crystallinity=False)['n']\n",
    "k2 = hapke.opticalconstants(T,crystallinity=False)['k']\n",
    "wav2 = hapke.opticalconstants(T,crystallinity=False)['wav']\n",
    "\n",
    "int_opt = hapke.inter_optical_constants(wav, wav2, n, k)\n",
    "\n",
    "wav1 = np.array(int_opt['wav'])\n",
    "n = int_opt['n']\n",
    "k = int_opt['k']"
   ],
   "metadata": {
    "collapsed": false,
    "ExecuteTime": {
     "end_time": "2023-06-20T16:30:34.147460500Z",
     "start_time": "2023-06-20T16:30:34.039435200Z"
    }
   }
  },
  {
   "cell_type": "code",
   "execution_count": 3,
   "id": "4f97ce05",
   "metadata": {
    "scrolled": true,
    "ExecuteTime": {
     "end_time": "2023-06-20T16:30:52.928056500Z",
     "start_time": "2023-06-20T16:30:36.839780800Z"
    }
   },
   "outputs": [],
   "source": [
    "e, i, phase = [np.deg2rad(50),np.deg2rad(70),np.deg2rad(120)]\n",
    "\n",
    "angles = [e,i,phase]\n",
    "\n",
    "parameters = [0.30, 0.00001, 0.3]\n",
    "\n",
    "IF1 = hapke.hapke_model_mixed_no_shoe(parameters,wav1,angles,n,k,n2,k2)['IF']\n",
    "\n",
    "ini_par = [0.10, 0.0005, 0.0]\n",
    "\n",
    "optimized_parameters = optimize.least_squares(\n",
    "    hapke.cost_function_mixed, ini_par, args=(wav1, angles, IF1, wav1,n,k,n2,k2), bounds=([0.0,0.0,0.0], [0.75,0.001,1.0], )\n",
    ")"
   ]
  },
  {
   "cell_type": "code",
   "execution_count": 4,
   "outputs": [
    {
     "name": "stdout",
     "output_type": "stream",
     "text": [
      "Parameter 1: 0.3000000000000062 +/- 0.051864\n",
      "Parameter 2: 1.0000000000002245e-05 +/- 0.000004\n",
      "Parameter 3: 0.2999999999999989 +/- 0.461349\n",
      "Correlation matrix:\n",
      "[[1.         0.63857883 0.07674008]\n",
      " [0.63857883 1.         0.14125731]\n",
      " [0.07674008 0.14125731 1.        ]]\n"
     ]
    }
   ],
   "source": [
    "optimized_values = optimized_parameters.x\n",
    "\n",
    "optimized_values = optimized_parameters.x\n",
    "\n",
    "# Retrieve the covariance matrix\n",
    "cov_matrix = np.linalg.inv(optimized_parameters.jac.T @ optimized_parameters.jac)\n",
    "\n",
    "# Calculate the standard errors of the optimized parameters\n",
    "parameter_errors = np.sqrt(np.diag(cov_matrix))\n",
    "\n",
    "# Print the optimized parameter values and their errors\n",
    "for i, value in enumerate(optimized_values):\n",
    "    print(f\"Parameter {i+1}: {value:} +/- {parameter_errors[i]:.6f}\")\n",
    "\n",
    "# Calculate correlation matrix\n",
    "correlation_matrix = cov_matrix / np.outer(parameter_errors, parameter_errors)\n",
    "\n",
    "print(\"Correlation matrix:\")\n",
    "print(correlation_matrix)"
   ],
   "metadata": {
    "collapsed": false,
    "ExecuteTime": {
     "end_time": "2023-06-20T16:31:11.484457200Z",
     "start_time": "2023-06-20T16:31:11.466329300Z"
    }
   }
  },
  {
   "cell_type": "code",
   "execution_count": null,
   "outputs": [],
   "source": [],
   "metadata": {
    "collapsed": false
   }
  },
  {
   "cell_type": "code",
   "execution_count": null,
   "outputs": [],
   "source": [
    "pixel1 = cube@(36, 15)\n",
    "\n",
    "i = np.deg2rad(pixel1.inc)\n",
    "e = np.deg2rad(pixel1.eme)\n",
    "g = np.deg2rad(pixel1.phase)\n",
    "\n",
    "IF1 = pixel1.spectrum\n",
    "wav1 = pixel1.wvlns\n",
    "\n",
    "gamma = np.arctan((np.cos(i))/(np.cos(e)*np.sin(g)) - 1 / np.tan(g))\n",
    "beta = np.cos(e)/np.cos(gamma)\n",
    "\n",
    "disk_f = np.cos(g/2)*np.cos((np.pi/(np.pi-g))*(gamma-g/2))*beta**(g/(np.pi-g))/np.cos(gamma)\n",
    "albedo1 = IF1/(disk_f*(1-0.3651*g))\n",
    "\n",
    "print(pixel1.inc,pixel1.eme,pixel1.phase)\n",
    "\n",
    "################################\n",
    "\n",
    "pixel2 = cube@(27, 30)\n",
    "i = np.deg2rad(pixel2.inc)\n",
    "e = np.deg2rad(pixel2.eme)\n",
    "g = np.deg2rad(pixel2.phase)\n",
    "\n",
    "IF2 = pixel2.spectrum\n",
    "wav2 = pixel2.wvlns\n",
    "\n",
    "gamma = np.arctan((np.cos(i))/(np.cos(e)*np.sin(g)) - 1 / np.tan(g))\n",
    "beta = np.cos(e)/np.cos(gamma)\n",
    "\n",
    "disk_f = np.cos(g/2)*np.cos((np.pi/(np.pi-g))*(gamma-g/2))*beta**(g/(np.pi-g))/np.cos(gamma)\n",
    "albedo2 = IF2/(disk_f*(1-0.3651*g))\n",
    "print(pixel2.inc,pixel2.eme,pixel2.phase)\n",
    "################################\n",
    "\n",
    "fig, ax = plt.subplots()\n",
    "ax.plot(wav1, IF1, label = 'IF1')\n",
    "#ax.plot(wav1, albedo1, label = 'Albedo1', ls='-.')\n",
    "ax.plot(wav2, IF2, label = 'IF2')\n",
    "#ax.plot(wav2, albedo2, label = 'Albedo2', ls='--')\n",
    "ax.set_xlabel('Wavelength (um)')\n",
    "ax.set_ylabel('I/F')\n",
    "ax.set_title('')\n",
    "ax.legend()\n",
    "plt.show()"
   ],
   "metadata": {
    "collapsed": false
   }
  },
  {
   "cell_type": "code",
   "execution_count": null,
   "outputs": [],
   "source": [],
   "metadata": {
    "collapsed": false
   }
  }
 ],
 "metadata": {
  "kernelspec": {
   "display_name": "Python 3 (ipykernel)",
   "language": "python",
   "name": "python3"
  },
  "language_info": {
   "codemirror_mode": {
    "name": "ipython",
    "version": 3
   },
   "file_extension": ".py",
   "mimetype": "text/x-python",
   "name": "python",
   "nbconvert_exporter": "python",
   "pygments_lexer": "ipython3",
   "version": "3.11.3"
  }
 },
 "nbformat": 4,
 "nbformat_minor": 5
}
