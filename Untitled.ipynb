{
 "cells": [
  {
   "cell_type": "code",
   "execution_count": null,
   "id": "a4efd8c2",
   "metadata": {},
   "outputs": [],
   "source": [
    "import numpy as np\n",
    "import os\n",
    "import shutil\n",
    "import matplotlib.pyplot as plt\n",
    "import hapke\n",
    "\n",
    "from pyvims import VIMS"
   ]
  },
  {
   "cell_type": "code",
   "execution_count": null,
   "id": "4f97ce05",
   "metadata": {
    "scrolled": true
   },
   "outputs": [],
   "source": [
    "# DOWNLOAD THE CUBE AND ALLOCATE IT TO THE RIGHT FOLDER\n",
    "\n",
    "cube_id = '1671591682_1'\n",
    "\n",
    "directory = 'C:/Users/USUARIO/Desktop/MSc Thesis/Phase A - Data Analysis/Data/'\n",
    "cube = VIMS(cube_id,root=directory)\n",
    "\n",
    "origin = directory + cube.fname\n",
    "destination = directory + cube.target_name + '/' + str(cube.flyby)\n",
    "\n",
    "# If the folder does not exist, create it\n",
    "\n",
    "if not os.path.exists(destination):\n",
    "    os.mkdir(destination)\n",
    "    print(\"New folder created\")\n",
    "\n",
    "if os.path.exists(destination + '/' + cube.fname):\n",
    "    print(\"Existing Cube\")\n",
    "else:\n",
    "    shutil.move(origin, destination)\n",
    "\n",
    "print(\"Cube saved in: \" + destination)\n",
    "\n",
    "cube"
   ]
  },
  {
   "cell_type": "code",
   "execution_count": null,
   "outputs": [],
   "source": [
    "plt.figure(figsize=(12, 8))\n",
    "\n",
    "plt.imshow(cube@2.03, extent=cube.extent, cmap='gray', vmin=0, vmax=.18)\n",
    "\n",
    "plt.colorbar(extend='max', label='I/F')\n",
    "\n",
    "plt.scatter(36, 15, s=150)\n",
    "plt.scatter(27, 30, s=150)\n",
    "\n",
    "plt.xlabel(cube.slabel)\n",
    "plt.ylabel(cube.llabel)\n",
    "\n",
    "plt.xticks(cube.sticks)\n",
    "plt.yticks(cube.lticks);"
   ],
   "metadata": {
    "collapsed": false
   }
  },
  {
   "cell_type": "code",
   "execution_count": null,
   "outputs": [],
   "source": [
    "cube.plot(2.03, 'equi');"
   ],
   "metadata": {
    "collapsed": false
   }
  },
  {
   "cell_type": "code",
   "execution_count": null,
   "outputs": [],
   "source": [
    "pixel1 = cube@(36, 15)\n",
    "\n",
    "i = np.deg2rad(pixel1.inc)\n",
    "e = np.deg2rad(pixel1.eme)\n",
    "g = np.deg2rad(pixel1.phase)\n",
    "\n",
    "IF1 = pixel1.spectrum\n",
    "wav1 = pixel1.wvlns\n",
    "\n",
    "gamma = np.arctan((np.cos(i))/(np.cos(e)*np.sin(g)) - 1 / np.tan(g))\n",
    "beta = np.cos(e)/np.cos(gamma)\n",
    "\n",
    "disk_f = np.cos(g/2)*np.cos((np.pi/(np.pi-g))*(gamma-g/2))*beta**(g/(np.pi-g))/np.cos(gamma)\n",
    "albedo1 = IF1/(disk_f*(1-0.3651*g))\n",
    "\n",
    "print(pixel1.inc,pixel1.eme,pixel1.phase)\n",
    "\n",
    "################################\n",
    "\n",
    "pixel2 = cube@(27, 30)\n",
    "i = np.deg2rad(pixel2.inc)\n",
    "e = np.deg2rad(pixel2.eme)\n",
    "g = np.deg2rad(pixel2.phase)\n",
    "\n",
    "IF2 = pixel2.spectrum\n",
    "wav2 = pixel2.wvlns\n",
    "\n",
    "gamma = np.arctan((np.cos(i))/(np.cos(e)*np.sin(g)) - 1 / np.tan(g))\n",
    "beta = np.cos(e)/np.cos(gamma)\n",
    "\n",
    "disk_f = np.cos(g/2)*np.cos((np.pi/(np.pi-g))*(gamma-g/2))*beta**(g/(np.pi-g))/np.cos(gamma)\n",
    "albedo2 = IF2/(disk_f*(1-0.3651*g))\n",
    "print(pixel2.inc,pixel2.eme,pixel2.phase)\n",
    "################################\n",
    "\n",
    "fig, ax = plt.subplots()\n",
    "ax.plot(wav1, IF1, label = 'IF1')\n",
    "#ax.plot(wav1, albedo1, label = 'Albedo1', ls='-.')\n",
    "ax.plot(wav2, IF2, label = 'IF2')\n",
    "#ax.plot(wav2, albedo2, label = 'Albedo2', ls='--')\n",
    "ax.set_xlabel('Wavelength (um)')\n",
    "ax.set_ylabel('I/F')\n",
    "ax.set_title('')\n",
    "ax.legend()\n",
    "plt.show()"
   ],
   "metadata": {
    "collapsed": false
   }
  },
  {
   "cell_type": "code",
   "execution_count": null,
   "outputs": [],
   "source": [],
   "metadata": {
    "collapsed": false
   }
  }
 ],
 "metadata": {
  "kernelspec": {
   "display_name": "Python 3 (ipykernel)",
   "language": "python",
   "name": "python3"
  },
  "language_info": {
   "codemirror_mode": {
    "name": "ipython",
    "version": 3
   },
   "file_extension": ".py",
   "mimetype": "text/x-python",
   "name": "python",
   "nbconvert_exporter": "python",
   "pygments_lexer": "ipython3",
   "version": "3.11.3"
  }
 },
 "nbformat": 4,
 "nbformat_minor": 5
}
